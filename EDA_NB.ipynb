{
 "cells": [
  {
   "cell_type": "markdown",
   "id": "2dc53171-b635-471d-a044-54129e9dd720",
   "metadata": {},
   "source": [
    "## EDA Notebook"
   ]
  },
  {
   "cell_type": "code",
   "execution_count": 1,
   "id": "e7da05d0-65dd-4620-ae13-eae74033ba7e",
   "metadata": {},
   "outputs": [],
   "source": [
    "import pandas as pd\n",
    "import numpy as np\n",
    "import seaborn as sns\n",
    "import matplotlib.pyplot as plt\n",
    "import pickle\n",
    "#Importing necessary packages and libraries\n",
    "import nltk\n",
    "from sklearn.feature_extraction.text import CountVectorizer\n",
    "from sklearn.feature_extraction.text import TfidfVectorizer\n",
    "from sklearn.feature_extraction.text import TfidfTransformer\n",
    "from nltk.probability import FreqDist\n",
    "from nltk.corpus import stopwords\n",
    "from nltk.stem import PorterStemmer\n",
    "from sklearn.metrics import confusion_matrix\n",
    "from sklearn.naive_bayes import MultinomialNB\n",
    "from sklearn import metrics\n",
    "from sklearn.model_selection import train_test_split\n",
    "from matplotlib import cm\n",
    "from sklearn.ensemble import RandomForestClassifier\n",
    "from sklearn.metrics import accuracy_score\n",
    "from sklearn.metrics import f1_score\n",
    "from sklearn.naive_bayes import MultinomialNB"
   ]
  },
  {
   "cell_type": "code",
   "execution_count": 2,
   "id": "f194a513-49b8-4b2a-acb6-320ab08637fb",
   "metadata": {},
   "outputs": [],
   "source": [
    "#loading downloaded data\n",
    "df=pd.read_json('~/Downloads/reviews_Electronics_5.json', lines=True)"
   ]
  },
  {
   "cell_type": "markdown",
   "id": "7aeb82bf-99dd-4bc3-9cce-e8473016be2f",
   "metadata": {},
   "source": [
    "### Loading pickled webscraping files"
   ]
  },
  {
   "cell_type": "code",
   "execution_count": 3,
   "id": "ff16703e-9456-414f-92cb-f0dcf0e1605b",
   "metadata": {},
   "outputs": [],
   "source": [
    "\n",
    "with open('stuff.pickle', 'rb') as file:\n",
    "      \n",
    "    # Call load method to deserialze\n",
    "    stuff = pickle.load(file)\n",
    "with open('links.pickle', 'rb') as file:\n",
    "      \n",
    "    # Call load method to deserialze\n",
    "    links = pickle.load(file)"
   ]
  },
  {
   "cell_type": "code",
   "execution_count": 4,
   "id": "0bbf7f96-4fc7-47f4-b84b-f2034297e6d8",
   "metadata": {},
   "outputs": [],
   "source": [
    "with open('stuff1.pickle', 'rb') as file:\n",
    "      \n",
    "    # Call load method to deserialze\n",
    "    stuff1 = pickle.load(file)\n",
    "with open('links1.pickle', 'rb') as file:\n",
    "      \n",
    "    # Call load method to deserialze\n",
    "    links1 = pickle.load(file)"
   ]
  },
  {
   "cell_type": "code",
   "execution_count": 5,
   "id": "d746e463-09a9-414e-802e-69aea29322ba",
   "metadata": {},
   "outputs": [],
   "source": [
    "import pickle\n",
    "with open('stuff2.pickle', 'rb') as file:\n",
    "      \n",
    "    # Call load method to deserialze\n",
    "    stuff2 = pickle.load(file)\n",
    "with open('links2.pickle', 'rb') as file:\n",
    "      \n",
    "    # Call load method to deserialze\n",
    "    links2 = pickle.load(file)"
   ]
  },
  {
   "cell_type": "markdown",
   "id": "0c8b4355-4d99-42b2-b17f-f4084713077d",
   "metadata": {},
   "source": [
    "### Combining all the data"
   ]
  },
  {
   "cell_type": "code",
   "execution_count": 6,
   "id": "4e20a8d5-0fab-49dd-8e25-e86f80cbe0ef",
   "metadata": {},
   "outputs": [],
   "source": [
    "#turning lists into series\n",
    "df1= pd.Series(links)\n",
    "df2=pd.Series(links1)\n",
    "df3=pd.Series(links2)"
   ]
  },
  {
   "cell_type": "code",
   "execution_count": 7,
   "id": "8413ef3d-58a2-4179-85c6-b5a39967e28b",
   "metadata": {},
   "outputs": [
    {
     "data": {
      "text/html": [
       "<div>\n",
       "<style scoped>\n",
       "    .dataframe tbody tr th:only-of-type {\n",
       "        vertical-align: middle;\n",
       "    }\n",
       "\n",
       "    .dataframe tbody tr th {\n",
       "        vertical-align: top;\n",
       "    }\n",
       "\n",
       "    .dataframe thead th {\n",
       "        text-align: right;\n",
       "    }\n",
       "</style>\n",
       "<table border=\"1\" class=\"dataframe\">\n",
       "  <thead>\n",
       "    <tr style=\"text-align: right;\">\n",
       "      <th></th>\n",
       "      <th>0</th>\n",
       "      <th>1</th>\n",
       "    </tr>\n",
       "  </thead>\n",
       "  <tbody>\n",
       "    <tr>\n",
       "      <th>0</th>\n",
       "      <td>0528881469</td>\n",
       "      <td>Rand McNally 528881469 7-inch Intelliroute TND...</td>\n",
       "    </tr>\n",
       "    <tr>\n",
       "      <th>1</th>\n",
       "      <td>0594451647</td>\n",
       "      <td>Barnes &amp; Noble HDTV Adapter Kit for NOOK HD an...</td>\n",
       "    </tr>\n",
       "    <tr>\n",
       "      <th>2</th>\n",
       "      <td>0594481813</td>\n",
       "      <td>Barnes &amp; Noble OV/HB Universal Power Kit for N...</td>\n",
       "    </tr>\n",
       "    <tr>\n",
       "      <th>3</th>\n",
       "      <td>0972683275</td>\n",
       "      <td>VideoSecu 24\" Long Arm TV Wall Mount Low Profi...</td>\n",
       "    </tr>\n",
       "    <tr>\n",
       "      <th>4</th>\n",
       "      <td>1400501466</td>\n",
       "      <td>Barnes &amp; Noble NOOK Tablet 16gb (Color, BNTV250)</td>\n",
       "    </tr>\n",
       "    <tr>\n",
       "      <th>...</th>\n",
       "      <td>...</td>\n",
       "      <td>...</td>\n",
       "    </tr>\n",
       "    <tr>\n",
       "      <th>9418</th>\n",
       "      <td>B000IMC16G</td>\n",
       "      <td>Scosche IPNRFC Wireless Car RF Remote for iPod</td>\n",
       "    </tr>\n",
       "    <tr>\n",
       "      <th>9419</th>\n",
       "      <td>B000IMDPS4</td>\n",
       "      <td>Opteka Microfiber Deluxe Photo/Video Camera Ga...</td>\n",
       "    </tr>\n",
       "    <tr>\n",
       "      <th>9420</th>\n",
       "      <td>B000IMFOZQ</td>\n",
       "      <td>SCOSCHE I635 Hookup 3.5mm Auxiliary Audio Cabl...</td>\n",
       "    </tr>\n",
       "    <tr>\n",
       "      <th>9421</th>\n",
       "      <td>B000IMK9FG</td>\n",
       "      <td>Opteka 500mm f/8 High Definition Telephoto Mir...</td>\n",
       "    </tr>\n",
       "    <tr>\n",
       "      <th>9422</th>\n",
       "      <td>B000IMRTFO</td>\n",
       "      <td>Opteka 650-1300mm f/8 HD Telephoto Zoom Lens f...</td>\n",
       "    </tr>\n",
       "  </tbody>\n",
       "</table>\n",
       "<p>9423 rows × 2 columns</p>\n",
       "</div>"
      ],
      "text/plain": [
       "               0                                                  1\n",
       "0     0528881469  Rand McNally 528881469 7-inch Intelliroute TND...\n",
       "1     0594451647  Barnes & Noble HDTV Adapter Kit for NOOK HD an...\n",
       "2     0594481813  Barnes & Noble OV/HB Universal Power Kit for N...\n",
       "3     0972683275  VideoSecu 24\" Long Arm TV Wall Mount Low Profi...\n",
       "4     1400501466   Barnes & Noble NOOK Tablet 16gb (Color, BNTV250)\n",
       "...          ...                                                ...\n",
       "9418  B000IMC16G     Scosche IPNRFC Wireless Car RF Remote for iPod\n",
       "9419  B000IMDPS4  Opteka Microfiber Deluxe Photo/Video Camera Ga...\n",
       "9420  B000IMFOZQ  SCOSCHE I635 Hookup 3.5mm Auxiliary Audio Cabl...\n",
       "9421  B000IMK9FG  Opteka 500mm f/8 High Definition Telephoto Mir...\n",
       "9422  B000IMRTFO  Opteka 650-1300mm f/8 HD Telephoto Zoom Lens f...\n",
       "\n",
       "[9423 rows x 2 columns]"
      ]
     },
     "execution_count": 7,
     "metadata": {},
     "output_type": "execute_result"
    }
   ],
   "source": [
    "#getting asin from links for common merge column\n",
    "df1= pd.Series(df1[i][-10:] for i in range(len(df1)))\n",
    "stuff=pd.Series(stuff)\n",
    "frame1=pd.concat([df1,stuff],axis=1)\n",
    "frame1"
   ]
  },
  {
   "cell_type": "code",
   "execution_count": 8,
   "id": "28db9280-ee88-4fee-aa7f-e918381c1fdc",
   "metadata": {},
   "outputs": [
    {
     "data": {
      "text/html": [
       "<div>\n",
       "<style scoped>\n",
       "    .dataframe tbody tr th:only-of-type {\n",
       "        vertical-align: middle;\n",
       "    }\n",
       "\n",
       "    .dataframe tbody tr th {\n",
       "        vertical-align: top;\n",
       "    }\n",
       "\n",
       "    .dataframe thead th {\n",
       "        text-align: right;\n",
       "    }\n",
       "</style>\n",
       "<table border=\"1\" class=\"dataframe\">\n",
       "  <thead>\n",
       "    <tr style=\"text-align: right;\">\n",
       "      <th></th>\n",
       "      <th>0</th>\n",
       "      <th>1</th>\n",
       "    </tr>\n",
       "  </thead>\n",
       "  <tbody>\n",
       "    <tr>\n",
       "      <th>0</th>\n",
       "      <td>B000IMRTFO</td>\n",
       "      <td>Opteka 650-1300mm f/8 HD Telephoto Zoom Lens f...</td>\n",
       "    </tr>\n",
       "    <tr>\n",
       "      <th>1</th>\n",
       "      <td>B000IMSGC4</td>\n",
       "      <td>Itrip Auto Universal</td>\n",
       "    </tr>\n",
       "    <tr>\n",
       "      <th>2</th>\n",
       "      <td>B000IMSK8Y</td>\n",
       "      <td>Logitech Harmony 670 Universal Remote (Discont...</td>\n",
       "    </tr>\n",
       "    <tr>\n",
       "      <th>3</th>\n",
       "      <td>B000IMWEHM</td>\n",
       "      <td>HP PD0800 Pocket Media Drive 80 GB USB 2.0 Por...</td>\n",
       "    </tr>\n",
       "    <tr>\n",
       "      <th>4</th>\n",
       "      <td>B000IMWI00</td>\n",
       "      <td>HP MV2010 Media Vault 300 GB External Hard Drive</td>\n",
       "    </tr>\n",
       "    <tr>\n",
       "      <th>...</th>\n",
       "      <td>...</td>\n",
       "      <td>...</td>\n",
       "    </tr>\n",
       "    <tr>\n",
       "      <th>8611</th>\n",
       "      <td>B001OD76SG</td>\n",
       "      <td>Acer X233H bid 23-Inch LCD Monitor</td>\n",
       "    </tr>\n",
       "    <tr>\n",
       "      <th>8612</th>\n",
       "      <td>B001ODKN36</td>\n",
       "      <td>StarTech.com Mini DVI to VGA Video Cable Adapt...</td>\n",
       "    </tr>\n",
       "    <tr>\n",
       "      <th>8613</th>\n",
       "      <td>B001ODNBDK</td>\n",
       "      <td>StarTech.com Mini DVI to HDMI Video Adapter fo...</td>\n",
       "    </tr>\n",
       "    <tr>\n",
       "      <th>8614</th>\n",
       "      <td>B001ODOL3Y</td>\n",
       "      <td>Coby TF-TV3217 32-Inch 720p LCD TV</td>\n",
       "    </tr>\n",
       "    <tr>\n",
       "      <th>8615</th>\n",
       "      <td>B001OEX1X4</td>\n",
       "      <td>100 Clear Adhesive Backed Spider CD / DVD Hubs...</td>\n",
       "    </tr>\n",
       "  </tbody>\n",
       "</table>\n",
       "<p>8616 rows × 2 columns</p>\n",
       "</div>"
      ],
      "text/plain": [
       "               0                                                  1\n",
       "0     B000IMRTFO  Opteka 650-1300mm f/8 HD Telephoto Zoom Lens f...\n",
       "1     B000IMSGC4                               Itrip Auto Universal\n",
       "2     B000IMSK8Y  Logitech Harmony 670 Universal Remote (Discont...\n",
       "3     B000IMWEHM  HP PD0800 Pocket Media Drive 80 GB USB 2.0 Por...\n",
       "4     B000IMWI00   HP MV2010 Media Vault 300 GB External Hard Drive\n",
       "...          ...                                                ...\n",
       "8611  B001OD76SG                 Acer X233H bid 23-Inch LCD Monitor\n",
       "8612  B001ODKN36  StarTech.com Mini DVI to VGA Video Cable Adapt...\n",
       "8613  B001ODNBDK  StarTech.com Mini DVI to HDMI Video Adapter fo...\n",
       "8614  B001ODOL3Y                 Coby TF-TV3217 32-Inch 720p LCD TV\n",
       "8615  B001OEX1X4  100 Clear Adhesive Backed Spider CD / DVD Hubs...\n",
       "\n",
       "[8616 rows x 2 columns]"
      ]
     },
     "execution_count": 8,
     "metadata": {},
     "output_type": "execute_result"
    }
   ],
   "source": [
    "df2= pd.Series(df2[i][-10:] for i in range(len(df2)))\n",
    "stuff1=pd.Series(stuff1)\n",
    "frame2=pd.concat([df2,stuff1],axis=1)\n",
    "frame2"
   ]
  },
  {
   "cell_type": "code",
   "execution_count": 9,
   "id": "4785ba94-1602-4954-8535-8b64fbfbb0dd",
   "metadata": {},
   "outputs": [
    {
     "data": {
      "text/html": [
       "<div>\n",
       "<style scoped>\n",
       "    .dataframe tbody tr th:only-of-type {\n",
       "        vertical-align: middle;\n",
       "    }\n",
       "\n",
       "    .dataframe tbody tr th {\n",
       "        vertical-align: top;\n",
       "    }\n",
       "\n",
       "    .dataframe thead th {\n",
       "        text-align: right;\n",
       "    }\n",
       "</style>\n",
       "<table border=\"1\" class=\"dataframe\">\n",
       "  <thead>\n",
       "    <tr style=\"text-align: right;\">\n",
       "      <th></th>\n",
       "      <th>0</th>\n",
       "      <th>1</th>\n",
       "    </tr>\n",
       "  </thead>\n",
       "  <tbody>\n",
       "    <tr>\n",
       "      <th>0</th>\n",
       "      <td>B001OFJZDI</td>\n",
       "      <td>Monoprice HDMI Coupler (Female to Female)</td>\n",
       "    </tr>\n",
       "    <tr>\n",
       "      <th>1</th>\n",
       "      <td>B001OFNLXI</td>\n",
       "      <td>StarTech.com 20in Slimline SATA to SATA with L...</td>\n",
       "    </tr>\n",
       "    <tr>\n",
       "      <th>2</th>\n",
       "      <td>B001OGZ2WK</td>\n",
       "      <td>Avantalk BTDG-20 Bluetooth Wireless USB V2.0 +...</td>\n",
       "    </tr>\n",
       "    <tr>\n",
       "      <th>3</th>\n",
       "      <td>B001OI2LV8</td>\n",
       "      <td>Sony Cyber-shot DSC-H20/B 10.1 MP Digital Came...</td>\n",
       "    </tr>\n",
       "    <tr>\n",
       "      <th>4</th>\n",
       "      <td>B001OI2VAY</td>\n",
       "      <td>JBL Duet II High Performance Speaker System fo...</td>\n",
       "    </tr>\n",
       "    <tr>\n",
       "      <th>...</th>\n",
       "      <td>...</td>\n",
       "      <td>...</td>\n",
       "    </tr>\n",
       "    <tr>\n",
       "      <th>8841</th>\n",
       "      <td>B003JUN9YW</td>\n",
       "      <td>GSI Super Quality Motorcycle Helmet Dual-Sided...</td>\n",
       "    </tr>\n",
       "    <tr>\n",
       "      <th>8842</th>\n",
       "      <td>B003JUXWSU</td>\n",
       "      <td>Nook Barnes and Nobles Electronic eBook Reader...</td>\n",
       "    </tr>\n",
       "    <tr>\n",
       "      <th>8843</th>\n",
       "      <td>B003JV3XZ6</td>\n",
       "      <td>Menotek Mini DisplayPort to HDMI Converter cab...</td>\n",
       "    </tr>\n",
       "    <tr>\n",
       "      <th>8844</th>\n",
       "      <td>B003JVTOA4</td>\n",
       "      <td>Durable Protective Digital Camera Bag with Len...</td>\n",
       "    </tr>\n",
       "    <tr>\n",
       "      <th>8845</th>\n",
       "      <td>B003JW8O22</td>\n",
       "      <td>Pyrus Electronics 8gb Touch Multimedia Player ...</td>\n",
       "    </tr>\n",
       "  </tbody>\n",
       "</table>\n",
       "<p>8846 rows × 2 columns</p>\n",
       "</div>"
      ],
      "text/plain": [
       "               0                                                  1\n",
       "0     B001OFJZDI          Monoprice HDMI Coupler (Female to Female)\n",
       "1     B001OFNLXI  StarTech.com 20in Slimline SATA to SATA with L...\n",
       "2     B001OGZ2WK  Avantalk BTDG-20 Bluetooth Wireless USB V2.0 +...\n",
       "3     B001OI2LV8  Sony Cyber-shot DSC-H20/B 10.1 MP Digital Came...\n",
       "4     B001OI2VAY  JBL Duet II High Performance Speaker System fo...\n",
       "...          ...                                                ...\n",
       "8841  B003JUN9YW  GSI Super Quality Motorcycle Helmet Dual-Sided...\n",
       "8842  B003JUXWSU  Nook Barnes and Nobles Electronic eBook Reader...\n",
       "8843  B003JV3XZ6  Menotek Mini DisplayPort to HDMI Converter cab...\n",
       "8844  B003JVTOA4  Durable Protective Digital Camera Bag with Len...\n",
       "8845  B003JW8O22  Pyrus Electronics 8gb Touch Multimedia Player ...\n",
       "\n",
       "[8846 rows x 2 columns]"
      ]
     },
     "execution_count": 9,
     "metadata": {},
     "output_type": "execute_result"
    }
   ],
   "source": [
    "df3= pd.Series(df3[i][-10:] for i in range(len(df3)))\n",
    "stuff2=pd.Series(stuff2)\n",
    "frame3=pd.concat([df3,stuff2],axis=1)\n",
    "frame3"
   ]
  },
  {
   "cell_type": "code",
   "execution_count": 10,
   "id": "aa3b1047-6415-479b-abc1-5f8616228d79",
   "metadata": {},
   "outputs": [],
   "source": [
    "#merging dfs using asin\n",
    "frames=pd.concat([frame1, frame2, frame3], axis=0)\n",
    "frames.rename(columns={0:'asin'}, inplace=True)\n",
    "work_df=df.merge(frames, how='inner', on= 'asin') \n"
   ]
  },
  {
   "cell_type": "code",
   "execution_count": 11,
   "id": "bc170bdb-f8ea-4fcb-92d4-ce48540cc135",
   "metadata": {},
   "outputs": [],
   "source": [
    "work_df.rename(columns={1:'item'}, inplace=True)"
   ]
  },
  {
   "cell_type": "code",
   "execution_count": 12,
   "id": "ccc29226-6bfa-4e9e-a33a-cc4decfed292",
   "metadata": {},
   "outputs": [],
   "source": [
    "#finalized df\n",
    "work_df=df"
   ]
  },
  {
   "cell_type": "code",
   "execution_count": 19,
   "id": "1ed0e26d-0f0f-4a44-b339-723b122ab4e1",
   "metadata": {},
   "outputs": [],
   "source": [
    "import pickle\n",
    "with open ('df.pickle', 'wb') as f:\n",
    "    pickle.dump(df, f, 5)"
   ]
  },
  {
   "cell_type": "code",
   "execution_count": 13,
   "id": "588bb202-e4d5-4d70-8eaf-c9674beec10a",
   "metadata": {},
   "outputs": [],
   "source": [
    "with open('tagzz.pickle', 'rb') as file:\n",
    "      \n",
    "    # Call load method to deserialze\n",
    "    tagzz = pickle.load(file)"
   ]
  },
  {
   "cell_type": "markdown",
   "id": "497e29ba-34bc-4354-b79f-87ecdda520d1",
   "metadata": {},
   "source": [
    "### Cleaning data"
   ]
  },
  {
   "cell_type": "code",
   "execution_count": 14,
   "id": "b7d09165-975c-4783-a68b-9f0786787f8b",
   "metadata": {},
   "outputs": [],
   "source": [
    "entire_list=[]\n",
    "for ele in tagzz:\n",
    "    entire_list.extend(ele)\n",
    "\n",
    "viz_list=pd.Series(entire_list)"
   ]
  },
  {
   "cell_type": "markdown",
   "id": "b0d1e133-993b-43ee-b34c-833efb027697",
   "metadata": {},
   "source": [
    "### Most common product types viz"
   ]
  },
  {
   "cell_type": "code",
   "execution_count": 85,
   "id": "43d176e3-1d02-47cb-93c0-64ee81c461f2",
   "metadata": {},
   "outputs": [],
   "source": [
    "#this viz was created using Tableau\n",
    "viz_list.to_csv('viz1.csv')"
   ]
  },
  {
   "cell_type": "code",
   "execution_count": 15,
   "id": "6501c809-e73f-4213-b9cf-c7e08556f707",
   "metadata": {},
   "outputs": [
    {
     "ename": "TypeError",
     "evalue": "unhashable type: 'list'",
     "output_type": "error",
     "traceback": [
      "\u001b[0;31m---------------------------------------------------------------------------\u001b[0m",
      "\u001b[0;31mTypeError\u001b[0m                                 Traceback (most recent call last)",
      "\u001b[0;32mpandas/_libs/hashtable_class_helper.pxi\u001b[0m in \u001b[0;36mpandas._libs.hashtable.PyObjectHashTable.map_locations\u001b[0;34m()\u001b[0m\n",
      "\u001b[0;31mTypeError\u001b[0m: unhashable type: 'list'"
     ]
    },
    {
     "name": "stderr",
     "output_type": "stream",
     "text": [
      "Exception ignored in: 'pandas._libs.index.IndexEngine._call_map_locations'\n",
      "Traceback (most recent call last):\n",
      "  File \"pandas/_libs/hashtable_class_helper.pxi\", line 5231, in pandas._libs.hashtable.PyObjectHashTable.map_locations\n",
      "TypeError: unhashable type: 'list'\n"
     ]
    },
    {
     "data": {
      "text/plain": [
       "[Point & Shoot Digital Cameras]    718\n",
       "[]                                 613\n",
       "[Camera Cases]                     582\n",
       "[LED & LCD TVs]                    580\n",
       "[Earbud Headphones]                499\n",
       "[Cases]                            480\n",
       "[MP3 & MP4 Players]                458\n",
       "[SLR Camera Lenses]                346\n",
       "[External Hard Drives]             338\n",
       "[Camera Batteries]                 326\n",
       "[Mice]                             325\n",
       "[Memory]                           321\n",
       "[Connectors & Adapters]            315\n",
       "[Camcorders]                       297\n",
       "[Monitors]                         258\n",
       "[USB Cables]                       254\n",
       "[Traditional Laptops]              248\n",
       "[Computers & Accessories]          247\n",
       "[HDMI Cables]                      245\n",
       "[Remote Controls]                  240\n",
       "[Over-Ear Headphones]              235\n",
       "[Audio Docks]                      231\n",
       "[Computer Speakers]                226\n",
       "[USB Flash Drives]                 224\n",
       "[DVD Players]                      215\n",
       "[Batteries]                        215\n",
       "[Routers]                          214\n",
       "[Complete Tripods]                 207\n",
       "[Internal Hard Drives]             200\n",
       "[Handheld GPS Units]               194\n",
       "[Memory Card Readers]              192\n",
       "[Keyboards]                        188\n",
       "[Receivers]                        182\n",
       "[USB Network Adapters]             181\n",
       "[DVD Cases]                        175\n",
       "[RCA Cables]                       172\n",
       "[Graphics Cards]                   168\n",
       "[Camera]                           167\n",
       "[TV Ceiling & Wall Mounts]         165\n",
       "[DSLR Cameras]                     162\n",
       "[SD Cards]                         161\n",
       "[Vehicle Mounts]                   159\n",
       "[Coaxial Speakers]                 154\n",
       "[Sleeves]                          140\n",
       "[Case Fans]                        135\n",
       "[Digital Picture Frames]           134\n",
       "[Cables & Interconnects]           125\n",
       "[TV Antennas]                      122\n",
       "[On-Ear Headphones]                120\n",
       "[Home Theater Systems]             120\n",
       "[Binoculars]                       117\n",
       "[Surge Protectors]                 116\n",
       "[Chargers & Adapters]              113\n",
       "[DVD Recorders]                    112\n",
       "[Webcams]                          112\n",
       "[Bags, Cases & Sleeves]            111\n",
       "[Portable DVD Players]             111\n",
       "[FM Transmitters]                  110\n",
       "[Audio & Video Accessories]        108\n",
       "[Hubs]                             105\n",
       "dtype: int64"
      ]
     },
     "execution_count": 15,
     "metadata": {},
     "output_type": "execute_result"
    }
   ],
   "source": [
    "#Top 60 item categories in dataset\n",
    "pd.Series(tagzz).value_counts()[0:60]"
   ]
  },
  {
   "cell_type": "markdown",
   "id": "64f54971-0db1-4b8d-ab23-d9355b1de7d1",
   "metadata": {},
   "source": [
    "### Most common words in df.reviewText"
   ]
  },
  {
   "cell_type": "code",
   "execution_count": 16,
   "id": "1cd6bf6b-aeef-46c7-b04d-4602198242da",
   "metadata": {},
   "outputs": [
    {
     "data": {
      "text/html": [
       "<div>\n",
       "<style scoped>\n",
       "    .dataframe tbody tr th:only-of-type {\n",
       "        vertical-align: middle;\n",
       "    }\n",
       "\n",
       "    .dataframe tbody tr th {\n",
       "        vertical-align: top;\n",
       "    }\n",
       "\n",
       "    .dataframe thead th {\n",
       "        text-align: right;\n",
       "    }\n",
       "</style>\n",
       "<table border=\"1\" class=\"dataframe\">\n",
       "  <thead>\n",
       "    <tr style=\"text-align: right;\">\n",
       "      <th></th>\n",
       "      <th>reviewerID</th>\n",
       "      <th>asin</th>\n",
       "      <th>reviewerName</th>\n",
       "      <th>helpful</th>\n",
       "      <th>reviewText</th>\n",
       "      <th>overall</th>\n",
       "      <th>summary</th>\n",
       "      <th>unixReviewTime</th>\n",
       "      <th>reviewTime</th>\n",
       "    </tr>\n",
       "  </thead>\n",
       "  <tbody>\n",
       "    <tr>\n",
       "      <th>0</th>\n",
       "      <td>AO94DHGC771SJ</td>\n",
       "      <td>0528881469</td>\n",
       "      <td>amazdnu</td>\n",
       "      <td>[0, 0]</td>\n",
       "      <td>We got this GPS for my husband who is an (OTR)...</td>\n",
       "      <td>5</td>\n",
       "      <td>Gotta have GPS!</td>\n",
       "      <td>1370131200</td>\n",
       "      <td>06 2, 2013</td>\n",
       "    </tr>\n",
       "    <tr>\n",
       "      <th>1</th>\n",
       "      <td>AMO214LNFCEI4</td>\n",
       "      <td>0528881469</td>\n",
       "      <td>Amazon Customer</td>\n",
       "      <td>[12, 15]</td>\n",
       "      <td>I'm a professional OTR truck driver, and I bou...</td>\n",
       "      <td>1</td>\n",
       "      <td>Very Disappointed</td>\n",
       "      <td>1290643200</td>\n",
       "      <td>11 25, 2010</td>\n",
       "    </tr>\n",
       "    <tr>\n",
       "      <th>2</th>\n",
       "      <td>A3N7T0DY83Y4IG</td>\n",
       "      <td>0528881469</td>\n",
       "      <td>C. A. Freeman</td>\n",
       "      <td>[43, 45]</td>\n",
       "      <td>Well, what can I say.  I've had this unit in m...</td>\n",
       "      <td>3</td>\n",
       "      <td>1st impression</td>\n",
       "      <td>1283990400</td>\n",
       "      <td>09 9, 2010</td>\n",
       "    </tr>\n",
       "    <tr>\n",
       "      <th>3</th>\n",
       "      <td>A1H8PY3QHMQQA0</td>\n",
       "      <td>0528881469</td>\n",
       "      <td>Dave M. Shaw \"mack dave\"</td>\n",
       "      <td>[9, 10]</td>\n",
       "      <td>Not going to write a long review, even thought...</td>\n",
       "      <td>2</td>\n",
       "      <td>Great grafics, POOR GPS</td>\n",
       "      <td>1290556800</td>\n",
       "      <td>11 24, 2010</td>\n",
       "    </tr>\n",
       "    <tr>\n",
       "      <th>4</th>\n",
       "      <td>A24EV6RXELQZ63</td>\n",
       "      <td>0528881469</td>\n",
       "      <td>Wayne Smith</td>\n",
       "      <td>[0, 0]</td>\n",
       "      <td>I've had mine for a year and here's what we go...</td>\n",
       "      <td>1</td>\n",
       "      <td>Major issues, only excuses for support</td>\n",
       "      <td>1317254400</td>\n",
       "      <td>09 29, 2011</td>\n",
       "    </tr>\n",
       "  </tbody>\n",
       "</table>\n",
       "</div>"
      ],
      "text/plain": [
       "       reviewerID        asin              reviewerName   helpful  \\\n",
       "0   AO94DHGC771SJ  0528881469                   amazdnu    [0, 0]   \n",
       "1   AMO214LNFCEI4  0528881469           Amazon Customer  [12, 15]   \n",
       "2  A3N7T0DY83Y4IG  0528881469             C. A. Freeman  [43, 45]   \n",
       "3  A1H8PY3QHMQQA0  0528881469  Dave M. Shaw \"mack dave\"   [9, 10]   \n",
       "4  A24EV6RXELQZ63  0528881469               Wayne Smith    [0, 0]   \n",
       "\n",
       "                                          reviewText  overall  \\\n",
       "0  We got this GPS for my husband who is an (OTR)...        5   \n",
       "1  I'm a professional OTR truck driver, and I bou...        1   \n",
       "2  Well, what can I say.  I've had this unit in m...        3   \n",
       "3  Not going to write a long review, even thought...        2   \n",
       "4  I've had mine for a year and here's what we go...        1   \n",
       "\n",
       "                                  summary  unixReviewTime   reviewTime  \n",
       "0                         Gotta have GPS!      1370131200   06 2, 2013  \n",
       "1                       Very Disappointed      1290643200  11 25, 2010  \n",
       "2                          1st impression      1283990400   09 9, 2010  \n",
       "3                 Great grafics, POOR GPS      1290556800  11 24, 2010  \n",
       "4  Major issues, only excuses for support      1317254400  09 29, 2011  "
      ]
     },
     "execution_count": 16,
     "metadata": {},
     "output_type": "execute_result"
    }
   ],
   "source": [
    "df.head()"
   ]
  },
  {
   "cell_type": "code",
   "execution_count": 17,
   "id": "e2056f31-3377-4eb7-9050-fdc82a19d09d",
   "metadata": {},
   "outputs": [
    {
     "data": {
      "text/plain": [
       "(1689188, 9)"
      ]
     },
     "execution_count": 17,
     "metadata": {},
     "output_type": "execute_result"
    }
   ],
   "source": [
    "df.shape"
   ]
  },
  {
   "cell_type": "code",
   "execution_count": null,
   "id": "47aa88e0-68e9-4128-b3fd-4a887b0a4921",
   "metadata": {},
   "outputs": [],
   "source": []
  },
  {
   "cell_type": "code",
   "execution_count": null,
   "id": "35e5ac28-1742-44f6-9018-880e700b6862",
   "metadata": {},
   "outputs": [],
   "source": []
  },
  {
   "cell_type": "code",
   "execution_count": 18,
   "id": "51268be2-30ff-4d36-a8c0-5fb51774ec89",
   "metadata": {},
   "outputs": [],
   "source": [
    "#created a NLP processing function that includes all the steps of corpus cleaning and creation and\n",
    "#vectorization\n",
    "import string\n",
    "from nltk.stem import WordNetLemmatizer\n",
    "\n",
    "def NLP_process(data):\n",
    "    BoW=[]\n",
    "    for word in data:\n",
    "        BoW.append(word)\n",
    "    word_bank= ' '.join(BoW)\n",
    "    word_bank= word_bank.lower()\n",
    "    from nltk.tokenize import RegexpTokenizer\n",
    "    tokenizer = RegexpTokenizer(r'[a-zA-Z]+')\n",
    "    tokenized_tweets= tokenizer.tokenize(word_bank)\n",
    "\n",
    "    sw_list = stopwords.words('english')\n",
    "    sw_list += list(string.punctuation)\n",
    "    sw_list += [\"''\", '\"\"', '...', '``', '’', '“', '’', '”', '‘', '‘', '©', '#', '@', \n",
    "            'said', 'one', 'com', '-', '–', '—', '.']\n",
    "    sw_list += ['www', 'the', 'to', 'and', 'a', 's', 't','is', 'you', 'of', 'i', \n",
    "            'in', 'this', 'are', 'it', 'for', 'https', 'com', 'twitter',  \n",
    "            'status']\n",
    "    sw_set = set(sw_list)\n",
    "    filtered_tweets=[]\n",
    "    for word in tokenized_tweets:\n",
    "        if word not in sw_set:\n",
    "            filtered_tweets.append(word)\n",
    "     \n",
    "    lemmatizer=WordNetLemmatizer()\n",
    "    X_lemmatized_tweets=[]\n",
    "    for w in filtered_tweets:\n",
    "        X_lemmatized_tweets.append(lemmatizer.lemmatize(w))\n",
    "    return (X_lemmatized_tweets)\n",
    "    \n",
    "#     tfidf = TfidfVectorizer(stop_words=sw_list, ngram_range=(1,1), lowercase=True)\n",
    "#     tfidf_data_test_lem = tfidf.transform(X_lemmatized_tweets)\n",
    "#     return tfidf_data_test_lem "
   ]
  },
  {
   "cell_type": "code",
   "execution_count": null,
   "id": "aecdb879-92a9-400b-9aa0-e40a02ea44a6",
   "metadata": {},
   "outputs": [],
   "source": []
  },
  {
   "cell_type": "code",
   "execution_count": null,
   "id": "5ae5b149-ef15-4bed-9690-63f6183ad2d0",
   "metadata": {},
   "outputs": [],
   "source": []
  },
  {
   "cell_type": "code",
   "execution_count": 21,
   "id": "b14e66d5-421d-45eb-9c17-016f3e359f26",
   "metadata": {},
   "outputs": [],
   "source": [
    "from tqdm import tqdm"
   ]
  },
  {
   "cell_type": "code",
   "execution_count": 28,
   "id": "56afd38f-bb08-4baf-9047-8c845fb48e02",
   "metadata": {},
   "outputs": [],
   "source": [
    "test=[NLP_process(df.reviewText[0:])]"
   ]
  },
  {
   "cell_type": "code",
   "execution_count": 23,
   "id": "7f31432e-ae99-465e-9acd-1a12e162bf0a",
   "metadata": {},
   "outputs": [],
   "source": [
    "from collections import Counter"
   ]
  },
  {
   "cell_type": "code",
   "execution_count": 69,
   "id": "b75ffb94-aa2b-46d3-871f-e7b2ead67b83",
   "metadata": {},
   "outputs": [
    {
     "data": {
      "text/plain": [
       "list"
      ]
     },
     "execution_count": 69,
     "metadata": {},
     "output_type": "execute_result"
    }
   ],
   "source": [
    "type(test[0])"
   ]
  },
  {
   "cell_type": "code",
   "execution_count": 31,
   "id": "0cae93dc-e583-465a-a1d6-dfbfb9c2d7c2",
   "metadata": {},
   "outputs": [
    {
     "data": {
      "text/plain": [
       "[('work', 770308),\n",
       " ('use', 719571),\n",
       " ('great', 672934),\n",
       " ('good', 628151),\n",
       " ('like', 617791),\n",
       " ('would', 570468),\n",
       " ('get', 561721),\n",
       " ('well', 519807),\n",
       " ('camera', 507637),\n",
       " ('time', 466438),\n",
       " ('case', 442203),\n",
       " ('sound', 416847),\n",
       " ('cable', 413376),\n",
       " ('also', 393000),\n",
       " ('quality', 392805),\n",
       " ('product', 383728),\n",
       " ('price', 377841),\n",
       " ('really', 350998),\n",
       " ('battery', 348899),\n",
       " ('drive', 348818),\n",
       " ('much', 348228),\n",
       " ('need', 340076),\n",
       " ('even', 318589),\n",
       " ('using', 315495),\n",
       " ('device', 311564),\n",
       " ('tv', 302830),\n",
       " ('problem', 302788),\n",
       " ('better', 297552),\n",
       " ('bought', 296639),\n",
       " ('make', 296533)]"
      ]
     },
     "execution_count": 31,
     "metadata": {},
     "output_type": "execute_result"
    }
   ],
   "source": [
    "Counter(test[0]).most_common(10)"
   ]
  },
  {
   "cell_type": "code",
   "execution_count": 34,
   "id": "2b5cac91-69c2-4851-a101-2b55737ca637",
   "metadata": {},
   "outputs": [
    {
     "data": {
      "text/plain": [
       "97502650"
      ]
     },
     "execution_count": 34,
     "metadata": {},
     "output_type": "execute_result"
    }
   ],
   "source": [
    "len(test[0])"
   ]
  },
  {
   "cell_type": "code",
   "execution_count": 35,
   "id": "964bd848-e8d3-4eaa-ad7e-c74056a04206",
   "metadata": {},
   "outputs": [
    {
     "data": {
      "text/plain": [
       "work        770308\n",
       "use         719571\n",
       "great       672934\n",
       "good        628151\n",
       "like        617791\n",
       "would       570468\n",
       "get         561721\n",
       "well        519807\n",
       "camera      507637\n",
       "time        466438\n",
       "case        442203\n",
       "sound       416847\n",
       "cable       413376\n",
       "also        393000\n",
       "quality     392805\n",
       "product     383728\n",
       "price       377841\n",
       "really      350998\n",
       "battery     348899\n",
       "drive       348818\n",
       "much        348228\n",
       "need        340076\n",
       "even        318589\n",
       "using       315495\n",
       "device      311564\n",
       "tv          302830\n",
       "problem     302788\n",
       "better      297552\n",
       "bought      296639\n",
       "make        296533\n",
       "used        292885\n",
       "thing       291193\n",
       "little      289082\n",
       "screen      283429\n",
       "usb         280760\n",
       "easy        278532\n",
       "back        269878\n",
       "still       257629\n",
       "computer    255453\n",
       "card        254317\n",
       "lens        251012\n",
       "nice        247799\n",
       "unit        247508\n",
       "fit         244157\n",
       "go          243058\n",
       "two         238999\n",
       "want        237996\n",
       "video       235880\n",
       "buy         233815\n",
       "could       233362\n",
       "Name: 0, dtype: int64"
      ]
     },
     "execution_count": 35,
     "metadata": {},
     "output_type": "execute_result"
    }
   ],
   "source": [
    "#observing the frequency of common words in the corpus\n",
    "word_freq= pd.DataFrame(test[0])\n",
    "word_freq[0].value_counts().head(5)"
   ]
  },
  {
   "cell_type": "code",
   "execution_count": 40,
   "id": "7b8bcbf0-a61e-432d-b992-a3e435d12970",
   "metadata": {},
   "outputs": [
    {
     "data": {
      "image/png": "[encoded data removed]",
      "text/plain": [
       "<Figure size 720x720 with 1 Axes>"
      ]
     },
     "metadata": {
      "needs_background": "light"
     },
     "output_type": "display_data"
    },
    {
     "data": {
      "text/plain": [
       "<AxesSubplot:xlabel='Samples', ylabel='Counts'>"
      ]
     },
     "execution_count": 40,
     "metadata": {},
     "output_type": "execute_result"
    }
   ],
   "source": [
    "#observing the frequency distribution of popular words in corpus\n",
    "fdist=FreqDist(test[0])\n",
    "plt.figure(figsize=(10,10))\n",
    "fdist.plot(35)"
   ]
  },
  {
   "cell_type": "markdown",
   "id": "f92afef6-4747-44ee-b37f-b5c9a5b4bbd0",
   "metadata": {},
   "source": [
    "### Making Wordcloud"
   ]
  },
  {
   "cell_type": "code",
   "execution_count": null,
   "id": "75c6343b-a89c-4647-abe1-3db2819a5c00",
   "metadata": {},
   "outputs": [],
   "source": []
  },
  {
   "cell_type": "code",
   "execution_count": null,
   "id": "8c35249d-8f9f-4866-b785-63591e8c1c22",
   "metadata": {},
   "outputs": [],
   "source": []
  },
  {
   "cell_type": "markdown",
   "id": "02925869-df6d-4927-908b-af124ba98fa5",
   "metadata": {},
   "source": [
    "### Sentiment Analysis of reviews (pos, neu, neg)"
   ]
  },
  {
   "cell_type": "code",
   "execution_count": 41,
   "id": "580d69fa-0182-4da1-8f33-7d8877484c28",
   "metadata": {},
   "outputs": [],
   "source": [
    "import nltk\n",
    "from vaderSentiment.vaderSentiment import SentimentIntensityAnalyzer\n",
    "sid = SentimentIntensityAnalyzer()"
   ]
  },
  {
   "cell_type": "code",
   "execution_count": 44,
   "id": "130ac165-6219-48aa-acb7-055b0ef5850e",
   "metadata": {},
   "outputs": [],
   "source": [
    "sent=[sid.polarity_scores(x) for x in df.reviewText]"
   ]
  },
  {
   "cell_type": "code",
   "execution_count": 46,
   "id": "e6ef7fa9-c26d-448a-8555-e14ebfe68794",
   "metadata": {},
   "outputs": [],
   "source": [
    "df['vader_score']=[sent[x].get('compound') for x in range(len(sent))]"
   ]
  },
  {
   "cell_type": "code",
   "execution_count": 47,
   "id": "59ef5c7a-9243-49a2-ae60-1283f7b40e41",
   "metadata": {},
   "outputs": [],
   "source": [
    "# Mapped Vader scores to integer counts for easier manipulation \n",
    "col         = 'vader_score'\n",
    "conditions  = [ df[col] >= .15, (df[col] < .1) & (df[col]> -.1), df[col] <= -.1 ]\n",
    "choices     = [ 1, 0, -1 ]\n",
    "df[\"vader_score\"] = np.select(conditions, choices, default=np.nan)  "
   ]
  },
  {
   "cell_type": "code",
   "execution_count": 48,
   "id": "9514146a-0586-4a96-80ba-5c63557d4779",
   "metadata": {},
   "outputs": [],
   "source": [
    "#final mapping process\n",
    "df['vader_score']= df['vader_score'].map({-1:'negative', 0: 'neutral', 1:'positive'})"
   ]
  },
  {
   "cell_type": "code",
   "execution_count": 49,
   "id": "a0a7ae8e-532c-421b-a8ee-787cca5ffd2e",
   "metadata": {},
   "outputs": [
    {
     "data": {
      "text/plain": [
       "positive    1399723\n",
       "negative     194525\n",
       "neutral       80603\n",
       "Name: vader_score, dtype: int64"
      ]
     },
     "execution_count": 49,
     "metadata": {},
     "output_type": "execute_result"
    }
   ],
   "source": [
    "df.vader_score.value_counts()"
   ]
  },
  {
   "cell_type": "code",
   "execution_count": 103,
   "id": "9f74dc94-0958-4001-a1c1-b7baf8cf5686",
   "metadata": {},
   "outputs": [],
   "source": [
    "comb_df=df[['asin', 'vader_score']]"
   ]
  },
  {
   "cell_type": "code",
   "execution_count": null,
   "id": "5acd809c-e8a3-4faa-9740-d71cb4ae56ed",
   "metadata": {},
   "outputs": [],
   "source": []
  },
  {
   "cell_type": "markdown",
   "id": "be527a14-97c2-47b3-81a7-4bedfba003e4",
   "metadata": {},
   "source": [
    "### number pos, neu, neg reviews of df.reviewText"
   ]
  },
  {
   "cell_type": "code",
   "execution_count": 234,
   "id": "60e29d1e-bbfc-4166-9c2d-e375c5a9e3e6",
   "metadata": {},
   "outputs": [
    {
     "data": {
      "image/png": "[encoded data removed]",
      "text/plain": [
       "<Figure size 432x288 with 1 Axes>"
      ]
     },
     "metadata": {
      "needs_background": "light"
     },
     "output_type": "display_data"
    }
   ],
   "source": [
    "sns.countplot(x=df.vader_score)\n",
    "plt.title('Sentiment of Reviews in Dataset')\n",
    "# plt.savefig('Sentiment_Breakdown.png')"
   ]
  },
  {
   "cell_type": "code",
   "execution_count": 73,
   "id": "6163a994-d87d-436b-b773-dd9f96f2f518",
   "metadata": {},
   "outputs": [],
   "source": [
    "#getting all the neg sentiment \n",
    "neg_df=df[df.vader_score=='negative']"
   ]
  },
  {
   "cell_type": "code",
   "execution_count": 94,
   "id": "3486e941-a3d6-4f01-a05a-5ad1e19671ea",
   "metadata": {},
   "outputs": [],
   "source": [
    "neg_word_cnt=NLP_process(neg_df.reviewText)"
   ]
  },
  {
   "cell_type": "code",
   "execution_count": 97,
   "id": "ca2e321d-43e0-4fa6-9aff-3a6d7c6151a2",
   "metadata": {},
   "outputs": [
    {
     "data": {
      "text/plain": [
       "[('work', 82381),\n",
       " ('get', 64385),\n",
       " ('use', 63823),\n",
       " ('would', 61815),\n",
       " ('time', 58455),\n",
       " ('problem', 54992),\n",
       " ('drive', 48260),\n",
       " ('product', 47026),\n",
       " ('cable', 43830),\n",
       " ('battery', 42228),\n",
       " ('camera', 39677),\n",
       " ('like', 39189),\n",
       " ('back', 36906),\n",
       " ('even', 36529),\n",
       " ('good', 35970),\n",
       " ('bought', 35798),\n",
       " ('device', 34648),\n",
       " ('case', 32444),\n",
       " ('unit', 32313),\n",
       " ('well', 31440),\n",
       " ('thing', 31036),\n",
       " ('usb', 30601),\n",
       " ('also', 30583),\n",
       " ('quality', 30176),\n",
       " ('using', 29327)]"
      ]
     },
     "execution_count": 97,
     "metadata": {},
     "output_type": "execute_result"
    }
   ],
   "source": [
    "#word count of neg sentiment reviews\n",
    "Counter(neg_word_cnt).most_common(25)"
   ]
  },
  {
   "cell_type": "code",
   "execution_count": 100,
   "id": "8c7efcfe-17c0-4dd0-88fc-936c296d8a0d",
   "metadata": {},
   "outputs": [
    {
     "data": {
      "text/plain": [
       "26871"
      ]
     },
     "execution_count": 100,
     "metadata": {},
     "output_type": "execute_result"
    }
   ],
   "source": [
    "len(tagzz)"
   ]
  },
  {
   "cell_type": "markdown",
   "id": "79daccf3-033b-4266-8453-493bc2cd7747",
   "metadata": {},
   "source": [
    "### Category with most positive reviews"
   ]
  },
  {
   "cell_type": "code",
   "execution_count": 101,
   "id": "c030e034-725c-43c1-a3a0-635f54e3b03c",
   "metadata": {},
   "outputs": [
    {
     "name": "stderr",
     "output_type": "stream",
     "text": [
      "  3%|▊                          | 49241/1689188 [33:46:54<1125:05:00,  2.47s/it]\n",
      "IOStream.flush timed out\n"
     ]
    }
   ],
   "source": [
    "with open('load_df.pickle', 'rb') as file: \n",
    "    # Call load method to deserialze\n",
    "    load_df = pickle.load(file)"
   ]
  },
  {
   "cell_type": "code",
   "execution_count": 116,
   "id": "e06adf1a-7b1e-48f8-a6d7-3c31a6653fe2",
   "metadata": {},
   "outputs": [],
   "source": [
    "work_df= comb_df.merge(load_df, how='inner', left_on='asin', right_on='asin')"
   ]
  },
  {
   "cell_type": "code",
   "execution_count": 117,
   "id": "4f7809a4-465d-48ca-922e-f9fdedc9a38e",
   "metadata": {},
   "outputs": [
    {
     "data": {
      "text/plain": [
       "(164020810, 12)"
      ]
     },
     "execution_count": 117,
     "metadata": {},
     "output_type": "execute_result"
    }
   ],
   "source": [
    "work_df.shape"
   ]
  },
  {
   "cell_type": "code",
   "execution_count": 118,
   "id": "2463e55a-ab5c-4164-a737-3eb976ddf0a0",
   "metadata": {},
   "outputs": [
    {
     "data": {
      "text/plain": [
       "(704176, 11)"
      ]
     },
     "execution_count": 118,
     "metadata": {},
     "output_type": "execute_result"
    }
   ],
   "source": [
    "load_df.shape"
   ]
  },
  {
   "cell_type": "code",
   "execution_count": 119,
   "id": "9822e360-7349-4379-99b3-0cd47af8f785",
   "metadata": {},
   "outputs": [
    {
     "data": {
      "text/plain": [
       "(1689188, 2)"
      ]
     },
     "execution_count": 119,
     "metadata": {},
     "output_type": "execute_result"
    }
   ],
   "source": [
    "comb_df.shape"
   ]
  },
  {
   "cell_type": "code",
   "execution_count": 122,
   "id": "65e78ed4-7586-4ec5-b6fb-8b9c6069518d",
   "metadata": {},
   "outputs": [],
   "source": [
    "work_df.drop_duplicates(subset='reviewText', inplace=True)"
   ]
  },
  {
   "cell_type": "code",
   "execution_count": 123,
   "id": "678461e1-6283-45e6-acf9-0c48214c5cee",
   "metadata": {},
   "outputs": [
    {
     "data": {
      "text/plain": [
       "(703474, 12)"
      ]
     },
     "execution_count": 123,
     "metadata": {},
     "output_type": "execute_result"
    }
   ],
   "source": [
    "work_df.shape"
   ]
  },
  {
   "cell_type": "code",
   "execution_count": 209,
   "id": "2816528b-a8c4-4f67-b190-7ec5a35ee90a",
   "metadata": {},
   "outputs": [
    {
     "data": {
      "text/plain": [
       "Earbud Headphones                18215\n",
       "SLR Camera Lenses                13095\n",
       "Camera Cases                     12954\n",
       "MP3 & MP4 Players                12832\n",
       "Point & Shoot Digital Cameras    12439\n",
       "Mice                             11567\n",
       "HDMI Cables                      10858\n",
       "SD Cards                          9988\n",
       "Name: tag, dtype: int64"
      ]
     },
     "execution_count": 209,
     "metadata": {},
     "output_type": "execute_result"
    }
   ],
   "source": [
    "work_df[work_df.vader_score=='positive'].tag.value_counts()[0:8]"
   ]
  },
  {
   "cell_type": "code",
   "execution_count": 236,
   "id": "b439ff4b-911a-48b1-9562-befecc9d591f",
   "metadata": {},
   "outputs": [
    {
     "data": {
      "image/png": "[encoded data removed]",
      "text/plain": [
       "<Figure size 432x288 with 1 Axes>"
      ]
     },
     "metadata": {
      "needs_background": "light"
     },
     "output_type": "display_data"
    }
   ],
   "source": [
    "fig, ax = plt.subplots()\n",
    "ax.bar(x=['Earbud Headphones',               \n",
    "'SLR Camera Lenses',               \n",
    "'Camera Cases',                     \n",
    "'MP3 & MP4 Players',              \n",
    "'Point & Shoot Digital Cameras',   \n",
    "'Mice',                             \n",
    "'HDMI Cables',                      \n",
    "'SD Cards'],\n",
    "       height=[18215,13095,12954,12832,12439,11567,10858,9988])\n",
    "plt.xticks(rotation=90)\n",
    "plt.title('# of Positive Reviews for Each Category')\n",
    "#plt.savefig('Pos_revs.png')\n",
    "plt.show()"
   ]
  },
  {
   "cell_type": "code",
   "execution_count": null,
   "id": "7eb1d65d-c1a6-48a1-b150-f12c0e925a53",
   "metadata": {},
   "outputs": [],
   "source": []
  },
  {
   "cell_type": "code",
   "execution_count": null,
   "id": "24ac3f4e-bdfa-44be-b13d-cd66932a5640",
   "metadata": {},
   "outputs": [],
   "source": []
  },
  {
   "cell_type": "code",
   "execution_count": null,
   "id": "9cc93bc7-b486-4644-a7c9-4853f4c3b490",
   "metadata": {},
   "outputs": [],
   "source": []
  },
  {
   "cell_type": "markdown",
   "id": "391c2a2f-3040-45be-9e4b-f7ab6c7e351f",
   "metadata": {},
   "source": [
    "### Category with most negative reviews"
   ]
  },
  {
   "cell_type": "code",
   "execution_count": 162,
   "id": "5d9b3dbe-f517-4290-8522-315cd7d6e6a6",
   "metadata": {},
   "outputs": [
    {
     "data": {
      "text/plain": [
       "USB Flash Drives                 2472\n",
       "SD Cards                         2193\n",
       "Routers                          1938\n",
       "External Hard Drives             1886\n",
       "Over-Ear Headphones              1716\n",
       "Mice                             1596\n",
       "Point & Shoot Digital Cameras    1595\n",
       "Earbud Headphones                1553\n",
       "MP3 & MP4 Players                1465\n",
       "USB Cables                       1452\n",
       "Name: tag, dtype: int64"
      ]
     },
     "execution_count": 162,
     "metadata": {},
     "output_type": "execute_result"
    }
   ],
   "source": [
    "data=work_df[work_df.vader_score=='negative'].tag.value_counts()\n",
    "# data.to_csv('viz2.csv')\n",
    "data[0:10]"
   ]
  },
  {
   "cell_type": "code",
   "execution_count": 150,
   "id": "7c350bb3-6747-4c0e-814e-31183de8fc05",
   "metadata": {},
   "outputs": [
    {
     "data": {
      "text/plain": [
       "0.19172932330827067"
      ]
     },
     "execution_count": 150,
     "metadata": {},
     "output_type": "execute_result"
    }
   ],
   "source": [
    "# percentage neg\n",
    "1938/work_df[work_df.tag=='Routers'].shape[0]"
   ]
  },
  {
   "cell_type": "code",
   "execution_count": 149,
   "id": "7d0ad1a2-c9ab-46d6-b9b5-ce09d4806a1f",
   "metadata": {},
   "outputs": [
    {
     "data": {
      "text/plain": [
       "0.321038961038961"
      ]
     },
     "execution_count": 149,
     "metadata": {},
     "output_type": "execute_result"
    }
   ],
   "source": [
    "2472/work_df[work_df.tag=='USB Flash Drives'].shape[0]"
   ]
  },
  {
   "cell_type": "code",
   "execution_count": 151,
   "id": "714e8d89-853f-4f6b-a4b5-182eb1c80c9b",
   "metadata": {},
   "outputs": [
    {
     "data": {
      "text/plain": [
       "0.16468909582457195"
      ]
     },
     "execution_count": 151,
     "metadata": {},
     "output_type": "execute_result"
    }
   ],
   "source": [
    "2193/work_df[work_df.tag=='SD Cards'].shape[0]"
   ]
  },
  {
   "cell_type": "code",
   "execution_count": 152,
   "id": "a7042971-1491-4edf-851e-2952a30e9c11",
   "metadata": {},
   "outputs": [
    {
     "data": {
      "text/plain": [
       "0.19576499896200955"
      ]
     },
     "execution_count": 152,
     "metadata": {},
     "output_type": "execute_result"
    }
   ],
   "source": [
    "1886/work_df[work_df.tag=='External Hard Drives'].shape[0]"
   ]
  },
  {
   "cell_type": "code",
   "execution_count": 153,
   "id": "15c3e3b3-97f6-4cdc-8fb9-19a9e1564839",
   "metadata": {},
   "outputs": [
    {
     "data": {
      "text/plain": [
       "0.14816093938870661"
      ]
     },
     "execution_count": 153,
     "metadata": {},
     "output_type": "execute_result"
    }
   ],
   "source": [
    "1716/work_df[work_df.tag=='Over-Ear Headphones'].shape[0]"
   ]
  },
  {
   "cell_type": "code",
   "execution_count": 155,
   "id": "564b58e8-e3ad-4336-b68e-48d19a7fb5b0",
   "metadata": {},
   "outputs": [
    {
     "data": {
      "text/plain": [
       "0.11215741391426563"
      ]
     },
     "execution_count": 155,
     "metadata": {},
     "output_type": "execute_result"
    }
   ],
   "source": [
    "1596/work_df[work_df.tag=='Mice'].shape[0]"
   ]
  },
  {
   "cell_type": "code",
   "execution_count": 156,
   "id": "5e787f51-63a4-4528-a933-9489d41bba86",
   "metadata": {},
   "outputs": [
    {
     "data": {
      "text/plain": [
       "0.07341401153446157"
      ]
     },
     "execution_count": 156,
     "metadata": {},
     "output_type": "execute_result"
    }
   ],
   "source": [
    "1553/work_df[work_df.tag=='Earbud Headphones'].shape[0]"
   ]
  },
  {
   "cell_type": "code",
   "execution_count": 239,
   "id": "cad3ea20-7dfe-4417-aea4-0595314ee81e",
   "metadata": {},
   "outputs": [
    {
     "data": {
      "image/png": "[encoded data removed]",
      "text/plain": [
       "<Figure size 432x288 with 1 Axes>"
      ]
     },
     "metadata": {
      "needs_background": "light"
     },
     "output_type": "display_data"
    }
   ],
   "source": [
    "fig, ax = plt.subplots()\n",
    "ax.bar( x= ['USB Flash Drives', 'SD Cards', 'Routers', 'External Hard Drives', 'Over-Ear Headphones', 'Mice'],\n",
    "       height=[work_df[work_df.tag=='USB Flash Drives'].shape[0],\n",
    "      work_df[work_df.tag=='SD Cards'].shape[0],\n",
    "      work_df[work_df.tag=='Routers'].shape[0],\n",
    "        work_df[work_df.tag=='External Hard Drives'].shape[0],\n",
    "       work_df[work_df.tag=='Over-Ear Headphones'].shape[0],\n",
    "       work_df[work_df.tag=='Mice'].shape[0]])\n",
    "\n",
    "ax.bar(x= ['USB Flash Drives', 'SD Cards', 'Routers', 'External Hard Drives', 'Over-Ear Headphones', 'Mice'], \n",
    "       height=[2472, 2193, 1938, 1886, 1716, 1596])\n",
    "ax.set_title('Percentage of Negative Reviews')\n",
    "plt.xticks(rotation=50)\n",
    "x_labels=('32%','16%','19%', '20%', '15%', '11%')\n",
    "rects = ax.patches\n",
    "# Make some labels.\n",
    "labels = ['32%','16%','19%', '20%', '15%', '11%']\n",
    "\n",
    "for rect, label in zip(rects, labels):\n",
    "    # height = rect.get_height()\n",
    "    ax.text(\n",
    "        rect.get_x() + rect.get_width() / 2, height -14000, label, ha=\"center\", va=\"bottom\"\n",
    "    )\n",
    "plt.savefig('Percent_neg1.png')\n",
    "plt.xticks(rotation=90)\n",
    "plt.show()\n"
   ]
  },
  {
   "cell_type": "code",
   "execution_count": null,
   "id": "5ca6e47d-c7f9-4dac-b566-4a3f3b725a9e",
   "metadata": {},
   "outputs": [],
   "source": []
  }
 ],
 "metadata": {
  "kernelspec": {
   "display_name": "Python 3 (ipykernel)",
   "language": "python",
   "name": "python3"
  },
  "language_info": {
   "codemirror_mode": {
    "name": "ipython",
    "version": 3
   },
   "file_extension": ".py",
   "mimetype": "text/x-python",
   "name": "python",
   "nbconvert_exporter": "python",
   "pygments_lexer": "ipython3",
   "version": "3.9.7"
  }
 },
 "nbformat": 4,
 "nbformat_minor": 5
}
