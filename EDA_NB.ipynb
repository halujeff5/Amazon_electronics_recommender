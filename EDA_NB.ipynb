{
 "cells": [
  {
   "cell_type": "markdown",
   "id": "2dc53171-b635-471d-a044-54129e9dd720",
   "metadata": {},
   "source": [
    "## EDA Notebook"
   ]
  },
  {
   "cell_type": "code",
   "execution_count": 2,
   "id": "e7da05d0-65dd-4620-ae13-eae74033ba7e",
   "metadata": {},
   "outputs": [],
   "source": [
    "import pandas as pd\n",
    "import numpy as np\n",
    "import seaborn as sns\n",
    "import matplotlib.pyplot as plt\n",
    "import pickle"
   ]
  },
  {
   "cell_type": "code",
   "execution_count": null,
   "id": "f194a513-49b8-4b2a-acb6-320ab08637fb",
   "metadata": {},
   "outputs": [],
   "source": []
  },
  {
   "cell_type": "markdown",
   "id": "7aeb82bf-99dd-4bc3-9cce-e8473016be2f",
   "metadata": {},
   "source": [
    "### Loading pickled webscraping files"
   ]
  },
  {
   "cell_type": "code",
   "execution_count": null,
   "id": "ff16703e-9456-414f-92cb-f0dcf0e1605b",
   "metadata": {},
   "outputs": [],
   "source": [
    "\n",
    "with open('stuff.pickle', 'rb') as file:\n",
    "      \n",
    "    # Call load method to deserialze\n",
    "    stuff = pickle.load(file)\n",
    "with open('links.pickle', 'rb') as file:\n",
    "      \n",
    "    # Call load method to deserialze\n",
    "    links = pickle.load(file)"
   ]
  },
  {
   "cell_type": "code",
   "execution_count": null,
   "id": "0bbf7f96-4fc7-47f4-b84b-f2034297e6d8",
   "metadata": {},
   "outputs": [],
   "source": [
    "with open('stuff1.pickle', 'rb') as file:\n",
    "      \n",
    "    # Call load method to deserialze\n",
    "    stuff1 = pickle.load(file)\n",
    "with open('links1.pickle', 'rb') as file:\n",
    "      \n",
    "    # Call load method to deserialze\n",
    "    links1 = pickle.load(file)"
   ]
  },
  {
   "cell_type": "code",
   "execution_count": null,
   "id": "d746e463-09a9-414e-802e-69aea29322ba",
   "metadata": {},
   "outputs": [],
   "source": [
    "import pickle\n",
    "with open('stuff2.pickle', 'rb') as file:\n",
    "      \n",
    "    # Call load method to deserialze\n",
    "    stuff2 = pickle.load(file)\n",
    "with open('links2.pickle', 'rb') as file:\n",
    "      \n",
    "    # Call load method to deserialze\n",
    "    links2 = pickle.load(file)"
   ]
  },
  {
   "cell_type": "markdown",
   "id": "0c8b4355-4d99-42b2-b17f-f4084713077d",
   "metadata": {},
   "source": [
    "### Combining all the data"
   ]
  },
  {
   "cell_type": "code",
   "execution_count": null,
   "id": "d2ebff01-6505-462c-96a5-96384378d85f",
   "metadata": {},
   "outputs": [],
   "source": [
    "#links+links1+links2 = all the asin #s we have data for. DO an inner merge with the 3links, then merge with \n",
    "#stuff, stuff1, stuff2\n",
    "b\n",
    "df.asin.unique()[0:30000]"
   ]
  },
  {
   "cell_type": "code",
   "execution_count": null,
   "id": "4e20a8d5-0fab-49dd-8e25-e86f80cbe0ef",
   "metadata": {},
   "outputs": [],
   "source": []
  },
  {
   "cell_type": "markdown",
   "id": "497e29ba-34bc-4354-b79f-87ecdda520d1",
   "metadata": {},
   "source": [
    "### Cleaning data"
   ]
  },
  {
   "cell_type": "code",
   "execution_count": null,
   "id": "b7d09165-975c-4783-a68b-9f0786787f8b",
   "metadata": {},
   "outputs": [],
   "source": []
  },
  {
   "cell_type": "markdown",
   "id": "b0d1e133-993b-43ee-b34c-833efb027697",
   "metadata": {},
   "source": [
    "### Most common product from (NER) + POS tagging"
   ]
  },
  {
   "cell_type": "code",
   "execution_count": null,
   "id": "141e1dc6-7f27-449a-b7b1-510af0ed277d",
   "metadata": {},
   "outputs": [],
   "source": []
  },
  {
   "cell_type": "markdown",
   "id": "64f54971-0db1-4b8d-ab23-d9355b1de7d1",
   "metadata": {},
   "source": [
    "### Most common words in df.reviewText"
   ]
  },
  {
   "cell_type": "code",
   "execution_count": null,
   "id": "1cd6bf6b-aeef-46c7-b04d-4602198242da",
   "metadata": {},
   "outputs": [],
   "source": []
  },
  {
   "cell_type": "markdown",
   "id": "02925869-df6d-4927-908b-af124ba98fa5",
   "metadata": {},
   "source": [
    "### Sentiment Analysis of reviews (pos, neu, neg)"
   ]
  },
  {
   "cell_type": "code",
   "execution_count": null,
   "id": "c11cdab9-983b-49f6-afad-72b1f5b36a69",
   "metadata": {},
   "outputs": [],
   "source": []
  }
 ],
 "metadata": {
  "kernelspec": {
   "display_name": "Python 3 (ipykernel)",
   "language": "python",
   "name": "python3"
  },
  "language_info": {
   "codemirror_mode": {
    "name": "ipython",
    "version": 3
   },
   "file_extension": ".py",
   "mimetype": "text/x-python",
   "name": "python",
   "nbconvert_exporter": "python",
   "pygments_lexer": "ipython3",
   "version": "3.9.7"
  }
 },
 "nbformat": 4,
 "nbformat_minor": 5
}
