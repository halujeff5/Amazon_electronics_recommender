{
 "cells": [
  {
   "cell_type": "markdown",
   "id": "7942c8e9-4572-4b32-bc35-7cc8ae8f8424",
   "metadata": {},
   "source": [
    "## Webscraping notebook"
   ]
  },
  {
   "cell_type": "code",
   "execution_count": 79,
   "id": "2c548769-61ac-447a-915a-4b2b8ad00c83",
   "metadata": {},
   "outputs": [],
   "source": [
    "import pandas as pd\n",
    "import numpy as np\n",
    "import seaborn as sns\n",
    "import matplotlib.pyplot as plt\n",
    "import pickle"
   ]
  },
  {
   "cell_type": "code",
   "execution_count": 80,
   "id": "6d23c9ec-8e23-4f9b-a641-26abdad0a1c5",
   "metadata": {},
   "outputs": [],
   "source": [
    "#loading downloaded data\n",
    "df=pd.read_json('~/Downloads/reviews_Electronics_5.json', lines=True)"
   ]
  },
  {
   "cell_type": "code",
   "execution_count": 81,
   "id": "8dfe6ac0-d30c-4897-a5ad-602221682bf7",
   "metadata": {},
   "outputs": [
    {
     "data": {
      "text/plain": [
       "0          We got this GPS for my husband who is an (OTR)...\n",
       "1          I'm a professional OTR truck driver, and I bou...\n",
       "2          Well, what can I say.  I've had this unit in m...\n",
       "3          Not going to write a long review, even thought...\n",
       "4          I've had mine for a year and here's what we go...\n",
       "                                 ...                        \n",
       "1689183    Burned these in before listening to them for a...\n",
       "1689184    Some people like DJ style headphones or earbud...\n",
       "1689185    I&#8217;m a big fan of the Brainwavz S1 (actua...\n",
       "1689186    I've used theBrainwavz S1 In Ear Headphones, a...\n",
       "1689187    Normally when I receive a review sample I can ...\n",
       "Name: reviewText, Length: 1689188, dtype: object"
      ]
     },
     "execution_count": 81,
     "metadata": {},
     "output_type": "execute_result"
    }
   ],
   "source": [
    "#examining text of reviews\n",
    "df.reviewText"
   ]
  },
  {
   "cell_type": "code",
   "execution_count": 4,
   "id": "cd6d468e-d935-46de-b881-53722a5ea773",
   "metadata": {},
   "outputs": [],
   "source": [
    "#error asins\n",
    "# df= df[df.asin!='B00004SYNX']\n",
    "# df= df[df.asin!='B00000J1SC']\n",
    "# df= df[df.asin!='B000067RVL']\n",
    "# df= df[df.asin!='B000068O53']\n",
    "# df= df[df.asin!='B00006B8EC']\n",
    "# df= df[df.asin!='']"
   ]
  },
  {
   "cell_type": "markdown",
   "id": "5398cfaf-1f4e-47f4-a3dd-6e2f45c0edad",
   "metadata": {},
   "source": [
    "### The links, links1, and links2 pkl files contain scraped links of the Amazon products. They are error free."
   ]
  },
  {
   "cell_type": "code",
   "execution_count": null,
   "id": "eafa11a8-f296-4875-9b69-f8b145bea3dd",
   "metadata": {},
   "outputs": [],
   "source": [
    "url="
   ]
  },
  {
   "cell_type": "code",
   "execution_count": 57,
   "id": "43e76185-bd35-4fe6-871d-74589fa970f8",
   "metadata": {},
   "outputs": [],
   "source": [
    "with open ('links.pickle', 'wb') as f:\n",
    "    pickle.dump(links, f, 5)"
   ]
  },
  {
   "cell_type": "code",
   "execution_count": 67,
   "id": "9e76027c-bff2-40d0-89c0-516597910130",
   "metadata": {},
   "outputs": [],
   "source": [
    "with open ('links1.pickle', 'wb') as f:\n",
    "    pickle.dump(links1, f, 5)"
   ]
  },
  {
   "cell_type": "code",
   "execution_count": 75,
   "id": "13e0d60f-2502-4680-8454-1b8fe32dade7",
   "metadata": {},
   "outputs": [],
   "source": [
    "with open ('links2.pickle', 'wb') as f:\n",
    "    pickle.dump(links2, f, 5)"
   ]
  },
  {
   "cell_type": "markdown",
   "id": "1388cfc8-261d-4abe-a9a0-ba6e0079ab06",
   "metadata": {},
   "source": [
    "### Webscraping the item name, item tags, and price to be added to df"
   ]
  },
  {
   "cell_type": "code",
   "execution_count": 125,
   "id": "6a4ac27d-2438-40b6-90d4-3dcafcce377c",
   "metadata": {},
   "outputs": [
    {
     "data": {
      "text/plain": [
       "26885"
      ]
     },
     "execution_count": 125,
     "metadata": {},
     "output_type": "execute_result"
    }
   ],
   "source": [
    "#getting our urls ready for webscraping\n",
    "df1= pd.Series(links)\n",
    "df2=pd.Series(links1)\n",
    "df3=pd.Series(links2)\n",
    "frames=[df1,df2,df3]\n",
    "url_series=pd.concat(frames, axis=0)\n",
    "len(url_series)"
   ]
  },
  {
   "cell_type": "markdown",
   "id": "5d19871f-0fa2-4cc5-9a70-3677bbf31b91",
   "metadata": {},
   "source": [
    "### Scraping the item name, item tag, and price of the item"
   ]
  },
  {
   "cell_type": "code",
   "execution_count": null,
   "id": "1cc0ab91-0fa9-4afc-b892-e9c93188dbd5",
   "metadata": {},
   "outputs": [
    {
     "name": "stderr",
     "output_type": "stream",
     "text": [
      "  0%|                                                 | 0/26885 [00:00<?, ?it/s]/var/folders/48/3rfqt3q17zj4zsvn_9rh50br0000gn/T/ipykernel_1871/1068595068.py:10: DeprecationWarning: find_elements_by_* commands are deprecated. Please use find_elements() instead\n",
      "  content=driver.find_elements_by_class_name('a-price')\n",
      "/var/folders/48/3rfqt3q17zj4zsvn_9rh50br0000gn/T/ipykernel_1871/1068595068.py:11: DeprecationWarning: find_elements_by_* commands are deprecated. Please use find_elements() instead\n",
      "  content1=driver.find_elements_by_class_name('a-link-normal.a-color-tertiary')\n",
      "  6%|██                                 | 1552/26885 [57:00<16:14:56,  2.31s/it]"
     ]
    }
   ],
   "source": [
    "from tqdm import tqdm\n",
    "import time\n",
    "itemz=[]\n",
    "linkz_p=[]\n",
    "tagz_p=[]\n",
    "driver = webdriver.Chrome()\n",
    "for x in tqdm(url_series):\n",
    "    try:\n",
    "        driver.get(str(x))\n",
    "        content=driver.find_elements_by_class_name('a-price')\n",
    "        content1=driver.find_elements_by_class_name('a-link-normal.a-color-tertiary')\n",
    "        see= [x.text for x in content]\n",
    "        item= [x.text for x in content1]\n",
    "        itemz.append(item)\n",
    "        tagz_p.append(see)\n",
    "        linkz_p.append(x)\n",
    "    except:\n",
    "        continue\n",
    "        time.sleep(.0005)\n",
    "        driver.close()"
   ]
  },
  {
   "cell_type": "markdown",
   "id": "d28f89b0-903f-4d2c-9be7-6a74fd35f1f8",
   "metadata": {},
   "source": [
    "### We will use Bert Embeddings for the df.reviewText"
   ]
  },
  {
   "cell_type": "code",
   "execution_count": null,
   "id": "b9264b73-e914-4ff4-8c48-5f3850ee788f",
   "metadata": {},
   "outputs": [],
   "source": []
  },
  {
   "cell_type": "code",
   "execution_count": 159,
   "id": "8287ad25-d218-4487-bbb9-901053a49dec",
   "metadata": {},
   "outputs": [
    {
     "data": {
      "text/plain": [
       "[['Trucking GPS'],\n",
       " ['Chargers & Adapters'],\n",
       " ['Power Adapters'],\n",
       " ['TV Ceiling & Wall Mounts'],\n",
       " ['Tablets']]"
      ]
     },
     "execution_count": 159,
     "metadata": {},
     "output_type": "execute_result"
    }
   ],
   "source": [
    "tagzz[0:5]"
   ]
  },
  {
   "cell_type": "code",
   "execution_count": null,
   "id": "f5e60d82-3932-4522-8242-df6fbb985f1b",
   "metadata": {},
   "outputs": [],
   "source": []
  }
 ],
 "metadata": {
  "kernelspec": {
   "display_name": "Python 3 (ipykernel)",
   "language": "python",
   "name": "python3"
  },
  "language_info": {
   "codemirror_mode": {
    "name": "ipython",
    "version": 3
   },
   "file_extension": ".py",
   "mimetype": "text/x-python",
   "name": "python",
   "nbconvert_exporter": "python",
   "pygments_lexer": "ipython3",
   "version": "3.9.7"
  }
 },
 "nbformat": 4,
 "nbformat_minor": 5
}
