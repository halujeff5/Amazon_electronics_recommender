{
 "cells": [
  {
   "cell_type": "markdown",
   "id": "7942c8e9-4572-4b32-bc35-7cc8ae8f8424",
   "metadata": {},
   "source": [
    "## Webscraping notebook"
   ]
  },
  {
   "cell_type": "code",
   "execution_count": 79,
   "id": "2c548769-61ac-447a-915a-4b2b8ad00c83",
   "metadata": {},
   "outputs": [],
   "source": [
    "import pandas as pd\n",
    "import numpy as np\n",
    "import seaborn as sns\n",
    "import matplotlib.pyplot as plt\n",
    "import pickle"
   ]
  },
  {
   "cell_type": "code",
   "execution_count": 80,
   "id": "6d23c9ec-8e23-4f9b-a641-26abdad0a1c5",
   "metadata": {},
   "outputs": [],
   "source": [
    "#loading downloaded data\n",
    "df=pd.read_json('~/Downloads/reviews_Electronics_5.json', lines=True)"
   ]
  },
  {
   "cell_type": "code",
   "execution_count": 81,
   "id": "8dfe6ac0-d30c-4897-a5ad-602221682bf7",
   "metadata": {},
   "outputs": [
    {
     "data": {
      "text/plain": [
       "0          We got this GPS for my husband who is an (OTR)...\n",
       "1          I'm a professional OTR truck driver, and I bou...\n",
       "2          Well, what can I say.  I've had this unit in m...\n",
       "3          Not going to write a long review, even thought...\n",
       "4          I've had mine for a year and here's what we go...\n",
       "                                 ...                        \n",
       "1689183    Burned these in before listening to them for a...\n",
       "1689184    Some people like DJ style headphones or earbud...\n",
       "1689185    I&#8217;m a big fan of the Brainwavz S1 (actua...\n",
       "1689186    I've used theBrainwavz S1 In Ear Headphones, a...\n",
       "1689187    Normally when I receive a review sample I can ...\n",
       "Name: reviewText, Length: 1689188, dtype: object"
      ]
     },
     "execution_count": 81,
     "metadata": {},
     "output_type": "execute_result"
    }
   ],
   "source": [
    "#examining text of reviews\n",
    "df.reviewText"
   ]
  },
  {
   "cell_type": "code",
   "execution_count": 4,
   "id": "cd6d468e-d935-46de-b881-53722a5ea773",
   "metadata": {},
   "outputs": [],
   "source": [
    "#error asins\n",
    "# df= df[df.asin!='B00004SYNX']\n",
    "# df= df[df.asin!='B00000J1SC']\n",
    "# df= df[df.asin!='B000067RVL']\n",
    "# df= df[df.asin!='B000068O53']\n",
    "# df= df[df.asin!='B00006B8EC']\n",
    "# df= df[df.asin!='']"
   ]
  },
  {
   "cell_type": "markdown",
   "id": "5398cfaf-1f4e-47f4-a3dd-6e2f45c0edad",
   "metadata": {},
   "source": [
    "### The links, links1, and links2 pkl files contain scraped links of the Amazon products. They are error free."
   ]
  },
  {
   "cell_type": "code",
   "execution_count": null,
   "id": "eafa11a8-f296-4875-9b69-f8b145bea3dd",
   "metadata": {},
   "outputs": [],
   "source": [
    "url="
   ]
  },
  {
   "cell_type": "code",
   "execution_count": 57,
   "id": "43e76185-bd35-4fe6-871d-74589fa970f8",
   "metadata": {},
   "outputs": [],
   "source": [
    "with open ('links.pickle', 'wb') as f:\n",
    "    pickle.dump(links, f, 5)"
   ]
  },
  {
   "cell_type": "code",
   "execution_count": 67,
   "id": "9e76027c-bff2-40d0-89c0-516597910130",
   "metadata": {},
   "outputs": [],
   "source": [
    "with open ('links1.pickle', 'wb') as f:\n",
    "    pickle.dump(links1, f, 5)"
   ]
  },
  {
   "cell_type": "code",
   "execution_count": 75,
   "id": "13e0d60f-2502-4680-8454-1b8fe32dade7",
   "metadata": {},
   "outputs": [],
   "source": [
    "with open ('links2.pickle', 'wb') as f:\n",
    "    pickle.dump(links2, f, 5)"
   ]
  },
  {
   "cell_type": "markdown",
   "id": "1388cfc8-261d-4abe-a9a0-ba6e0079ab06",
   "metadata": {},
   "source": [
    "### Webscraping the item name, item tags, and price to be added to df"
   ]
  },
  {
   "cell_type": "code",
   "execution_count": 125,
   "id": "6a4ac27d-2438-40b6-90d4-3dcafcce377c",
   "metadata": {},
   "outputs": [
    {
     "data": {
      "text/plain": [
       "26885"
      ]
     },
     "execution_count": 125,
     "metadata": {},
     "output_type": "execute_result"
    }
   ],
   "source": [
    "#getting our urls ready for webscraping\n",
    "df1= pd.Series(links)\n",
    "df2=pd.Series(links1)\n",
    "df3=pd.Series(links2)\n",
    "frames=[df1,df2,df3]\n",
    "url_series=pd.concat(frames, axis=0)\n",
    "len(url_series)"
   ]
  },
  {
   "cell_type": "markdown",
   "id": "5d19871f-0fa2-4cc5-9a70-3677bbf31b91",
   "metadata": {},
   "source": [
    "### Scraping the item name, item tag, and price of the item"
   ]
  },
  {
   "cell_type": "code",
   "execution_count": 349,
   "id": "1cc0ab91-0fa9-4afc-b892-e9c93188dbd5",
   "metadata": {},
   "outputs": [
    {
     "name": "stderr",
     "output_type": "stream",
     "text": [
      "  0%|                                                 | 0/26885 [00:00<?, ?it/s]/var/folders/48/3rfqt3q17zj4zsvn_9rh50br0000gn/T/ipykernel_1871/3200647733.py:11: DeprecationWarning: find_elements_by_* commands are deprecated. Please use find_elements() instead\n",
      "  content=driver.find_elements_by_class_name('a-price')\n",
      "/var/folders/48/3rfqt3q17zj4zsvn_9rh50br0000gn/T/ipykernel_1871/3200647733.py:12: DeprecationWarning: find_elements_by_* commands are deprecated. Please use find_elements() instead\n",
      "  content1=driver.find_elements_by_class_name('a-link-normal.a-color-tertiary')\n",
      "/var/folders/48/3rfqt3q17zj4zsvn_9rh50br0000gn/T/ipykernel_1871/3200647733.py:13: DeprecationWarning: find_elements_by_* commands are deprecated. Please use find_elements() instead\n",
      "  content2=driver.find_elements_by_id('productTitle')\n",
      "100%|██████████████████████████████████| 26885/26885 [27:17:48<00:00,  3.66s/it]\n"
     ]
    }
   ],
   "source": [
    "from tqdm import tqdm\n",
    "import time\n",
    "itemz=[]\n",
    "linkz_p=[]\n",
    "tagz_p=[]\n",
    "item_namezz=[]\n",
    "driver = webdriver.Chrome()\n",
    "for x in tqdm(url_series):\n",
    "    try:\n",
    "        driver.get(str(x))\n",
    "        content=driver.find_elements_by_class_name('a-price')\n",
    "        content1=driver.find_elements_by_class_name('a-link-normal.a-color-tertiary')\n",
    "        content2=driver.find_elements_by_id('productTitle')\n",
    "        see= [x.text for x in content]\n",
    "        item= [x.text for x in content1]\n",
    "        item_namez= [x.text for x in content2]\n",
    "        itemz.append(item)\n",
    "        tagz_p.append(see)\n",
    "        item_namezz.append(item_namez)\n",
    "        linkz_p.append(x)\n",
    "    except:\n",
    "        continue\n",
    "        time.sleep(.0005)\n",
    "        driver.close()"
   ]
  },
  {
   "cell_type": "markdown",
   "id": "13947003-531c-4942-a082-d3198e10e661",
   "metadata": {},
   "source": [
    "### Cleaning and preparing scraped data for pandas"
   ]
  },
  {
   "cell_type": "code",
   "execution_count": null,
   "id": "18280e76-f716-4c55-adc5-622061480dbf",
   "metadata": {},
   "outputs": [],
   "source": []
  },
  {
   "cell_type": "code",
   "execution_count": 352,
   "id": "8287ad25-d218-4487-bbb9-901053a49dec",
   "metadata": {},
   "outputs": [],
   "source": [
    "#cleaning prices\n",
    "prices=[]\n",
    "for x in tagz_p:\n",
    "    if len(x) > 1:\n",
    "        prices.append(x[0])\n",
    "    else:\n",
    "        prices.append(x)\n"
   ]
  },
  {
   "cell_type": "code",
   "execution_count": 353,
   "id": "f5e60d82-3932-4522-8242-df6fbb985f1b",
   "metadata": {},
   "outputs": [],
   "source": [
    "cleaned_prices=[str(x).replace('\\n', '.') for x in prices]"
   ]
  },
  {
   "cell_type": "code",
   "execution_count": 354,
   "id": "e7a972fc-26e0-459a-9859-034aa428b1f4",
   "metadata": {},
   "outputs": [],
   "source": [
    "cleaned_prices=[str(x).replace('[', '') for x in cleaned_prices]"
   ]
  },
  {
   "cell_type": "code",
   "execution_count": 355,
   "id": "1f4481de-2306-41e6-b89c-4f1ce38e5425",
   "metadata": {},
   "outputs": [],
   "source": [
    "cleaned_prices=[str(x).replace(']', '') for x in cleaned_prices]"
   ]
  },
  {
   "cell_type": "code",
   "execution_count": 356,
   "id": "8a548850-3b23-4fd0-990a-961cc05a5ed1",
   "metadata": {},
   "outputs": [],
   "source": [
    "cleaned_prices=[str(x).replace(\"'\", '') for x in cleaned_prices]"
   ]
  },
  {
   "cell_type": "code",
   "execution_count": 357,
   "id": "c96f9a8c-a9f4-4a0f-b476-f4a045a51069",
   "metadata": {},
   "outputs": [],
   "source": [
    "cleaned_prices=pd.Series(cleaned_prices)"
   ]
  },
  {
   "cell_type": "code",
   "execution_count": 358,
   "id": "a720b94a-c3c8-42e2-9cdc-4e01c4442fe2",
   "metadata": {},
   "outputs": [],
   "source": [
    "#cleaning tags\n",
    "items=pd.Series(itemz)\n",
    "test=[items.iloc[x] for x in range(len(items))]\n"
   ]
  },
  {
   "cell_type": "code",
   "execution_count": null,
   "id": "c1e3b752-0210-4585-b139-829314080e2c",
   "metadata": {},
   "outputs": [],
   "source": []
  },
  {
   "cell_type": "code",
   "execution_count": 359,
   "id": "d41f9684-8bf1-4e6c-8894-c32e0bd57553",
   "metadata": {},
   "outputs": [],
   "source": [
    "tags=[]\n",
    "for i in range(len(test)):\n",
    "    if len(test[i]) >=1:\n",
    "        tags.append(test[i][-1])\n",
    "    else:\n",
    "        tags.append(np.nan)"
   ]
  },
  {
   "cell_type": "code",
   "execution_count": 360,
   "id": "4effcff2-d169-4a77-ab9e-e94db8ce10af",
   "metadata": {},
   "outputs": [],
   "source": [
    "tags=pd.Series(tags)"
   ]
  },
  {
   "cell_type": "code",
   "execution_count": 361,
   "id": "e2fb921d-b6c5-442c-a738-9b54acf7c11b",
   "metadata": {},
   "outputs": [],
   "source": [
    "#cleaning links to join on asin\n",
    "links=[str(x)[-10:] for x in linkz_p]"
   ]
  },
  {
   "cell_type": "code",
   "execution_count": 362,
   "id": "b1f5e70c-0304-4e42-8c5e-4dbe649fd7d5",
   "metadata": {},
   "outputs": [],
   "source": [
    "links=pd.Series(links)"
   ]
  },
  {
   "cell_type": "code",
   "execution_count": 392,
   "id": "7f526629-27d1-4b59-b59a-5890ea1637bf",
   "metadata": {},
   "outputs": [],
   "source": []
  },
  {
   "cell_type": "code",
   "execution_count": 395,
   "id": "7eab8222-5a67-4655-a6ff-9bf5d37e33f6",
   "metadata": {},
   "outputs": [
    {
     "data": {
      "text/plain": [
       "['Pyrus Electronics 8gb Touch Multimedia Player with 4.3 Inch Touch Screen and Built in Wireless in Car Fm Transmitter']"
      ]
     },
     "execution_count": 395,
     "metadata": {},
     "output_type": "execute_result"
    }
   ],
   "source": []
  },
  {
   "cell_type": "code",
   "execution_count": null,
   "id": "981379a1-07a5-440a-9add-b8a99065e460",
   "metadata": {},
   "outputs": [],
   "source": []
  },
  {
   "cell_type": "code",
   "execution_count": null,
   "id": "b3ba1486-22ef-4cf6-912a-b2f514f3a853",
   "metadata": {},
   "outputs": [],
   "source": []
  },
  {
   "cell_type": "code",
   "execution_count": null,
   "id": "2545d159-d259-4d2a-91e5-99bd2847ee76",
   "metadata": {},
   "outputs": [],
   "source": []
  },
  {
   "cell_type": "code",
   "execution_count": 377,
   "id": "107d96e5-8374-4ef3-9beb-9f17284f4991",
   "metadata": {},
   "outputs": [],
   "source": [
    "df_scrape=pd.concat([item_namezz,links, tags, cleaned_prices], axis=1)\n",
    "df_scrape=pd.DataFrame(df_scrape)"
   ]
  },
  {
   "cell_type": "code",
   "execution_count": 380,
   "id": "5d259866-65e1-4c53-b59f-49001163b068",
   "metadata": {},
   "outputs": [
    {
     "data": {
      "text/html": [
       "<div>\n",
       "<style scoped>\n",
       "    .dataframe tbody tr th:only-of-type {\n",
       "        vertical-align: middle;\n",
       "    }\n",
       "\n",
       "    .dataframe tbody tr th {\n",
       "        vertical-align: top;\n",
       "    }\n",
       "\n",
       "    .dataframe thead th {\n",
       "        text-align: right;\n",
       "    }\n",
       "</style>\n",
       "<table border=\"1\" class=\"dataframe\">\n",
       "  <thead>\n",
       "    <tr style=\"text-align: right;\">\n",
       "      <th></th>\n",
       "      <th>0</th>\n",
       "      <th>1</th>\n",
       "      <th>2</th>\n",
       "      <th>3</th>\n",
       "    </tr>\n",
       "  </thead>\n",
       "  <tbody>\n",
       "    <tr>\n",
       "      <th>0</th>\n",
       "      <td>[Rand McNally 528881469 7-inch Intelliroute TN...</td>\n",
       "      <td>0528881469</td>\n",
       "      <td>Trucking GPS</td>\n",
       "      <td>$399.99</td>\n",
       "    </tr>\n",
       "    <tr>\n",
       "      <th>1</th>\n",
       "      <td>[Barnes &amp; Noble HDTV Adapter Kit for NOOK HD a...</td>\n",
       "      <td>0594451647</td>\n",
       "      <td>Chargers &amp; Adapters</td>\n",
       "      <td>$29.99</td>\n",
       "    </tr>\n",
       "    <tr>\n",
       "      <th>2</th>\n",
       "      <td>[Barnes &amp; Noble OV/HB Universal Power Kit for ...</td>\n",
       "      <td>0594481813</td>\n",
       "      <td>Power Adapters</td>\n",
       "      <td>$16.99</td>\n",
       "    </tr>\n",
       "    <tr>\n",
       "      <th>3</th>\n",
       "      <td>[VideoSecu 24\" Long Arm TV Wall Mount Low Prof...</td>\n",
       "      <td>0972683275</td>\n",
       "      <td>TV Ceiling &amp; Wall Mounts</td>\n",
       "      <td>$34.99</td>\n",
       "    </tr>\n",
       "    <tr>\n",
       "      <th>4</th>\n",
       "      <td>[Barnes &amp; Noble NOOK Tablet 16gb (Color, BNTV2...</td>\n",
       "      <td>1400501466</td>\n",
       "      <td>Tablets</td>\n",
       "      <td>$49.99</td>\n",
       "    </tr>\n",
       "  </tbody>\n",
       "</table>\n",
       "</div>"
      ],
      "text/plain": [
       "                                                   0           1  \\\n",
       "0  [Rand McNally 528881469 7-inch Intelliroute TN...  0528881469   \n",
       "1  [Barnes & Noble HDTV Adapter Kit for NOOK HD a...  0594451647   \n",
       "2  [Barnes & Noble OV/HB Universal Power Kit for ...  0594481813   \n",
       "3  [VideoSecu 24\" Long Arm TV Wall Mount Low Prof...  0972683275   \n",
       "4  [Barnes & Noble NOOK Tablet 16gb (Color, BNTV2...  1400501466   \n",
       "\n",
       "                          2        3  \n",
       "0              Trucking GPS  $399.99  \n",
       "1       Chargers & Adapters   $29.99  \n",
       "2            Power Adapters   $16.99  \n",
       "3  TV Ceiling & Wall Mounts   $34.99  \n",
       "4                   Tablets   $49.99  "
      ]
     },
     "execution_count": 380,
     "metadata": {},
     "output_type": "execute_result"
    }
   ],
   "source": [
    "df_scrape.head()"
   ]
  },
  {
   "cell_type": "code",
   "execution_count": 381,
   "id": "cafa9f3b-12f4-4d45-956b-b5bf629a27a8",
   "metadata": {},
   "outputs": [],
   "source": [
    "df_scrape.rename(columns={ 0: 'item', 1:'asin', 2:'tag', 3:'price'}, inplace=True)"
   ]
  },
  {
   "cell_type": "code",
   "execution_count": 382,
   "id": "fbddd651-1d8c-4d5a-8db9-910cabf3345b",
   "metadata": {},
   "outputs": [
    {
     "data": {
      "text/html": [
       "<div>\n",
       "<style scoped>\n",
       "    .dataframe tbody tr th:only-of-type {\n",
       "        vertical-align: middle;\n",
       "    }\n",
       "\n",
       "    .dataframe tbody tr th {\n",
       "        vertical-align: top;\n",
       "    }\n",
       "\n",
       "    .dataframe thead th {\n",
       "        text-align: right;\n",
       "    }\n",
       "</style>\n",
       "<table border=\"1\" class=\"dataframe\">\n",
       "  <thead>\n",
       "    <tr style=\"text-align: right;\">\n",
       "      <th></th>\n",
       "      <th>item</th>\n",
       "      <th>asin</th>\n",
       "      <th>tag</th>\n",
       "      <th>price</th>\n",
       "    </tr>\n",
       "  </thead>\n",
       "  <tbody>\n",
       "    <tr>\n",
       "      <th>0</th>\n",
       "      <td>[Rand McNally 528881469 7-inch Intelliroute TN...</td>\n",
       "      <td>0528881469</td>\n",
       "      <td>Trucking GPS</td>\n",
       "      <td>$399.99</td>\n",
       "    </tr>\n",
       "    <tr>\n",
       "      <th>1</th>\n",
       "      <td>[Barnes &amp; Noble HDTV Adapter Kit for NOOK HD a...</td>\n",
       "      <td>0594451647</td>\n",
       "      <td>Chargers &amp; Adapters</td>\n",
       "      <td>$29.99</td>\n",
       "    </tr>\n",
       "    <tr>\n",
       "      <th>2</th>\n",
       "      <td>[Barnes &amp; Noble OV/HB Universal Power Kit for ...</td>\n",
       "      <td>0594481813</td>\n",
       "      <td>Power Adapters</td>\n",
       "      <td>$16.99</td>\n",
       "    </tr>\n",
       "    <tr>\n",
       "      <th>3</th>\n",
       "      <td>[VideoSecu 24\" Long Arm TV Wall Mount Low Prof...</td>\n",
       "      <td>0972683275</td>\n",
       "      <td>TV Ceiling &amp; Wall Mounts</td>\n",
       "      <td>$34.99</td>\n",
       "    </tr>\n",
       "    <tr>\n",
       "      <th>4</th>\n",
       "      <td>[Barnes &amp; Noble NOOK Tablet 16gb (Color, BNTV2...</td>\n",
       "      <td>1400501466</td>\n",
       "      <td>Tablets</td>\n",
       "      <td>$49.99</td>\n",
       "    </tr>\n",
       "    <tr>\n",
       "      <th>...</th>\n",
       "      <td>...</td>\n",
       "      <td>...</td>\n",
       "      <td>...</td>\n",
       "      <td>...</td>\n",
       "    </tr>\n",
       "    <tr>\n",
       "      <th>26779</th>\n",
       "      <td>[GSI Super Quality Motorcycle Helmet Dual-Side...</td>\n",
       "      <td>B003JUN9YW</td>\n",
       "      <td>Over-Ear Headphones</td>\n",
       "      <td>$32.99</td>\n",
       "    </tr>\n",
       "    <tr>\n",
       "      <th>26780</th>\n",
       "      <td>[Nook Barnes and Nobles Electronic eBook Reade...</td>\n",
       "      <td>B003JUXWSU</td>\n",
       "      <td>Covers</td>\n",
       "      <td></td>\n",
       "    </tr>\n",
       "    <tr>\n",
       "      <th>26781</th>\n",
       "      <td>[Menotek Mini DisplayPort to HDMI Converter ca...</td>\n",
       "      <td>B003JV3XZ6</td>\n",
       "      <td>HDMI Cables</td>\n",
       "      <td>$10.29</td>\n",
       "    </tr>\n",
       "    <tr>\n",
       "      <th>26782</th>\n",
       "      <td>[Durable Protective Digital Camera Bag with Le...</td>\n",
       "      <td>B003JVTOA4</td>\n",
       "      <td>Camera Cases</td>\n",
       "      <td>$22.54</td>\n",
       "    </tr>\n",
       "    <tr>\n",
       "      <th>26783</th>\n",
       "      <td>[Pyrus Electronics 8gb Touch Multimedia Player...</td>\n",
       "      <td>B003JW8O22</td>\n",
       "      <td>MP3 &amp; MP4 Players</td>\n",
       "      <td></td>\n",
       "    </tr>\n",
       "  </tbody>\n",
       "</table>\n",
       "<p>26784 rows × 4 columns</p>\n",
       "</div>"
      ],
      "text/plain": [
       "                                                    item        asin  \\\n",
       "0      [Rand McNally 528881469 7-inch Intelliroute TN...  0528881469   \n",
       "1      [Barnes & Noble HDTV Adapter Kit for NOOK HD a...  0594451647   \n",
       "2      [Barnes & Noble OV/HB Universal Power Kit for ...  0594481813   \n",
       "3      [VideoSecu 24\" Long Arm TV Wall Mount Low Prof...  0972683275   \n",
       "4      [Barnes & Noble NOOK Tablet 16gb (Color, BNTV2...  1400501466   \n",
       "...                                                  ...         ...   \n",
       "26779  [GSI Super Quality Motorcycle Helmet Dual-Side...  B003JUN9YW   \n",
       "26780  [Nook Barnes and Nobles Electronic eBook Reade...  B003JUXWSU   \n",
       "26781  [Menotek Mini DisplayPort to HDMI Converter ca...  B003JV3XZ6   \n",
       "26782  [Durable Protective Digital Camera Bag with Le...  B003JVTOA4   \n",
       "26783  [Pyrus Electronics 8gb Touch Multimedia Player...  B003JW8O22   \n",
       "\n",
       "                            tag    price  \n",
       "0                  Trucking GPS  $399.99  \n",
       "1           Chargers & Adapters   $29.99  \n",
       "2                Power Adapters   $16.99  \n",
       "3      TV Ceiling & Wall Mounts   $34.99  \n",
       "4                       Tablets   $49.99  \n",
       "...                         ...      ...  \n",
       "26779       Over-Ear Headphones   $32.99  \n",
       "26780                    Covers           \n",
       "26781               HDMI Cables   $10.29  \n",
       "26782              Camera Cases   $22.54  \n",
       "26783         MP3 & MP4 Players           \n",
       "\n",
       "[26784 rows x 4 columns]"
      ]
     },
     "execution_count": 382,
     "metadata": {},
     "output_type": "execute_result"
    }
   ],
   "source": [
    "df_scrape"
   ]
  },
  {
   "cell_type": "code",
   "execution_count": null,
   "id": "97927e3d-1ee7-4560-8dd3-d87d3b5b4bae",
   "metadata": {},
   "outputs": [],
   "source": []
  },
  {
   "cell_type": "code",
   "execution_count": 383,
   "id": "0c28de10-ffa6-4df6-87cb-50605b878b72",
   "metadata": {},
   "outputs": [],
   "source": [
    "load_df=df.merge(df_scrape, how='inner', on='asin')"
   ]
  },
  {
   "cell_type": "code",
   "execution_count": 384,
   "id": "cd581a21-42da-4456-a366-d4b79257e747",
   "metadata": {},
   "outputs": [],
   "source": [
    "#pickle file to be used in EDA_NB\n",
    "import pickle\n",
    "with open ('load_df.pickle', 'wb') as f:\n",
    "    pickle.dump(load_df, f, 5)"
   ]
  },
  {
   "cell_type": "code",
   "execution_count": 385,
   "id": "dd4f447d-cf29-4689-8726-62b3097dc3c3",
   "metadata": {},
   "outputs": [
    {
     "data": {
      "text/plain": [
       "(702972, 12)"
      ]
     },
     "execution_count": 385,
     "metadata": {},
     "output_type": "execute_result"
    }
   ],
   "source": [
    "load_df.shape"
   ]
  },
  {
   "cell_type": "code",
   "execution_count": null,
   "id": "49242828-fea5-48b9-93c5-7bce2ea87396",
   "metadata": {},
   "outputs": [],
   "source": []
  }
 ],
 "metadata": {
  "kernelspec": {
   "display_name": "Python 3 (ipykernel)",
   "language": "python",
   "name": "python3"
  },
  "language_info": {
   "codemirror_mode": {
    "name": "ipython",
    "version": 3
   },
   "file_extension": ".py",
   "mimetype": "text/x-python",
   "name": "python",
   "nbconvert_exporter": "python",
   "pygments_lexer": "ipython3",
   "version": "3.9.7"
  }
 },
 "nbformat": 4,
 "nbformat_minor": 5
}
