{
 "cells": [
  {
   "cell_type": "markdown",
   "id": "7942c8e9-4572-4b32-bc35-7cc8ae8f8424",
   "metadata": {},
   "source": [
    "## Webscraping notebook"
   ]
  },
  {
   "cell_type": "code",
   "execution_count": 79,
   "id": "2c548769-61ac-447a-915a-4b2b8ad00c83",
   "metadata": {},
   "outputs": [],
   "source": [
    "import pandas as pd\n",
    "import numpy as np\n",
    "import seaborn as sns\n",
    "import matplotlib.pyplot as plt\n",
    "import pickle"
   ]
  },
  {
   "cell_type": "code",
   "execution_count": 80,
   "id": "6d23c9ec-8e23-4f9b-a641-26abdad0a1c5",
   "metadata": {},
   "outputs": [],
   "source": [
    "#loading downloaded data\n",
    "df=pd.read_json('~/Downloads/reviews_Electronics_5.json', lines=True)"
   ]
  },
  {
   "cell_type": "code",
   "execution_count": 81,
   "id": "8dfe6ac0-d30c-4897-a5ad-602221682bf7",
   "metadata": {},
   "outputs": [
    {
     "data": {
      "text/plain": [
       "0          We got this GPS for my husband who is an (OTR)...\n",
       "1          I'm a professional OTR truck driver, and I bou...\n",
       "2          Well, what can I say.  I've had this unit in m...\n",
       "3          Not going to write a long review, even thought...\n",
       "4          I've had mine for a year and here's what we go...\n",
       "                                 ...                        \n",
       "1689183    Burned these in before listening to them for a...\n",
       "1689184    Some people like DJ style headphones or earbud...\n",
       "1689185    I&#8217;m a big fan of the Brainwavz S1 (actua...\n",
       "1689186    I've used theBrainwavz S1 In Ear Headphones, a...\n",
       "1689187    Normally when I receive a review sample I can ...\n",
       "Name: reviewText, Length: 1689188, dtype: object"
      ]
     },
     "execution_count": 81,
     "metadata": {},
     "output_type": "execute_result"
    }
   ],
   "source": [
    "#examining text of reviews\n",
    "df.reviewText"
   ]
  },
  {
   "cell_type": "code",
   "execution_count": 4,
   "id": "cd6d468e-d935-46de-b881-53722a5ea773",
   "metadata": {},
   "outputs": [],
   "source": [
    "#error asins\n",
    "# df= df[df.asin!='B00004SYNX']\n",
    "# df= df[df.asin!='B00000J1SC']\n",
    "# df= df[df.asin!='B000067RVL']\n",
    "# df= df[df.asin!='B000068O53']\n",
    "# df= df[df.asin!='B00006B8EC']\n",
    "# df= df[df.asin!='']"
   ]
  },
  {
   "cell_type": "markdown",
   "id": "5398cfaf-1f4e-47f4-a3dd-6e2f45c0edad",
   "metadata": {},
   "source": [
    "### The links, links1, and links2 pkl files contain scraped links of the Amazon products. They are error free."
   ]
  },
  {
   "cell_type": "code",
   "execution_count": null,
   "id": "eafa11a8-f296-4875-9b69-f8b145bea3dd",
   "metadata": {},
   "outputs": [],
   "source": [
    "url="
   ]
  },
  {
   "cell_type": "code",
   "execution_count": 57,
   "id": "43e76185-bd35-4fe6-871d-74589fa970f8",
   "metadata": {},
   "outputs": [],
   "source": [
    "with open ('links.pickle', 'wb') as f:\n",
    "    pickle.dump(links, f, 5)"
   ]
  },
  {
   "cell_type": "code",
   "execution_count": 67,
   "id": "9e76027c-bff2-40d0-89c0-516597910130",
   "metadata": {},
   "outputs": [],
   "source": [
    "with open ('links1.pickle', 'wb') as f:\n",
    "    pickle.dump(links1, f, 5)"
   ]
  },
  {
   "cell_type": "code",
   "execution_count": 75,
   "id": "13e0d60f-2502-4680-8454-1b8fe32dade7",
   "metadata": {},
   "outputs": [],
   "source": [
    "with open ('links2.pickle', 'wb') as f:\n",
    "    pickle.dump(links2, f, 5)"
   ]
  },
  {
   "cell_type": "markdown",
   "id": "1388cfc8-261d-4abe-a9a0-ba6e0079ab06",
   "metadata": {},
   "source": [
    "### Webscraping the item name, item tags, and price to be added to df"
   ]
  },
  {
   "cell_type": "code",
   "execution_count": 125,
   "id": "6a4ac27d-2438-40b6-90d4-3dcafcce377c",
   "metadata": {},
   "outputs": [
    {
     "data": {
      "text/plain": [
       "26885"
      ]
     },
     "execution_count": 125,
     "metadata": {},
     "output_type": "execute_result"
    }
   ],
   "source": [
    "#getting our urls ready for webscraping\n",
    "df1= pd.Series(links)\n",
    "df2=pd.Series(links1)\n",
    "df3=pd.Series(links2)\n",
    "frames=[df1,df2,df3]\n",
    "url_series=pd.concat(frames, axis=0)\n",
    "len(url_series)"
   ]
  },
  {
   "cell_type": "markdown",
   "id": "5d19871f-0fa2-4cc5-9a70-3677bbf31b91",
   "metadata": {},
   "source": [
    "### Scraping the item name, item tag, and price of the item"
   ]
  },
  {
   "cell_type": "code",
   "execution_count": null,
   "id": "1cc0ab91-0fa9-4afc-b892-e9c93188dbd5",
   "metadata": {},
   "outputs": [
    {
     "name": "stderr",
     "output_type": "stream",
     "text": [
      "  0%|                                                 | 0/26885 [00:00<?, ?it/s]/var/folders/48/3rfqt3q17zj4zsvn_9rh50br0000gn/T/ipykernel_1871/3200647733.py:11: DeprecationWarning: find_elements_by_* commands are deprecated. Please use find_elements() instead\n",
      "  content=driver.find_elements_by_class_name('a-price')\n",
      "/var/folders/48/3rfqt3q17zj4zsvn_9rh50br0000gn/T/ipykernel_1871/3200647733.py:12: DeprecationWarning: find_elements_by_* commands are deprecated. Please use find_elements() instead\n",
      "  content1=driver.find_elements_by_class_name('a-link-normal.a-color-tertiary')\n",
      "/var/folders/48/3rfqt3q17zj4zsvn_9rh50br0000gn/T/ipykernel_1871/3200647733.py:13: DeprecationWarning: find_elements_by_* commands are deprecated. Please use find_elements() instead\n",
      "  content2=driver.find_elements_by_id('productTitle')\n",
      " 62%|█████████████████████▋             | 16659/26885 [01:29<00:10, 1019.52it/s]"
     ]
    }
   ],
   "source": [
    "from tqdm import tqdm\n",
    "import time\n",
    "itemz=[]\n",
    "linkz_p=[]\n",
    "tagz_p=[]\n",
    "item_namezz=[]\n",
    "driver = webdriver.Chrome()\n",
    "for x in tqdm(links):\n",
    "    try:\n",
    "        driver.get(str(x))\n",
    "        content=driver.find_elements_by_class_name('a-price')\n",
    "        content1=driver.find_elements_by_class_name('a-link-normal.a-color-tertiary')\n",
    "        content2=driver.find_elements_by_id('productTitle')\n",
    "        see= [x.text for x in content]\n",
    "        item= [x.text for x in content1]\n",
    "        item_namez= [x.text for x in content2]\n",
    "        itemz.append(item)\n",
    "        tagz_p.append(see)\n",
    "        item_namezz.append(item_namez)\n",
    "        linkz_p.append(x)\n",
    "    except:\n",
    "        continue\n",
    "        time.sleep(.0005)\n",
    "        driver.close()"
   ]
  },
  {
   "cell_type": "code",
   "execution_count": null,
   "id": "993b50e1-ded8-4b63-bd74-888d30f19eed",
   "metadata": {},
   "outputs": [],
   "source": []
  },
  {
   "cell_type": "code",
   "execution_count": 195,
   "id": "8287ad25-d218-4487-bbb9-901053a49dec",
   "metadata": {},
   "outputs": [],
   "source": [
    "#cleaning prices\n",
    "prices=[]\n",
    "for x in tagz_p:\n",
    "    if len(x) > 1:\n",
    "        prices.append(x[0])\n",
    "    else:\n",
    "        prices.append(x)\n"
   ]
  },
  {
   "cell_type": "code",
   "execution_count": 197,
   "id": "f5e60d82-3932-4522-8242-df6fbb985f1b",
   "metadata": {},
   "outputs": [],
   "source": [
    "cleaned_prices=[str(x).replace('\\n', '.') for x in prices]"
   ]
  },
  {
   "cell_type": "code",
   "execution_count": 203,
   "id": "e7a972fc-26e0-459a-9859-034aa428b1f4",
   "metadata": {},
   "outputs": [],
   "source": [
    "cleaned_prices=[str(x).replace('[', '') for x in cleaned_prices]"
   ]
  },
  {
   "cell_type": "code",
   "execution_count": 210,
   "id": "1f4481de-2306-41e6-b89c-4f1ce38e5425",
   "metadata": {},
   "outputs": [],
   "source": [
    "cleaned_prices=[str(x).replace(']', '') for x in cleaned_prices]"
   ]
  },
  {
   "cell_type": "code",
   "execution_count": 212,
   "id": "8a548850-3b23-4fd0-990a-961cc05a5ed1",
   "metadata": {},
   "outputs": [],
   "source": [
    "cleaned_prices=[str(x).replace(\"'\", '') for x in cleaned_prices]"
   ]
  },
  {
   "cell_type": "code",
   "execution_count": 273,
   "id": "c96f9a8c-a9f4-4a0f-b476-f4a045a51069",
   "metadata": {},
   "outputs": [],
   "source": [
    "cleaned_prices=pd.Series(cleaned_prices)"
   ]
  },
  {
   "cell_type": "code",
   "execution_count": 241,
   "id": "a720b94a-c3c8-42e2-9cdc-4e01c4442fe2",
   "metadata": {},
   "outputs": [],
   "source": [
    "#cleaning tags\n",
    "items=pd.Series(itemz)\n",
    "test=[items.iloc[x] for x in range(len(items))]\n"
   ]
  },
  {
   "cell_type": "code",
   "execution_count": 257,
   "id": "d41f9684-8bf1-4e6c-8894-c32e0bd57553",
   "metadata": {},
   "outputs": [],
   "source": [
    "tags=[test[i][-1] for i in range(len(test)) if len(test[i])>=1]\n",
    "tags=[]\n",
    "for i in range(len(test)):\n",
    "    if len(test[i]) >=1:\n",
    "        tags.append(test[i][-1])\n",
    "    else:\n",
    "        tags.append(np.nan)"
   ]
  },
  {
   "cell_type": "code",
   "execution_count": 274,
   "id": "4effcff2-d169-4a77-ab9e-e94db8ce10af",
   "metadata": {},
   "outputs": [],
   "source": [
    "tags=pd.Series(tags)"
   ]
  },
  {
   "cell_type": "code",
   "execution_count": 270,
   "id": "e2fb921d-b6c5-442c-a738-9b54acf7c11b",
   "metadata": {},
   "outputs": [],
   "source": [
    "#cleaning links to join on asin\n",
    "links=[str(x)[-10:] for x in linkz_p]"
   ]
  },
  {
   "cell_type": "code",
   "execution_count": 275,
   "id": "b1f5e70c-0304-4e42-8c5e-4dbe649fd7d5",
   "metadata": {},
   "outputs": [],
   "source": [
    "links=pd.Series(links)"
   ]
  },
  {
   "cell_type": "code",
   "execution_count": 282,
   "id": "107d96e5-8374-4ef3-9beb-9f17284f4991",
   "metadata": {},
   "outputs": [],
   "source": [
    "\n",
    "df_scrape=pd.concat([links, tags, cleaned_prices], axis=1)"
   ]
  },
  {
   "cell_type": "code",
   "execution_count": 284,
   "id": "cafa9f3b-12f4-4d45-956b-b5bf629a27a8",
   "metadata": {},
   "outputs": [
    {
     "data": {
      "text/html": [
       "<div>\n",
       "<style scoped>\n",
       "    .dataframe tbody tr th:only-of-type {\n",
       "        vertical-align: middle;\n",
       "    }\n",
       "\n",
       "    .dataframe tbody tr th {\n",
       "        vertical-align: top;\n",
       "    }\n",
       "\n",
       "    .dataframe thead th {\n",
       "        text-align: right;\n",
       "    }\n",
       "</style>\n",
       "<table border=\"1\" class=\"dataframe\">\n",
       "  <thead>\n",
       "    <tr style=\"text-align: right;\">\n",
       "      <th></th>\n",
       "      <th>asin</th>\n",
       "      <th>tag</th>\n",
       "      <th>price</th>\n",
       "    </tr>\n",
       "  </thead>\n",
       "  <tbody>\n",
       "    <tr>\n",
       "      <th>0</th>\n",
       "      <td>0528881469</td>\n",
       "      <td>Trucking GPS</td>\n",
       "      <td>$399.99</td>\n",
       "    </tr>\n",
       "    <tr>\n",
       "      <th>1</th>\n",
       "      <td>0594451647</td>\n",
       "      <td>Chargers &amp; Adapters</td>\n",
       "      <td>$29.99</td>\n",
       "    </tr>\n",
       "    <tr>\n",
       "      <th>2</th>\n",
       "      <td>0594481813</td>\n",
       "      <td>Power Adapters</td>\n",
       "      <td>$16.99</td>\n",
       "    </tr>\n",
       "    <tr>\n",
       "      <th>3</th>\n",
       "      <td>0972683275</td>\n",
       "      <td>TV Ceiling &amp; Wall Mounts</td>\n",
       "      <td>$34.99</td>\n",
       "    </tr>\n",
       "    <tr>\n",
       "      <th>4</th>\n",
       "      <td>1400501466</td>\n",
       "      <td>Tablets</td>\n",
       "      <td>$49.99</td>\n",
       "    </tr>\n",
       "    <tr>\n",
       "      <th>...</th>\n",
       "      <td>...</td>\n",
       "      <td>...</td>\n",
       "      <td>...</td>\n",
       "    </tr>\n",
       "    <tr>\n",
       "      <th>26862</th>\n",
       "      <td>B003JUN9YW</td>\n",
       "      <td>Over-Ear Headphones</td>\n",
       "      <td>$65.65</td>\n",
       "    </tr>\n",
       "    <tr>\n",
       "      <th>26863</th>\n",
       "      <td>B003JUXWSU</td>\n",
       "      <td>Covers</td>\n",
       "      <td></td>\n",
       "    </tr>\n",
       "    <tr>\n",
       "      <th>26864</th>\n",
       "      <td>B003JV3XZ6</td>\n",
       "      <td>HDMI Cables</td>\n",
       "      <td>$9.74</td>\n",
       "    </tr>\n",
       "    <tr>\n",
       "      <th>26865</th>\n",
       "      <td>B003JVTOA4</td>\n",
       "      <td>Camera Cases</td>\n",
       "      <td>$22.54</td>\n",
       "    </tr>\n",
       "    <tr>\n",
       "      <th>26866</th>\n",
       "      <td>B003JW8O22</td>\n",
       "      <td>MP3 &amp; MP4 Players</td>\n",
       "      <td></td>\n",
       "    </tr>\n",
       "  </tbody>\n",
       "</table>\n",
       "<p>26867 rows × 3 columns</p>\n",
       "</div>"
      ],
      "text/plain": [
       "             asin                       tag    price\n",
       "0      0528881469              Trucking GPS  $399.99\n",
       "1      0594451647       Chargers & Adapters   $29.99\n",
       "2      0594481813            Power Adapters   $16.99\n",
       "3      0972683275  TV Ceiling & Wall Mounts   $34.99\n",
       "4      1400501466                   Tablets   $49.99\n",
       "...           ...                       ...      ...\n",
       "26862  B003JUN9YW       Over-Ear Headphones   $65.65\n",
       "26863  B003JUXWSU                    Covers         \n",
       "26864  B003JV3XZ6               HDMI Cables    $9.74\n",
       "26865  B003JVTOA4              Camera Cases   $22.54\n",
       "26866  B003JW8O22         MP3 & MP4 Players         \n",
       "\n",
       "[26867 rows x 3 columns]"
      ]
     },
     "execution_count": 284,
     "metadata": {},
     "output_type": "execute_result"
    }
   ],
   "source": [
    "df_scrape.rename(columns={0:'asin', 1:'tag', 2:'price'})"
   ]
  },
  {
   "cell_type": "code",
   "execution_count": 294,
   "id": "0c28de10-ffa6-4df6-87cb-50605b878b72",
   "metadata": {},
   "outputs": [
    {
     "ename": "KeyError",
     "evalue": "'asin'",
     "output_type": "error",
     "traceback": [
      "\u001b[0;31m---------------------------------------------------------------------------\u001b[0m",
      "\u001b[0;31mKeyError\u001b[0m                                  Traceback (most recent call last)",
      "\u001b[0;32m/var/folders/48/3rfqt3q17zj4zsvn_9rh50br0000gn/T/ipykernel_1871/3663336373.py\u001b[0m in \u001b[0;36m<module>\u001b[0;34m\u001b[0m\n\u001b[0;32m----> 1\u001b[0;31m \u001b[0mload_df\u001b[0m\u001b[0;34m=\u001b[0m\u001b[0mdf\u001b[0m\u001b[0;34m.\u001b[0m\u001b[0mmerge\u001b[0m\u001b[0;34m(\u001b[0m\u001b[0mdf_scrape\u001b[0m\u001b[0;34m,\u001b[0m \u001b[0mhow\u001b[0m\u001b[0;34m=\u001b[0m\u001b[0;34m'inner'\u001b[0m\u001b[0;34m,\u001b[0m \u001b[0mleft_on\u001b[0m\u001b[0;34m=\u001b[0m\u001b[0;34m'asin'\u001b[0m\u001b[0;34m,\u001b[0m \u001b[0mright_on\u001b[0m\u001b[0;34m=\u001b[0m\u001b[0;34m'asin'\u001b[0m\u001b[0;34m)\u001b[0m\u001b[0;34m\u001b[0m\u001b[0;34m\u001b[0m\u001b[0m\n\u001b[0m",
      "\u001b[0;32m~/miniforge3/lib/python3.9/site-packages/pandas/core/frame.py\u001b[0m in \u001b[0;36mmerge\u001b[0;34m(self, right, how, on, left_on, right_on, left_index, right_index, sort, suffixes, copy, indicator, validate)\u001b[0m\n\u001b[1;32m   9188\u001b[0m         \u001b[0;32mfrom\u001b[0m \u001b[0mpandas\u001b[0m\u001b[0;34m.\u001b[0m\u001b[0mcore\u001b[0m\u001b[0;34m.\u001b[0m\u001b[0mreshape\u001b[0m\u001b[0;34m.\u001b[0m\u001b[0mmerge\u001b[0m \u001b[0;32mimport\u001b[0m \u001b[0mmerge\u001b[0m\u001b[0;34m\u001b[0m\u001b[0;34m\u001b[0m\u001b[0m\n\u001b[1;32m   9189\u001b[0m \u001b[0;34m\u001b[0m\u001b[0m\n\u001b[0;32m-> 9190\u001b[0;31m         return merge(\n\u001b[0m\u001b[1;32m   9191\u001b[0m             \u001b[0mself\u001b[0m\u001b[0;34m,\u001b[0m\u001b[0;34m\u001b[0m\u001b[0;34m\u001b[0m\u001b[0m\n\u001b[1;32m   9192\u001b[0m             \u001b[0mright\u001b[0m\u001b[0;34m,\u001b[0m\u001b[0;34m\u001b[0m\u001b[0;34m\u001b[0m\u001b[0m\n",
      "\u001b[0;32m~/miniforge3/lib/python3.9/site-packages/pandas/core/reshape/merge.py\u001b[0m in \u001b[0;36mmerge\u001b[0;34m(left, right, how, on, left_on, right_on, left_index, right_index, sort, suffixes, copy, indicator, validate)\u001b[0m\n\u001b[1;32m    104\u001b[0m     \u001b[0mvalidate\u001b[0m\u001b[0;34m:\u001b[0m \u001b[0mstr\u001b[0m \u001b[0;34m|\u001b[0m \u001b[0;32mNone\u001b[0m \u001b[0;34m=\u001b[0m \u001b[0;32mNone\u001b[0m\u001b[0;34m,\u001b[0m\u001b[0;34m\u001b[0m\u001b[0;34m\u001b[0m\u001b[0m\n\u001b[1;32m    105\u001b[0m ) -> DataFrame:\n\u001b[0;32m--> 106\u001b[0;31m     op = _MergeOperation(\n\u001b[0m\u001b[1;32m    107\u001b[0m         \u001b[0mleft\u001b[0m\u001b[0;34m,\u001b[0m\u001b[0;34m\u001b[0m\u001b[0;34m\u001b[0m\u001b[0m\n\u001b[1;32m    108\u001b[0m         \u001b[0mright\u001b[0m\u001b[0;34m,\u001b[0m\u001b[0;34m\u001b[0m\u001b[0;34m\u001b[0m\u001b[0m\n",
      "\u001b[0;32m~/miniforge3/lib/python3.9/site-packages/pandas/core/reshape/merge.py\u001b[0m in \u001b[0;36m__init__\u001b[0;34m(self, left, right, how, on, left_on, right_on, axis, left_index, right_index, sort, suffixes, copy, indicator, validate)\u001b[0m\n\u001b[1;32m    697\u001b[0m             \u001b[0mself\u001b[0m\u001b[0;34m.\u001b[0m\u001b[0mright_join_keys\u001b[0m\u001b[0;34m,\u001b[0m\u001b[0;34m\u001b[0m\u001b[0;34m\u001b[0m\u001b[0m\n\u001b[1;32m    698\u001b[0m             \u001b[0mself\u001b[0m\u001b[0;34m.\u001b[0m\u001b[0mjoin_names\u001b[0m\u001b[0;34m,\u001b[0m\u001b[0;34m\u001b[0m\u001b[0;34m\u001b[0m\u001b[0m\n\u001b[0;32m--> 699\u001b[0;31m         ) = self._get_merge_keys()\n\u001b[0m\u001b[1;32m    700\u001b[0m \u001b[0;34m\u001b[0m\u001b[0m\n\u001b[1;32m    701\u001b[0m         \u001b[0;31m# validate the merge keys dtypes. We may need to coerce\u001b[0m\u001b[0;34m\u001b[0m\u001b[0;34m\u001b[0m\u001b[0m\n",
      "\u001b[0;32m~/miniforge3/lib/python3.9/site-packages/pandas/core/reshape/merge.py\u001b[0m in \u001b[0;36m_get_merge_keys\u001b[0;34m(self)\u001b[0m\n\u001b[1;32m   1094\u001b[0m                     \u001b[0;32mif\u001b[0m \u001b[0;32mnot\u001b[0m \u001b[0mis_rkey\u001b[0m\u001b[0;34m(\u001b[0m\u001b[0mrk\u001b[0m\u001b[0;34m)\u001b[0m\u001b[0;34m:\u001b[0m\u001b[0;34m\u001b[0m\u001b[0;34m\u001b[0m\u001b[0m\n\u001b[1;32m   1095\u001b[0m                         \u001b[0;32mif\u001b[0m \u001b[0mrk\u001b[0m \u001b[0;32mis\u001b[0m \u001b[0;32mnot\u001b[0m \u001b[0;32mNone\u001b[0m\u001b[0;34m:\u001b[0m\u001b[0;34m\u001b[0m\u001b[0;34m\u001b[0m\u001b[0m\n\u001b[0;32m-> 1096\u001b[0;31m                             \u001b[0mright_keys\u001b[0m\u001b[0;34m.\u001b[0m\u001b[0mappend\u001b[0m\u001b[0;34m(\u001b[0m\u001b[0mright\u001b[0m\u001b[0;34m.\u001b[0m\u001b[0m_get_label_or_level_values\u001b[0m\u001b[0;34m(\u001b[0m\u001b[0mrk\u001b[0m\u001b[0;34m)\u001b[0m\u001b[0;34m)\u001b[0m\u001b[0;34m\u001b[0m\u001b[0;34m\u001b[0m\u001b[0m\n\u001b[0m\u001b[1;32m   1097\u001b[0m                         \u001b[0;32melse\u001b[0m\u001b[0;34m:\u001b[0m\u001b[0;34m\u001b[0m\u001b[0;34m\u001b[0m\u001b[0m\n\u001b[1;32m   1098\u001b[0m                             \u001b[0;31m# work-around for merge_asof(right_index=True)\u001b[0m\u001b[0;34m\u001b[0m\u001b[0;34m\u001b[0m\u001b[0m\n",
      "\u001b[0;32m~/miniforge3/lib/python3.9/site-packages/pandas/core/generic.py\u001b[0m in \u001b[0;36m_get_label_or_level_values\u001b[0;34m(self, key, axis)\u001b[0m\n\u001b[1;32m   1777\u001b[0m             \u001b[0mvalues\u001b[0m \u001b[0;34m=\u001b[0m \u001b[0mself\u001b[0m\u001b[0;34m.\u001b[0m\u001b[0maxes\u001b[0m\u001b[0;34m[\u001b[0m\u001b[0maxis\u001b[0m\u001b[0;34m]\u001b[0m\u001b[0;34m.\u001b[0m\u001b[0mget_level_values\u001b[0m\u001b[0;34m(\u001b[0m\u001b[0mkey\u001b[0m\u001b[0;34m)\u001b[0m\u001b[0;34m.\u001b[0m\u001b[0m_values\u001b[0m\u001b[0;34m\u001b[0m\u001b[0;34m\u001b[0m\u001b[0m\n\u001b[1;32m   1778\u001b[0m         \u001b[0;32melse\u001b[0m\u001b[0;34m:\u001b[0m\u001b[0;34m\u001b[0m\u001b[0;34m\u001b[0m\u001b[0m\n\u001b[0;32m-> 1779\u001b[0;31m             \u001b[0;32mraise\u001b[0m \u001b[0mKeyError\u001b[0m\u001b[0;34m(\u001b[0m\u001b[0mkey\u001b[0m\u001b[0;34m)\u001b[0m\u001b[0;34m\u001b[0m\u001b[0;34m\u001b[0m\u001b[0m\n\u001b[0m\u001b[1;32m   1780\u001b[0m \u001b[0;34m\u001b[0m\u001b[0m\n\u001b[1;32m   1781\u001b[0m         \u001b[0;31m# Check for duplicates\u001b[0m\u001b[0;34m\u001b[0m\u001b[0;34m\u001b[0m\u001b[0m\n",
      "\u001b[0;31mKeyError\u001b[0m: 'asin'"
     ]
    }
   ],
   "source": [
    "load_df=df.merge(df_scrape, how='inner', left_on='asin', right_on='asin')"
   ]
  },
  {
   "cell_type": "code",
   "execution_count": 295,
   "id": "cd581a21-42da-4456-a366-d4b79257e747",
   "metadata": {},
   "outputs": [
    {
     "data": {
      "text/html": [
       "<div>\n",
       "<style scoped>\n",
       "    .dataframe tbody tr th:only-of-type {\n",
       "        vertical-align: middle;\n",
       "    }\n",
       "\n",
       "    .dataframe tbody tr th {\n",
       "        vertical-align: top;\n",
       "    }\n",
       "\n",
       "    .dataframe thead th {\n",
       "        text-align: right;\n",
       "    }\n",
       "</style>\n",
       "<table border=\"1\" class=\"dataframe\">\n",
       "  <thead>\n",
       "    <tr style=\"text-align: right;\">\n",
       "      <th></th>\n",
       "      <th>reviewerID</th>\n",
       "      <th>asin</th>\n",
       "      <th>reviewerName</th>\n",
       "      <th>helpful</th>\n",
       "      <th>reviewText</th>\n",
       "      <th>overall</th>\n",
       "      <th>summary</th>\n",
       "      <th>unixReviewTime</th>\n",
       "      <th>reviewTime</th>\n",
       "    </tr>\n",
       "  </thead>\n",
       "  <tbody>\n",
       "    <tr>\n",
       "      <th>0</th>\n",
       "      <td>AO94DHGC771SJ</td>\n",
       "      <td>0528881469</td>\n",
       "      <td>amazdnu</td>\n",
       "      <td>[0, 0]</td>\n",
       "      <td>We got this GPS for my husband who is an (OTR)...</td>\n",
       "      <td>5</td>\n",
       "      <td>Gotta have GPS!</td>\n",
       "      <td>1370131200</td>\n",
       "      <td>06 2, 2013</td>\n",
       "    </tr>\n",
       "    <tr>\n",
       "      <th>1</th>\n",
       "      <td>AMO214LNFCEI4</td>\n",
       "      <td>0528881469</td>\n",
       "      <td>Amazon Customer</td>\n",
       "      <td>[12, 15]</td>\n",
       "      <td>I'm a professional OTR truck driver, and I bou...</td>\n",
       "      <td>1</td>\n",
       "      <td>Very Disappointed</td>\n",
       "      <td>1290643200</td>\n",
       "      <td>11 25, 2010</td>\n",
       "    </tr>\n",
       "    <tr>\n",
       "      <th>2</th>\n",
       "      <td>A3N7T0DY83Y4IG</td>\n",
       "      <td>0528881469</td>\n",
       "      <td>C. A. Freeman</td>\n",
       "      <td>[43, 45]</td>\n",
       "      <td>Well, what can I say.  I've had this unit in m...</td>\n",
       "      <td>3</td>\n",
       "      <td>1st impression</td>\n",
       "      <td>1283990400</td>\n",
       "      <td>09 9, 2010</td>\n",
       "    </tr>\n",
       "    <tr>\n",
       "      <th>3</th>\n",
       "      <td>A1H8PY3QHMQQA0</td>\n",
       "      <td>0528881469</td>\n",
       "      <td>Dave M. Shaw \"mack dave\"</td>\n",
       "      <td>[9, 10]</td>\n",
       "      <td>Not going to write a long review, even thought...</td>\n",
       "      <td>2</td>\n",
       "      <td>Great grafics, POOR GPS</td>\n",
       "      <td>1290556800</td>\n",
       "      <td>11 24, 2010</td>\n",
       "    </tr>\n",
       "    <tr>\n",
       "      <th>4</th>\n",
       "      <td>A24EV6RXELQZ63</td>\n",
       "      <td>0528881469</td>\n",
       "      <td>Wayne Smith</td>\n",
       "      <td>[0, 0]</td>\n",
       "      <td>I've had mine for a year and here's what we go...</td>\n",
       "      <td>1</td>\n",
       "      <td>Major issues, only excuses for support</td>\n",
       "      <td>1317254400</td>\n",
       "      <td>09 29, 2011</td>\n",
       "    </tr>\n",
       "    <tr>\n",
       "      <th>...</th>\n",
       "      <td>...</td>\n",
       "      <td>...</td>\n",
       "      <td>...</td>\n",
       "      <td>...</td>\n",
       "      <td>...</td>\n",
       "      <td>...</td>\n",
       "      <td>...</td>\n",
       "      <td>...</td>\n",
       "      <td>...</td>\n",
       "    </tr>\n",
       "    <tr>\n",
       "      <th>1689183</th>\n",
       "      <td>A34BZM6S9L7QI4</td>\n",
       "      <td>B00LGQ6HL8</td>\n",
       "      <td>Candy Cane \"Is it just me?\"</td>\n",
       "      <td>[1, 1]</td>\n",
       "      <td>Burned these in before listening to them for a...</td>\n",
       "      <td>5</td>\n",
       "      <td>Boom -- Pop -- Pow.  These deliver.</td>\n",
       "      <td>1405555200</td>\n",
       "      <td>07 17, 2014</td>\n",
       "    </tr>\n",
       "    <tr>\n",
       "      <th>1689184</th>\n",
       "      <td>A1G650TTTHEAL5</td>\n",
       "      <td>B00LGQ6HL8</td>\n",
       "      <td>Charles Spanky \"Zumina Reviews\"</td>\n",
       "      <td>[0, 0]</td>\n",
       "      <td>Some people like DJ style headphones or earbud...</td>\n",
       "      <td>5</td>\n",
       "      <td>Thin and light, without compromising on sound ...</td>\n",
       "      <td>1405382400</td>\n",
       "      <td>07 15, 2014</td>\n",
       "    </tr>\n",
       "    <tr>\n",
       "      <th>1689185</th>\n",
       "      <td>A25C2M3QF9G7OQ</td>\n",
       "      <td>B00LGQ6HL8</td>\n",
       "      <td>Comdet</td>\n",
       "      <td>[0, 0]</td>\n",
       "      <td>I&amp;#8217;m a big fan of the Brainwavz S1 (actua...</td>\n",
       "      <td>5</td>\n",
       "      <td>Same form factor and durability as the S1 with...</td>\n",
       "      <td>1405555200</td>\n",
       "      <td>07 17, 2014</td>\n",
       "    </tr>\n",
       "    <tr>\n",
       "      <th>1689186</th>\n",
       "      <td>A1E1LEVQ9VQNK</td>\n",
       "      <td>B00LGQ6HL8</td>\n",
       "      <td>J. Chambers</td>\n",
       "      <td>[0, 0]</td>\n",
       "      <td>I've used theBrainwavz S1 In Ear Headphones, a...</td>\n",
       "      <td>5</td>\n",
       "      <td>Superb audio quality in a very comfortable set...</td>\n",
       "      <td>1405641600</td>\n",
       "      <td>07 18, 2014</td>\n",
       "    </tr>\n",
       "    <tr>\n",
       "      <th>1689187</th>\n",
       "      <td>A2NYK9KWFMJV4Y</td>\n",
       "      <td>B00LGQ6HL8</td>\n",
       "      <td>Mike Tarrani \"Jazz Drummer\"</td>\n",
       "      <td>[0, 0]</td>\n",
       "      <td>Normally when I receive a review sample I can ...</td>\n",
       "      <td>5</td>\n",
       "      <td>Exceptional sound</td>\n",
       "      <td>1405209600</td>\n",
       "      <td>07 13, 2014</td>\n",
       "    </tr>\n",
       "  </tbody>\n",
       "</table>\n",
       "<p>1689188 rows × 9 columns</p>\n",
       "</div>"
      ],
      "text/plain": [
       "             reviewerID        asin                     reviewerName  \\\n",
       "0         AO94DHGC771SJ  0528881469                          amazdnu   \n",
       "1         AMO214LNFCEI4  0528881469                  Amazon Customer   \n",
       "2        A3N7T0DY83Y4IG  0528881469                    C. A. Freeman   \n",
       "3        A1H8PY3QHMQQA0  0528881469         Dave M. Shaw \"mack dave\"   \n",
       "4        A24EV6RXELQZ63  0528881469                      Wayne Smith   \n",
       "...                 ...         ...                              ...   \n",
       "1689183  A34BZM6S9L7QI4  B00LGQ6HL8      Candy Cane \"Is it just me?\"   \n",
       "1689184  A1G650TTTHEAL5  B00LGQ6HL8  Charles Spanky \"Zumina Reviews\"   \n",
       "1689185  A25C2M3QF9G7OQ  B00LGQ6HL8                           Comdet   \n",
       "1689186   A1E1LEVQ9VQNK  B00LGQ6HL8                      J. Chambers   \n",
       "1689187  A2NYK9KWFMJV4Y  B00LGQ6HL8      Mike Tarrani \"Jazz Drummer\"   \n",
       "\n",
       "          helpful                                         reviewText  overall  \\\n",
       "0          [0, 0]  We got this GPS for my husband who is an (OTR)...        5   \n",
       "1        [12, 15]  I'm a professional OTR truck driver, and I bou...        1   \n",
       "2        [43, 45]  Well, what can I say.  I've had this unit in m...        3   \n",
       "3         [9, 10]  Not going to write a long review, even thought...        2   \n",
       "4          [0, 0]  I've had mine for a year and here's what we go...        1   \n",
       "...           ...                                                ...      ...   \n",
       "1689183    [1, 1]  Burned these in before listening to them for a...        5   \n",
       "1689184    [0, 0]  Some people like DJ style headphones or earbud...        5   \n",
       "1689185    [0, 0]  I&#8217;m a big fan of the Brainwavz S1 (actua...        5   \n",
       "1689186    [0, 0]  I've used theBrainwavz S1 In Ear Headphones, a...        5   \n",
       "1689187    [0, 0]  Normally when I receive a review sample I can ...        5   \n",
       "\n",
       "                                                   summary  unixReviewTime  \\\n",
       "0                                          Gotta have GPS!      1370131200   \n",
       "1                                        Very Disappointed      1290643200   \n",
       "2                                           1st impression      1283990400   \n",
       "3                                  Great grafics, POOR GPS      1290556800   \n",
       "4                   Major issues, only excuses for support      1317254400   \n",
       "...                                                    ...             ...   \n",
       "1689183                Boom -- Pop -- Pow.  These deliver.      1405555200   \n",
       "1689184  Thin and light, without compromising on sound ...      1405382400   \n",
       "1689185  Same form factor and durability as the S1 with...      1405555200   \n",
       "1689186  Superb audio quality in a very comfortable set...      1405641600   \n",
       "1689187                                  Exceptional sound      1405209600   \n",
       "\n",
       "          reviewTime  \n",
       "0         06 2, 2013  \n",
       "1        11 25, 2010  \n",
       "2         09 9, 2010  \n",
       "3        11 24, 2010  \n",
       "4        09 29, 2011  \n",
       "...              ...  \n",
       "1689183  07 17, 2014  \n",
       "1689184  07 15, 2014  \n",
       "1689185  07 17, 2014  \n",
       "1689186  07 18, 2014  \n",
       "1689187  07 13, 2014  \n",
       "\n",
       "[1689188 rows x 9 columns]"
      ]
     },
     "execution_count": 295,
     "metadata": {},
     "output_type": "execute_result"
    }
   ],
   "source": [
    "df"
   ]
  },
  {
   "cell_type": "code",
   "execution_count": null,
   "id": "dd4f447d-cf29-4689-8726-62b3097dc3c3",
   "metadata": {},
   "outputs": [],
   "source": []
  }
 ],
 "metadata": {
  "kernelspec": {
   "display_name": "Python 3 (ipykernel)",
   "language": "python",
   "name": "python3"
  },
  "language_info": {
   "codemirror_mode": {
    "name": "ipython",
    "version": 3
   },
   "file_extension": ".py",
   "mimetype": "text/x-python",
   "name": "python",
   "nbconvert_exporter": "python",
   "pygments_lexer": "ipython3",
   "version": "3.9.7"
  }
 },
 "nbformat": 4,
 "nbformat_minor": 5
}
