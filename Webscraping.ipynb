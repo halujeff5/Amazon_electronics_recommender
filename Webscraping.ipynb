{
 "cells": [
  {
   "cell_type": "markdown",
   "id": "7942c8e9-4572-4b32-bc35-7cc8ae8f8424",
   "metadata": {},
   "source": [
    "## Webscraping notebook"
   ]
  },
  {
   "cell_type": "code",
   "execution_count": 79,
   "id": "2c548769-61ac-447a-915a-4b2b8ad00c83",
   "metadata": {},
   "outputs": [],
   "source": [
    "import pandas as pd\n",
    "import numpy as np\n",
    "import seaborn as sns\n",
    "import matplotlib.pyplot as plt"
   ]
  },
  {
   "cell_type": "code",
   "execution_count": 80,
   "id": "6d23c9ec-8e23-4f9b-a641-26abdad0a1c5",
   "metadata": {},
   "outputs": [],
   "source": [
    "#loading downloaded data\n",
    "df=pd.read_json('~/Downloads/reviews_Electronics_5.json', lines=True)"
   ]
  },
  {
   "cell_type": "code",
   "execution_count": 81,
   "id": "8dfe6ac0-d30c-4897-a5ad-602221682bf7",
   "metadata": {},
   "outputs": [
    {
     "data": {
      "text/plain": [
       "0          We got this GPS for my husband who is an (OTR)...\n",
       "1          I'm a professional OTR truck driver, and I bou...\n",
       "2          Well, what can I say.  I've had this unit in m...\n",
       "3          Not going to write a long review, even thought...\n",
       "4          I've had mine for a year and here's what we go...\n",
       "                                 ...                        \n",
       "1689183    Burned these in before listening to them for a...\n",
       "1689184    Some people like DJ style headphones or earbud...\n",
       "1689185    I&#8217;m a big fan of the Brainwavz S1 (actua...\n",
       "1689186    I've used theBrainwavz S1 In Ear Headphones, a...\n",
       "1689187    Normally when I receive a review sample I can ...\n",
       "Name: reviewText, Length: 1689188, dtype: object"
      ]
     },
     "execution_count": 81,
     "metadata": {},
     "output_type": "execute_result"
    }
   ],
   "source": [
    "#examining text of reviews\n",
    "df.reviewText"
   ]
  },
  {
   "cell_type": "code",
   "execution_count": 4,
   "id": "cd6d468e-d935-46de-b881-53722a5ea773",
   "metadata": {},
   "outputs": [],
   "source": [
    "#error asins\n",
    "# df= df[df.asin!='B00004SYNX']\n",
    "# df= df[df.asin!='B00000J1SC']\n",
    "# df= df[df.asin!='B000067RVL']\n",
    "# df= df[df.asin!='B000068O53']\n",
    "# df= df[df.asin!='B00006B8EC']\n",
    "# df= df[df.asin!='']"
   ]
  },
  {
   "cell_type": "markdown",
   "id": "5398cfaf-1f4e-47f4-a3dd-6e2f45c0edad",
   "metadata": {},
   "source": [
    "### Webscraping the urls productTitle for item names"
   ]
  },
  {
   "cell_type": "code",
   "execution_count": 51,
   "id": "fb45bbb5-05f7-43fe-83a8-d8f35358058b",
   "metadata": {},
   "outputs": [],
   "source": [
    "# grabbing only the first 10,000 unique asin \n",
    "asin_list= list(df.asin.unique())\n",
    "asin_list=asin_list[0:10000]\n",
    "asin_list1=asin_list[10000:20000]\n",
    "asin_list2=asin_list[20000:30000]"
   ]
  },
  {
   "cell_type": "code",
   "execution_count": 61,
   "id": "9a816fe0-fc55-4b70-854a-59f828f384fb",
   "metadata": {},
   "outputs": [],
   "source": [
    "asin_list= list(df.asin.unique())\n",
    "asin_list1=asin_list[10000:20000]"
   ]
  },
  {
   "cell_type": "code",
   "execution_count": 6,
   "id": "08e0fab9-8764-46ba-a173-1462de660023",
   "metadata": {},
   "outputs": [],
   "source": [
    "#getting urls of asin's \n",
    "url=['https://www.amazon.com/dp/{}'.format(x) for x in asin_list]"
   ]
  },
  {
   "cell_type": "code",
   "execution_count": 7,
   "id": "165aaa83-df52-4f48-9799-0bf54347a18b",
   "metadata": {},
   "outputs": [
    {
     "name": "stderr",
     "output_type": "stream",
     "text": [
      "/var/folders/48/3rfqt3q17zj4zsvn_9rh50br0000gn/T/ipykernel_54878/3977662427.py:11: DeprecationWarning: use options instead of chrome_options\n",
      "  driver = webdriver.Chrome(chrome_options=options)\n"
     ]
    }
   ],
   "source": [
    "from selenium import webdriver\n",
    "from selenium.webdriver.chrome.options import Options\n",
    "\n",
    "options = Options()\n",
    "options.add_argument(\"start-maximized\")\n",
    "options.add_experimental_option(\"excludeSwitches\", [\"enable-automation\"])\n",
    "options.add_experimental_option('useAutomationExtension', False)\n",
    "options.add_argument('--disable-gpu')\n",
    "options.headless = True\n",
    "options.add_argument(\"window-size=1920,1080\")\n",
    "driver = webdriver.Chrome(chrome_options=options)\n",
    "\n",
    "#initializing selenium\n",
    "driver = webdriver.Chrome()"
   ]
  },
  {
   "cell_type": "code",
   "execution_count": 8,
   "id": "c852f04a-a1c0-42e8-9041-56d4c4abf965",
   "metadata": {},
   "outputs": [
    {
     "name": "stderr",
     "output_type": "stream",
     "text": [
      "/var/folders/48/3rfqt3q17zj4zsvn_9rh50br0000gn/T/ipykernel_54878/3325878413.py:8: DeprecationWarning: find_element_by_* commands are deprecated. Please use find_element() instead\n",
      "  content=driver.find_element_by_id('productTitle')\n"
     ]
    }
   ],
   "source": [
    "#script with selenium driver to extract element with productname\n",
    "import time\n",
    "stuff=[]\n",
    "links=[]\n",
    "for x in url:\n",
    "    try:\n",
    "        driver.get(str(x))\n",
    "        content=driver.find_element_by_id('productTitle')\n",
    "        links.append(x)\n",
    "        stuff.append(content.text)\n",
    "    except:\n",
    "        print('page not found')\n",
    "        continue      \n",
    "        time.sleep(.001)"
   ]
  },
  {
   "cell_type": "code",
   "execution_count": 56,
   "id": "951c456e-9972-4e9d-a4f6-7ff9e146dcd1",
   "metadata": {},
   "outputs": [],
   "source": [
    "import pickle\n",
    "with open ('stuff.pickle', 'wb') as f:\n",
    "    pickle.dump(stuff, f, 5)\n"
   ]
  },
  {
   "cell_type": "code",
   "execution_count": 57,
   "id": "43e76185-bd35-4fe6-871d-74589fa970f8",
   "metadata": {},
   "outputs": [],
   "source": [
    "with open ('links.pickle', 'wb') as f:\n",
    "    pickle.dump(links, f, 5)"
   ]
  },
  {
   "cell_type": "code",
   "execution_count": 24,
   "id": "685364ba-59b3-4ffb-ada2-751fff311705",
   "metadata": {},
   "outputs": [
    {
     "data": {
      "text/plain": [
       "9423"
      ]
     },
     "execution_count": 24,
     "metadata": {},
     "output_type": "execute_result"
    }
   ],
   "source": [
    "len(links)"
   ]
  },
  {
   "cell_type": "code",
   "execution_count": 25,
   "id": "245a914a-8971-42f1-bbaa-1276b7448116",
   "metadata": {},
   "outputs": [
    {
     "data": {
      "text/plain": [
       "9423"
      ]
     },
     "execution_count": 25,
     "metadata": {},
     "output_type": "execute_result"
    }
   ],
   "source": [
    "len(stuff)"
   ]
  },
  {
   "cell_type": "code",
   "execution_count": 63,
   "id": "591435a3-7a65-4f94-8ee8-0ce63a188968",
   "metadata": {},
   "outputs": [],
   "source": [
    "#getting urls of asin's\n",
    "url1=['https://www.amazon.com/dp/{}'.format(x) for x in asin_list1]"
   ]
  },
  {
   "cell_type": "code",
   "execution_count": 64,
   "id": "24e62f71-65a1-448c-8f30-b2c330b6c3cf",
   "metadata": {},
   "outputs": [
    {
     "data": {
      "text/plain": [
       "'B000IMM26U'"
      ]
     },
     "execution_count": 64,
     "metadata": {},
     "output_type": "execute_result"
    }
   ],
   "source": [
    "asin_list1[0]"
   ]
  },
  {
   "cell_type": "code",
   "execution_count": 65,
   "id": "2a4b9b79-63d0-4833-b07a-07f74f2b2bea",
   "metadata": {},
   "outputs": [],
   "source": [
    "#initializing selenium\n",
    "driver = webdriver.Chrome()"
   ]
  },
  {
   "cell_type": "code",
   "execution_count": 66,
   "id": "34aa0d3d-83cd-456b-8dd7-cd5ce80403e0",
   "metadata": {},
   "outputs": [
    {
     "name": "stderr",
     "output_type": "stream",
     "text": [
      "  0%|                                                 | 0/10000 [00:00<?, ?it/s]/var/folders/48/3rfqt3q17zj4zsvn_9rh50br0000gn/T/ipykernel_54878/1158868331.py:9: DeprecationWarning: find_element_by_* commands are deprecated. Please use find_element() instead\n",
      "  content=driver.find_element_by_id('productTitle')\n",
      "100%|███████████████████████████████████| 10000/10000 [5:15:51<00:00,  1.90s/it]\n"
     ]
    }
   ],
   "source": [
    "#script with selenium driver to extract element with productname using for loop\n",
    "\n",
    "import time\n",
    "stuff1=[]\n",
    "links1=[]\n",
    "for x in tqdm(url1):\n",
    "    try:\n",
    "        driver.get(str(x))\n",
    "        content=driver.find_element_by_id('productTitle')\n",
    "        links1.append(x)\n",
    "        stuff1.append(content.text)\n",
    "    except:\n",
    "        continue      \n",
    "        time.sleep(.001)"
   ]
  },
  {
   "cell_type": "code",
   "execution_count": 67,
   "id": "9e76027c-bff2-40d0-89c0-516597910130",
   "metadata": {},
   "outputs": [],
   "source": [
    "\n",
    "with open ('stuff1.pickle', 'wb') as f:\n",
    "    pickle.dump(stuff1, f, 5)\n",
    "with open ('links1.pickle', 'wb') as f:\n",
    "    pickle.dump(links1, f, 5)"
   ]
  },
  {
   "cell_type": "code",
   "execution_count": 68,
   "id": "717d76f5-0fee-4c6f-89c9-16ea9e1b4e1f",
   "metadata": {},
   "outputs": [],
   "source": [
    "asin_list= list(df.asin.unique())\n",
    "asin_list2=asin_list[20000:30000]"
   ]
  },
  {
   "cell_type": "code",
   "execution_count": null,
   "id": "0a22049b-856f-4aec-855e-ca99165e818d",
   "metadata": {},
   "outputs": [],
   "source": []
  },
  {
   "cell_type": "code",
   "execution_count": null,
   "id": "3a3bae99-353a-4fa2-a73b-c564c7716dd8",
   "metadata": {},
   "outputs": [],
   "source": []
  },
  {
   "cell_type": "code",
   "execution_count": 69,
   "id": "3cf28077-7d63-430d-8e30-145b182bb1b5",
   "metadata": {},
   "outputs": [],
   "source": [
    "url2=['https://www.amazon.com/dp/{}'.format(x) for x in asin_list2]"
   ]
  },
  {
   "cell_type": "code",
   "execution_count": 70,
   "id": "1b586115-e107-472a-bc57-7cba61ab870f",
   "metadata": {},
   "outputs": [
    {
     "name": "stderr",
     "output_type": "stream",
     "text": [
      "/var/folders/48/3rfqt3q17zj4zsvn_9rh50br0000gn/T/ipykernel_54878/1509041771.py:8: DeprecationWarning: use options instead of chrome_options\n",
      "  driver = webdriver.Chrome(chrome_options=options)\n"
     ]
    }
   ],
   "source": [
    "options = Options()\n",
    "options.add_argument(\"start-maximized\")\n",
    "options.add_experimental_option(\"excludeSwitches\", [\"enable-automation\"])\n",
    "options.add_experimental_option('useAutomationExtension', False)\n",
    "options.add_argument('--disable-gpu')\n",
    "options.headless = True\n",
    "options.add_argument(\"window-size=1920,1080\")\n",
    "driver = webdriver.Chrome(chrome_options=options)\n",
    "\n",
    "#initializing selenium\n",
    "driver = webdriver.Chrome()"
   ]
  },
  {
   "cell_type": "code",
   "execution_count": 71,
   "id": "4de268cd-3ef9-4da6-93c4-4feb984f6a43",
   "metadata": {},
   "outputs": [
    {
     "name": "stderr",
     "output_type": "stream",
     "text": [
      "  0%|                                                 | 0/10000 [00:00<?, ?it/s]/var/folders/48/3rfqt3q17zj4zsvn_9rh50br0000gn/T/ipykernel_54878/2029006198.py:10: DeprecationWarning: find_element_by_* commands are deprecated. Please use find_element() instead\n",
      "  content=driver.find_element_by_id('productTitle')\n",
      "100%|███████████████████████████████████| 10000/10000 [5:19:08<00:00,  1.91s/it]\n"
     ]
    }
   ],
   "source": [
    "#script with selenium driver to extract element with productname\n",
    "import time\n",
    "from tqdm import tqdm\n",
    "\n",
    "stuff2=[]\n",
    "links2=[]\n",
    "for x in tqdm(url2):\n",
    "    try:\n",
    "        driver.get(str(x))\n",
    "        content=driver.find_element_by_id('productTitle')\n",
    "        links2.append(x)\n",
    "        stuff2.append(content.text)\n",
    "    except:\n",
    "        continue      \n",
    "        time.sleep(.0005)"
   ]
  },
  {
   "cell_type": "code",
   "execution_count": 75,
   "id": "13e0d60f-2502-4680-8454-1b8fe32dade7",
   "metadata": {},
   "outputs": [],
   "source": [
    "import pickle\n",
    "with open ('stuff2.pickle', 'wb') as f:\n",
    "    pickle.dump(stuff2, f, 5)\n",
    "with open ('links2.pickle', 'wb') as f:\n",
    "    pickle.dump(links2, f, 5)"
   ]
  },
  {
   "cell_type": "markdown",
   "id": "1388cfc8-261d-4abe-a9a0-ba6e0079ab06",
   "metadata": {},
   "source": [
    "### Webscraping the item tags so that items can be put into categories"
   ]
  },
  {
   "cell_type": "code",
   "execution_count": 125,
   "id": "6a4ac27d-2438-40b6-90d4-3dcafcce377c",
   "metadata": {},
   "outputs": [
    {
     "data": {
      "text/plain": [
       "26885"
      ]
     },
     "execution_count": 125,
     "metadata": {},
     "output_type": "execute_result"
    }
   ],
   "source": [
    "#getting our urls ready for webscraping\n",
    "df1= pd.Series(links)\n",
    "df2=pd.Series(links1)\n",
    "df3=pd.Series(links2)\n",
    "frames=[df1,df2,df3]\n",
    "url_series=pd.concat(frames, axis=0)\n",
    "len(url_series)"
   ]
  },
  {
   "cell_type": "code",
   "execution_count": 52,
   "id": "38783060-3686-4202-b02b-f59214e04ed2",
   "metadata": {},
   "outputs": [
    {
     "name": "stderr",
     "output_type": "stream",
     "text": [
      "/var/folders/48/3rfqt3q17zj4zsvn_9rh50br0000gn/T/ipykernel_1871/3977662427.py:11: DeprecationWarning: use options instead of chrome_options\n",
      "  driver = webdriver.Chrome(chrome_options=options)\n"
     ]
    }
   ],
   "source": [
    "#importing webdriver\n",
    "from selenium import webdriver\n",
    "from selenium.webdriver.chrome.options import Options\n",
    "\n",
    "# options = Options()\n",
    "# options.add_argument(\"start-maximized\")\n",
    "# options.add_experimental_option(\"excludeSwitches\", [\"enable-automation\"])\n",
    "# options.add_experimental_option('useAutomationExtension', False)\n",
    "# options.add_argument('--disable-gpu')\n",
    "# options.headless = True\n",
    "# options.add_argument(\"window-size=1920,1080\")\n",
    "# driver = webdriver.Chrome(chrome_options=options)\n",
    "\n",
    "#initializing selenium\n",
    "driver = webdriver.Chrome()"
   ]
  },
  {
   "cell_type": "code",
   "execution_count": 129,
   "id": "7f28f71e-7d53-4033-954e-72556794fd5b",
   "metadata": {},
   "outputs": [
    {
     "name": "stderr",
     "output_type": "stream",
     "text": [
      "  0%|                                                 | 0/26885 [00:00<?, ?it/s]/var/folders/48/3rfqt3q17zj4zsvn_9rh50br0000gn/T/ipykernel_1871/3385348802.py:10: DeprecationWarning: find_elements_by_* commands are deprecated. Please use find_elements() instead\n",
      "  content=driver.find_elements_by_class_name('a-link-normal.a-color-tertiary')\n",
      "100%|██████████████████████████████████| 26885/26885 [17:20:37<00:00,  2.32s/it]\n"
     ]
    }
   ],
   "source": [
    "#script to scrape the categories from items\n",
    "from tqdm import tqdm\n",
    "import time\n",
    "linkz=[]\n",
    "tagz=[]\n",
    "driver = webdriver.Chrome()\n",
    "for x in tqdm(url_series):\n",
    "    try:\n",
    "        driver.get(str(x))\n",
    "        content=driver.find_elements_by_class_name('a-link-normal.a-color-tertiary')\n",
    "        # see= [x.text for x in content]\n",
    "        # tagz.append(see)\n",
    "        linkz.append(x)\n",
    "    except:\n",
    "        continue\n",
    "        time.sleep(.0005)\n",
    "        driver.close()"
   ]
  },
  {
   "cell_type": "code",
   "execution_count": 136,
   "id": "750ae699-36ec-483c-8646-fd9ed15d9d50",
   "metadata": {},
   "outputs": [
    {
     "name": "stderr",
     "output_type": "stream",
     "text": [
      "100%|████████████████████████████████| 26871/26871 [00:00<00:00, 4266063.92it/s]\n"
     ]
    }
   ],
   "source": []
  },
  {
   "cell_type": "code",
   "execution_count": 141,
   "id": "3ee5901e-2785-4b7c-81fb-28c04515066c",
   "metadata": {},
   "outputs": [
    {
     "name": "stderr",
     "output_type": "stream",
     "text": [
      "100%|████████████████████████████████| 26871/26871 [00:00<00:00, 1616887.49it/s]\n"
     ]
    }
   ],
   "source": [
    "#these category names will serve as tags for our items\n",
    "tagzz=[]\n",
    "for ele in tqdm(tagz):\n",
    "    tagzz.append(ele[-1::])\n",
    "\n",
    "    "
   ]
  },
  {
   "cell_type": "code",
   "execution_count": null,
   "id": "54a6ab16-fe58-4ee5-b15c-4f540a1c7658",
   "metadata": {},
   "outputs": [],
   "source": []
  },
  {
   "cell_type": "code",
   "execution_count": 144,
   "id": "c0816a54-2ad4-4ce7-bb3d-994f333c9c32",
   "metadata": {},
   "outputs": [],
   "source": [
    "import pickle\n",
    "with open ('tagzz.pickle', 'wb') as f:\n",
    "    pickle.dump(tagzz, f, 5)"
   ]
  },
  {
   "cell_type": "markdown",
   "id": "5d19871f-0fa2-4cc5-9a70-3677bbf31b91",
   "metadata": {},
   "source": [
    "### Scraping the price of the item"
   ]
  },
  {
   "cell_type": "code",
   "execution_count": null,
   "id": "1cc0ab91-0fa9-4afc-b892-e9c93188dbd5",
   "metadata": {},
   "outputs": [
    {
     "name": "stderr",
     "output_type": "stream",
     "text": [
      "  0%|                                                 | 0/26885 [00:00<?, ?it/s]/var/folders/48/3rfqt3q17zj4zsvn_9rh50br0000gn/T/ipykernel_1871/717161247.py:9: DeprecationWarning: find_elements_by_* commands are deprecated. Please use find_elements() instead\n",
      "  content=driver.find_elements_by_class_name('a-price')\n",
      " 72%|███████████████████████         | 19399/26885 [13:07:42<3:55:04,  1.88s/it]"
     ]
    }
   ],
   "source": [
    "from tqdm import tqdm\n",
    "import time\n",
    "linkz_p=[]\n",
    "tagz_p=[]\n",
    "driver = webdriver.Chrome()\n",
    "for x in tqdm(url_series):\n",
    "    try:\n",
    "        driver.get(str(x))\n",
    "        content=driver.find_elements_by_class_name('a-price')\n",
    "        see= [x.text for x in content]\n",
    "        tagz_p.append(see)\n",
    "        linkz_p.append(x)\n",
    "    except:\n",
    "        continue\n",
    "        time.sleep(.0005)\n",
    "        driver.close()"
   ]
  },
  {
   "cell_type": "markdown",
   "id": "d28f89b0-903f-4d2c-9be7-6a74fd35f1f8",
   "metadata": {},
   "source": [
    "### We will use Bert Embeddings for the df.reviewText"
   ]
  },
  {
   "cell_type": "code",
   "execution_count": 156,
   "id": "b9264b73-e914-4ff4-8c48-5f3850ee788f",
   "metadata": {},
   "outputs": [
    {
     "data": {
      "text/plain": [
       "['https://www.amazon.com/dp/0528881469',\n",
       " 'https://www.amazon.com/dp/0594451647',\n",
       " 'https://www.amazon.com/dp/0594481813',\n",
       " 'https://www.amazon.com/dp/0972683275',\n",
       " 'https://www.amazon.com/dp/1400501466']"
      ]
     },
     "execution_count": 156,
     "metadata": {},
     "output_type": "execute_result"
    }
   ],
   "source": [
    "len(linkz_p), len(tagzz)"
   ]
  },
  {
   "cell_type": "code",
   "execution_count": 159,
   "id": "8287ad25-d218-4487-bbb9-901053a49dec",
   "metadata": {},
   "outputs": [
    {
     "data": {
      "text/plain": [
       "[['Trucking GPS'],\n",
       " ['Chargers & Adapters'],\n",
       " ['Power Adapters'],\n",
       " ['TV Ceiling & Wall Mounts'],\n",
       " ['Tablets']]"
      ]
     },
     "execution_count": 159,
     "metadata": {},
     "output_type": "execute_result"
    }
   ],
   "source": [
    "tagzz[0:5]"
   ]
  },
  {
   "cell_type": "code",
   "execution_count": null,
   "id": "f5e60d82-3932-4522-8242-df6fbb985f1b",
   "metadata": {},
   "outputs": [],
   "source": []
  }
 ],
 "metadata": {
  "kernelspec": {
   "display_name": "Python 3 (ipykernel)",
   "language": "python",
   "name": "python3"
  },
  "language_info": {
   "codemirror_mode": {
    "name": "ipython",
    "version": 3
   },
   "file_extension": ".py",
   "mimetype": "text/x-python",
   "name": "python",
   "nbconvert_exporter": "python",
   "pygments_lexer": "ipython3",
   "version": "3.9.7"
  }
 },
 "nbformat": 4,
 "nbformat_minor": 5
}
