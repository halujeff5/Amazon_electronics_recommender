{
 "cells": [
  {
   "cell_type": "markdown",
   "id": "7942c8e9-4572-4b32-bc35-7cc8ae8f8424",
   "metadata": {},
   "source": [
    "## Webscraping notebook"
   ]
  },
  {
   "cell_type": "code",
   "execution_count": 1,
   "id": "2c548769-61ac-447a-915a-4b2b8ad00c83",
   "metadata": {},
   "outputs": [],
   "source": [
    "import pandas as pd\n",
    "import numpy as np\n",
    "import seaborn as sns\n",
    "import matplotlib.pyplot as plt"
   ]
  },
  {
   "cell_type": "code",
   "execution_count": 2,
   "id": "6d23c9ec-8e23-4f9b-a641-26abdad0a1c5",
   "metadata": {},
   "outputs": [],
   "source": [
    "#loading downloaded data\n",
    "df=pd.read_json('~/Downloads/reviews_Electronics_5.json', lines=True)"
   ]
  },
  {
   "cell_type": "code",
   "execution_count": 3,
   "id": "8dfe6ac0-d30c-4897-a5ad-602221682bf7",
   "metadata": {},
   "outputs": [
    {
     "data": {
      "text/plain": [
       "0          We got this GPS for my husband who is an (OTR)...\n",
       "1          I'm a professional OTR truck driver, and I bou...\n",
       "2          Well, what can I say.  I've had this unit in m...\n",
       "3          Not going to write a long review, even thought...\n",
       "4          I've had mine for a year and here's what we go...\n",
       "                                 ...                        \n",
       "1689183    Burned these in before listening to them for a...\n",
       "1689184    Some people like DJ style headphones or earbud...\n",
       "1689185    I&#8217;m a big fan of the Brainwavz S1 (actua...\n",
       "1689186    I've used theBrainwavz S1 In Ear Headphones, a...\n",
       "1689187    Normally when I receive a review sample I can ...\n",
       "Name: reviewText, Length: 1689188, dtype: object"
      ]
     },
     "execution_count": 3,
     "metadata": {},
     "output_type": "execute_result"
    }
   ],
   "source": [
    "#examining text of reviews\n",
    "df.reviewText"
   ]
  },
  {
   "cell_type": "code",
   "execution_count": 4,
   "id": "cd6d468e-d935-46de-b881-53722a5ea773",
   "metadata": {},
   "outputs": [],
   "source": [
    "#error asins\n",
    "# df= df[df.asin!='B00004SYNX']\n",
    "# df= df[df.asin!='B00000J1SC']\n",
    "# df= df[df.asin!='B000067RVL']\n",
    "# df= df[df.asin!='B000068O53']\n",
    "# df= df[df.asin!='B00006B8EC']\n",
    "# df= df[df.asin!='']"
   ]
  },
  {
   "cell_type": "code",
   "execution_count": 51,
   "id": "fb45bbb5-05f7-43fe-83a8-d8f35358058b",
   "metadata": {},
   "outputs": [],
   "source": [
    "# grabbing only the first 10,000 unique asin \n",
    "asin_list= list(df.asin.unique())\n",
    "asin_list=asin_list[0:10000]\n",
    "asin_list1=asin_list[10000:20000]\n",
    "asin_list2=asin_list[20000:30000]"
   ]
  },
  {
   "cell_type": "code",
   "execution_count": 61,
   "id": "9a816fe0-fc55-4b70-854a-59f828f384fb",
   "metadata": {},
   "outputs": [],
   "source": [
    "asin_list= list(df.asin.unique())\n",
    "asin_list1=asin_list[10000:20000]"
   ]
  },
  {
   "cell_type": "code",
   "execution_count": 6,
   "id": "08e0fab9-8764-46ba-a173-1462de660023",
   "metadata": {},
   "outputs": [],
   "source": [
    "#getting urls of asin's \n",
    "url=['https://www.amazon.com/dp/{}'.format(x) for x in asin_list]"
   ]
  },
  {
   "cell_type": "code",
   "execution_count": 7,
   "id": "165aaa83-df52-4f48-9799-0bf54347a18b",
   "metadata": {},
   "outputs": [
    {
     "name": "stderr",
     "output_type": "stream",
     "text": [
      "/var/folders/48/3rfqt3q17zj4zsvn_9rh50br0000gn/T/ipykernel_54878/3977662427.py:11: DeprecationWarning: use options instead of chrome_options\n",
      "  driver = webdriver.Chrome(chrome_options=options)\n"
     ]
    }
   ],
   "source": [
    "from selenium import webdriver\n",
    "from selenium.webdriver.chrome.options import Options\n",
    "\n",
    "options = Options()\n",
    "options.add_argument(\"start-maximized\")\n",
    "options.add_experimental_option(\"excludeSwitches\", [\"enable-automation\"])\n",
    "options.add_experimental_option('useAutomationExtension', False)\n",
    "options.add_argument('--disable-gpu')\n",
    "options.headless = True\n",
    "options.add_argument(\"window-size=1920,1080\")\n",
    "driver = webdriver.Chrome(chrome_options=options)\n",
    "\n",
    "#initializing selenium\n",
    "driver = webdriver.Chrome()"
   ]
  },
  {
   "cell_type": "code",
   "execution_count": 8,
   "id": "c852f04a-a1c0-42e8-9041-56d4c4abf965",
   "metadata": {},
   "outputs": [
    {
     "name": "stderr",
     "output_type": "stream",
     "text": [
      "/var/folders/48/3rfqt3q17zj4zsvn_9rh50br0000gn/T/ipykernel_54878/3325878413.py:8: DeprecationWarning: find_element_by_* commands are deprecated. Please use find_element() instead\n",
      "  content=driver.find_element_by_id('productTitle')\n"
     ]
    }
   ],
   "source": [
    "#script with selenium driver to extract element with productname\n",
    "import time\n",
    "stuff=[]\n",
    "links=[]\n",
    "for x in url:\n",
    "    try:\n",
    "        driver.get(str(x))\n",
    "        content=driver.find_element_by_id('productTitle')\n",
    "        links.append(x)\n",
    "        stuff.append(content.text)\n",
    "    except:\n",
    "        print('page not found')\n",
    "        continue      \n",
    "        time.sleep(.001)"
   ]
  },
  {
   "cell_type": "code",
   "execution_count": 56,
   "id": "951c456e-9972-4e9d-a4f6-7ff9e146dcd1",
   "metadata": {},
   "outputs": [],
   "source": [
    "import pickle\n",
    "with open ('stuff.pickle', 'wb') as f:\n",
    "    pickle.dump(stuff, f, 5)\n"
   ]
  },
  {
   "cell_type": "code",
   "execution_count": 57,
   "id": "43e76185-bd35-4fe6-871d-74589fa970f8",
   "metadata": {},
   "outputs": [],
   "source": [
    "with open ('links.pickle', 'wb') as f:\n",
    "    pickle.dump(links, f, 5)"
   ]
  },
  {
   "cell_type": "code",
   "execution_count": 24,
   "id": "685364ba-59b3-4ffb-ada2-751fff311705",
   "metadata": {},
   "outputs": [
    {
     "data": {
      "text/plain": [
       "9423"
      ]
     },
     "execution_count": 24,
     "metadata": {},
     "output_type": "execute_result"
    }
   ],
   "source": [
    "len(links)"
   ]
  },
  {
   "cell_type": "code",
   "execution_count": 25,
   "id": "245a914a-8971-42f1-bbaa-1276b7448116",
   "metadata": {},
   "outputs": [
    {
     "data": {
      "text/plain": [
       "9423"
      ]
     },
     "execution_count": 25,
     "metadata": {},
     "output_type": "execute_result"
    }
   ],
   "source": [
    "len(stuff)"
   ]
  },
  {
   "cell_type": "code",
   "execution_count": 63,
   "id": "591435a3-7a65-4f94-8ee8-0ce63a188968",
   "metadata": {},
   "outputs": [],
   "source": [
    "#getting urls of asin's\n",
    "url1=['https://www.amazon.com/dp/{}'.format(x) for x in asin_list1]"
   ]
  },
  {
   "cell_type": "code",
   "execution_count": 64,
   "id": "24e62f71-65a1-448c-8f30-b2c330b6c3cf",
   "metadata": {},
   "outputs": [
    {
     "data": {
      "text/plain": [
       "'B000IMM26U'"
      ]
     },
     "execution_count": 64,
     "metadata": {},
     "output_type": "execute_result"
    }
   ],
   "source": [
    "asin_list1[0]"
   ]
  },
  {
   "cell_type": "code",
   "execution_count": 65,
   "id": "2a4b9b79-63d0-4833-b07a-07f74f2b2bea",
   "metadata": {},
   "outputs": [],
   "source": [
    "#initializing selenium\n",
    "driver = webdriver.Chrome()"
   ]
  },
  {
   "cell_type": "code",
   "execution_count": 66,
   "id": "34aa0d3d-83cd-456b-8dd7-cd5ce80403e0",
   "metadata": {},
   "outputs": [
    {
     "name": "stderr",
     "output_type": "stream",
     "text": [
      "  0%|                                                 | 0/10000 [00:00<?, ?it/s]/var/folders/48/3rfqt3q17zj4zsvn_9rh50br0000gn/T/ipykernel_54878/1158868331.py:9: DeprecationWarning: find_element_by_* commands are deprecated. Please use find_element() instead\n",
      "  content=driver.find_element_by_id('productTitle')\n",
      "100%|███████████████████████████████████| 10000/10000 [5:15:51<00:00,  1.90s/it]\n"
     ]
    }
   ],
   "source": [
    "#script with selenium driver to extract element with productname using for loop\n",
    "\n",
    "import time\n",
    "stuff1=[]\n",
    "links1=[]\n",
    "for x in tqdm(url1):\n",
    "    try:\n",
    "        driver.get(str(x))\n",
    "        content=driver.find_element_by_id('productTitle')\n",
    "        links1.append(x)\n",
    "        stuff1.append(content.text)\n",
    "    except:\n",
    "        continue      \n",
    "        time.sleep(.001)"
   ]
  },
  {
   "cell_type": "code",
   "execution_count": 67,
   "id": "9e76027c-bff2-40d0-89c0-516597910130",
   "metadata": {},
   "outputs": [],
   "source": [
    "\n",
    "with open ('stuff1.pickle', 'wb') as f:\n",
    "    pickle.dump(stuff1, f, 5)\n",
    "with open ('links1.pickle', 'wb') as f:\n",
    "    pickle.dump(links1, f, 5)"
   ]
  },
  {
   "cell_type": "code",
   "execution_count": 68,
   "id": "717d76f5-0fee-4c6f-89c9-16ea9e1b4e1f",
   "metadata": {},
   "outputs": [],
   "source": [
    "asin_list= list(df.asin.unique())\n",
    "asin_list2=asin_list[20000:30000]"
   ]
  },
  {
   "cell_type": "code",
   "execution_count": null,
   "id": "0a22049b-856f-4aec-855e-ca99165e818d",
   "metadata": {},
   "outputs": [],
   "source": []
  },
  {
   "cell_type": "code",
   "execution_count": null,
   "id": "3a3bae99-353a-4fa2-a73b-c564c7716dd8",
   "metadata": {},
   "outputs": [],
   "source": []
  },
  {
   "cell_type": "code",
   "execution_count": 69,
   "id": "3cf28077-7d63-430d-8e30-145b182bb1b5",
   "metadata": {},
   "outputs": [],
   "source": [
    "url2=['https://www.amazon.com/dp/{}'.format(x) for x in asin_list2]"
   ]
  },
  {
   "cell_type": "code",
   "execution_count": 70,
   "id": "1b586115-e107-472a-bc57-7cba61ab870f",
   "metadata": {},
   "outputs": [
    {
     "name": "stderr",
     "output_type": "stream",
     "text": [
      "/var/folders/48/3rfqt3q17zj4zsvn_9rh50br0000gn/T/ipykernel_54878/1509041771.py:8: DeprecationWarning: use options instead of chrome_options\n",
      "  driver = webdriver.Chrome(chrome_options=options)\n"
     ]
    }
   ],
   "source": [
    "options = Options()\n",
    "options.add_argument(\"start-maximized\")\n",
    "options.add_experimental_option(\"excludeSwitches\", [\"enable-automation\"])\n",
    "options.add_experimental_option('useAutomationExtension', False)\n",
    "options.add_argument('--disable-gpu')\n",
    "options.headless = True\n",
    "options.add_argument(\"window-size=1920,1080\")\n",
    "driver = webdriver.Chrome(chrome_options=options)\n",
    "\n",
    "#initializing selenium\n",
    "driver = webdriver.Chrome()"
   ]
  },
  {
   "cell_type": "code",
   "execution_count": 71,
   "id": "4de268cd-3ef9-4da6-93c4-4feb984f6a43",
   "metadata": {},
   "outputs": [
    {
     "name": "stderr",
     "output_type": "stream",
     "text": [
      "  0%|                                                 | 0/10000 [00:00<?, ?it/s]/var/folders/48/3rfqt3q17zj4zsvn_9rh50br0000gn/T/ipykernel_54878/2029006198.py:10: DeprecationWarning: find_element_by_* commands are deprecated. Please use find_element() instead\n",
      "  content=driver.find_element_by_id('productTitle')\n",
      "100%|███████████████████████████████████| 10000/10000 [5:19:08<00:00,  1.91s/it]\n"
     ]
    }
   ],
   "source": [
    "#script with selenium driver to extract element with productname\n",
    "import time\n",
    "from tqdm import tqdm\n",
    "\n",
    "stuff2=[]\n",
    "links2=[]\n",
    "for x in tqdm(url2):\n",
    "    try:\n",
    "        driver.get(str(x))\n",
    "        content=driver.find_element_by_id('productTitle')\n",
    "        links2.append(x)\n",
    "        stuff2.append(content.text)\n",
    "    except:\n",
    "        continue      \n",
    "        time.sleep(.0005)"
   ]
  },
  {
   "cell_type": "code",
   "execution_count": 75,
   "id": "13e0d60f-2502-4680-8454-1b8fe32dade7",
   "metadata": {},
   "outputs": [],
   "source": [
    "import pickle\n",
    "with open ('stuff2.pickle', 'wb') as f:\n",
    "    pickle.dump(stuff2, f, 5)\n",
    "with open ('links2.pickle', 'wb') as f:\n",
    "    pickle.dump(links2, f, 5)"
   ]
  },
  {
   "cell_type": "code",
   "execution_count": 78,
   "id": "f6f03169-0004-4866-a76a-bc7b3c8df2b9",
   "metadata": {},
   "outputs": [],
   "source": [
    "driver.quit()"
   ]
  },
  {
   "cell_type": "code",
   "execution_count": 72,
   "id": "02dfd162-87e0-4f56-bb08-a21a76c2c3a0",
   "metadata": {},
   "outputs": [
    {
     "data": {
      "text/plain": [
       "8846"
      ]
     },
     "execution_count": 72,
     "metadata": {},
     "output_type": "execute_result"
    }
   ],
   "source": [
    "len(links2)"
   ]
  },
  {
   "cell_type": "code",
   "execution_count": 73,
   "id": "e7a2c092-ce47-4226-ab62-3b77469bda1f",
   "metadata": {},
   "outputs": [
    {
     "data": {
      "text/plain": [
       "8616"
      ]
     },
     "execution_count": 73,
     "metadata": {},
     "output_type": "execute_result"
    }
   ],
   "source": [
    "len(links1)"
   ]
  },
  {
   "cell_type": "code",
   "execution_count": 74,
   "id": "e5cd2cdf-4ea3-4fb1-bd00-49895a2d7c4e",
   "metadata": {},
   "outputs": [
    {
     "data": {
      "text/plain": [
       "9423"
      ]
     },
     "execution_count": 74,
     "metadata": {},
     "output_type": "execute_result"
    }
   ],
   "source": [
    "len(links)"
   ]
  },
  {
   "cell_type": "code",
   "execution_count": 76,
   "id": "6a4ac27d-2438-40b6-90d4-3dcafcce377c",
   "metadata": {},
   "outputs": [
    {
     "data": {
      "text/html": [
       "<div>\n",
       "<style scoped>\n",
       "    .dataframe tbody tr th:only-of-type {\n",
       "        vertical-align: middle;\n",
       "    }\n",
       "\n",
       "    .dataframe tbody tr th {\n",
       "        vertical-align: top;\n",
       "    }\n",
       "\n",
       "    .dataframe thead th {\n",
       "        text-align: right;\n",
       "    }\n",
       "</style>\n",
       "<table border=\"1\" class=\"dataframe\">\n",
       "  <thead>\n",
       "    <tr style=\"text-align: right;\">\n",
       "      <th></th>\n",
       "      <th>reviewerID</th>\n",
       "      <th>asin</th>\n",
       "      <th>reviewerName</th>\n",
       "      <th>helpful</th>\n",
       "      <th>reviewText</th>\n",
       "      <th>overall</th>\n",
       "      <th>summary</th>\n",
       "      <th>unixReviewTime</th>\n",
       "      <th>reviewTime</th>\n",
       "    </tr>\n",
       "  </thead>\n",
       "  <tbody>\n",
       "    <tr>\n",
       "      <th>0</th>\n",
       "      <td>AO94DHGC771SJ</td>\n",
       "      <td>0528881469</td>\n",
       "      <td>amazdnu</td>\n",
       "      <td>[0, 0]</td>\n",
       "      <td>We got this GPS for my husband who is an (OTR)...</td>\n",
       "      <td>5</td>\n",
       "      <td>Gotta have GPS!</td>\n",
       "      <td>1370131200</td>\n",
       "      <td>06 2, 2013</td>\n",
       "    </tr>\n",
       "    <tr>\n",
       "      <th>1</th>\n",
       "      <td>AMO214LNFCEI4</td>\n",
       "      <td>0528881469</td>\n",
       "      <td>Amazon Customer</td>\n",
       "      <td>[12, 15]</td>\n",
       "      <td>I'm a professional OTR truck driver, and I bou...</td>\n",
       "      <td>1</td>\n",
       "      <td>Very Disappointed</td>\n",
       "      <td>1290643200</td>\n",
       "      <td>11 25, 2010</td>\n",
       "    </tr>\n",
       "    <tr>\n",
       "      <th>2</th>\n",
       "      <td>A3N7T0DY83Y4IG</td>\n",
       "      <td>0528881469</td>\n",
       "      <td>C. A. Freeman</td>\n",
       "      <td>[43, 45]</td>\n",
       "      <td>Well, what can I say.  I've had this unit in m...</td>\n",
       "      <td>3</td>\n",
       "      <td>1st impression</td>\n",
       "      <td>1283990400</td>\n",
       "      <td>09 9, 2010</td>\n",
       "    </tr>\n",
       "    <tr>\n",
       "      <th>3</th>\n",
       "      <td>A1H8PY3QHMQQA0</td>\n",
       "      <td>0528881469</td>\n",
       "      <td>Dave M. Shaw \"mack dave\"</td>\n",
       "      <td>[9, 10]</td>\n",
       "      <td>Not going to write a long review, even thought...</td>\n",
       "      <td>2</td>\n",
       "      <td>Great grafics, POOR GPS</td>\n",
       "      <td>1290556800</td>\n",
       "      <td>11 24, 2010</td>\n",
       "    </tr>\n",
       "    <tr>\n",
       "      <th>4</th>\n",
       "      <td>A24EV6RXELQZ63</td>\n",
       "      <td>0528881469</td>\n",
       "      <td>Wayne Smith</td>\n",
       "      <td>[0, 0]</td>\n",
       "      <td>I've had mine for a year and here's what we go...</td>\n",
       "      <td>1</td>\n",
       "      <td>Major issues, only excuses for support</td>\n",
       "      <td>1317254400</td>\n",
       "      <td>09 29, 2011</td>\n",
       "    </tr>\n",
       "    <tr>\n",
       "      <th>...</th>\n",
       "      <td>...</td>\n",
       "      <td>...</td>\n",
       "      <td>...</td>\n",
       "      <td>...</td>\n",
       "      <td>...</td>\n",
       "      <td>...</td>\n",
       "      <td>...</td>\n",
       "      <td>...</td>\n",
       "      <td>...</td>\n",
       "    </tr>\n",
       "    <tr>\n",
       "      <th>1689183</th>\n",
       "      <td>A34BZM6S9L7QI4</td>\n",
       "      <td>B00LGQ6HL8</td>\n",
       "      <td>Candy Cane \"Is it just me?\"</td>\n",
       "      <td>[1, 1]</td>\n",
       "      <td>Burned these in before listening to them for a...</td>\n",
       "      <td>5</td>\n",
       "      <td>Boom -- Pop -- Pow.  These deliver.</td>\n",
       "      <td>1405555200</td>\n",
       "      <td>07 17, 2014</td>\n",
       "    </tr>\n",
       "    <tr>\n",
       "      <th>1689184</th>\n",
       "      <td>A1G650TTTHEAL5</td>\n",
       "      <td>B00LGQ6HL8</td>\n",
       "      <td>Charles Spanky \"Zumina Reviews\"</td>\n",
       "      <td>[0, 0]</td>\n",
       "      <td>Some people like DJ style headphones or earbud...</td>\n",
       "      <td>5</td>\n",
       "      <td>Thin and light, without compromising on sound ...</td>\n",
       "      <td>1405382400</td>\n",
       "      <td>07 15, 2014</td>\n",
       "    </tr>\n",
       "    <tr>\n",
       "      <th>1689185</th>\n",
       "      <td>A25C2M3QF9G7OQ</td>\n",
       "      <td>B00LGQ6HL8</td>\n",
       "      <td>Comdet</td>\n",
       "      <td>[0, 0]</td>\n",
       "      <td>I&amp;#8217;m a big fan of the Brainwavz S1 (actua...</td>\n",
       "      <td>5</td>\n",
       "      <td>Same form factor and durability as the S1 with...</td>\n",
       "      <td>1405555200</td>\n",
       "      <td>07 17, 2014</td>\n",
       "    </tr>\n",
       "    <tr>\n",
       "      <th>1689186</th>\n",
       "      <td>A1E1LEVQ9VQNK</td>\n",
       "      <td>B00LGQ6HL8</td>\n",
       "      <td>J. Chambers</td>\n",
       "      <td>[0, 0]</td>\n",
       "      <td>I've used theBrainwavz S1 In Ear Headphones, a...</td>\n",
       "      <td>5</td>\n",
       "      <td>Superb audio quality in a very comfortable set...</td>\n",
       "      <td>1405641600</td>\n",
       "      <td>07 18, 2014</td>\n",
       "    </tr>\n",
       "    <tr>\n",
       "      <th>1689187</th>\n",
       "      <td>A2NYK9KWFMJV4Y</td>\n",
       "      <td>B00LGQ6HL8</td>\n",
       "      <td>Mike Tarrani \"Jazz Drummer\"</td>\n",
       "      <td>[0, 0]</td>\n",
       "      <td>Normally when I receive a review sample I can ...</td>\n",
       "      <td>5</td>\n",
       "      <td>Exceptional sound</td>\n",
       "      <td>1405209600</td>\n",
       "      <td>07 13, 2014</td>\n",
       "    </tr>\n",
       "  </tbody>\n",
       "</table>\n",
       "<p>1689188 rows × 9 columns</p>\n",
       "</div>"
      ],
      "text/plain": [
       "             reviewerID        asin                     reviewerName  \\\n",
       "0         AO94DHGC771SJ  0528881469                          amazdnu   \n",
       "1         AMO214LNFCEI4  0528881469                  Amazon Customer   \n",
       "2        A3N7T0DY83Y4IG  0528881469                    C. A. Freeman   \n",
       "3        A1H8PY3QHMQQA0  0528881469         Dave M. Shaw \"mack dave\"   \n",
       "4        A24EV6RXELQZ63  0528881469                      Wayne Smith   \n",
       "...                 ...         ...                              ...   \n",
       "1689183  A34BZM6S9L7QI4  B00LGQ6HL8      Candy Cane \"Is it just me?\"   \n",
       "1689184  A1G650TTTHEAL5  B00LGQ6HL8  Charles Spanky \"Zumina Reviews\"   \n",
       "1689185  A25C2M3QF9G7OQ  B00LGQ6HL8                           Comdet   \n",
       "1689186   A1E1LEVQ9VQNK  B00LGQ6HL8                      J. Chambers   \n",
       "1689187  A2NYK9KWFMJV4Y  B00LGQ6HL8      Mike Tarrani \"Jazz Drummer\"   \n",
       "\n",
       "          helpful                                         reviewText  overall  \\\n",
       "0          [0, 0]  We got this GPS for my husband who is an (OTR)...        5   \n",
       "1        [12, 15]  I'm a professional OTR truck driver, and I bou...        1   \n",
       "2        [43, 45]  Well, what can I say.  I've had this unit in m...        3   \n",
       "3         [9, 10]  Not going to write a long review, even thought...        2   \n",
       "4          [0, 0]  I've had mine for a year and here's what we go...        1   \n",
       "...           ...                                                ...      ...   \n",
       "1689183    [1, 1]  Burned these in before listening to them for a...        5   \n",
       "1689184    [0, 0]  Some people like DJ style headphones or earbud...        5   \n",
       "1689185    [0, 0]  I&#8217;m a big fan of the Brainwavz S1 (actua...        5   \n",
       "1689186    [0, 0]  I've used theBrainwavz S1 In Ear Headphones, a...        5   \n",
       "1689187    [0, 0]  Normally when I receive a review sample I can ...        5   \n",
       "\n",
       "                                                   summary  unixReviewTime  \\\n",
       "0                                          Gotta have GPS!      1370131200   \n",
       "1                                        Very Disappointed      1290643200   \n",
       "2                                           1st impression      1283990400   \n",
       "3                                  Great grafics, POOR GPS      1290556800   \n",
       "4                   Major issues, only excuses for support      1317254400   \n",
       "...                                                    ...             ...   \n",
       "1689183                Boom -- Pop -- Pow.  These deliver.      1405555200   \n",
       "1689184  Thin and light, without compromising on sound ...      1405382400   \n",
       "1689185  Same form factor and durability as the S1 with...      1405555200   \n",
       "1689186  Superb audio quality in a very comfortable set...      1405641600   \n",
       "1689187                                  Exceptional sound      1405209600   \n",
       "\n",
       "          reviewTime  \n",
       "0         06 2, 2013  \n",
       "1        11 25, 2010  \n",
       "2         09 9, 2010  \n",
       "3        11 24, 2010  \n",
       "4        09 29, 2011  \n",
       "...              ...  \n",
       "1689183  07 17, 2014  \n",
       "1689184  07 15, 2014  \n",
       "1689185  07 17, 2014  \n",
       "1689186  07 18, 2014  \n",
       "1689187  07 13, 2014  \n",
       "\n",
       "[1689188 rows x 9 columns]"
      ]
     },
     "execution_count": 76,
     "metadata": {},
     "output_type": "execute_result"
    }
   ],
   "source": [
    "df"
   ]
  },
  {
   "cell_type": "code",
   "execution_count": null,
   "id": "8863f6c9-71c9-45cc-979c-4d6e97604702",
   "metadata": {},
   "outputs": [],
   "source": []
  },
  {
   "cell_type": "code",
   "execution_count": null,
   "id": "7f28f71e-7d53-4033-954e-72556794fd5b",
   "metadata": {},
   "outputs": [],
   "source": []
  },
  {
   "cell_type": "code",
   "execution_count": null,
   "id": "3ee5901e-2785-4b7c-81fb-28c04515066c",
   "metadata": {},
   "outputs": [],
   "source": []
  },
  {
   "cell_type": "code",
   "execution_count": null,
   "id": "54a6ab16-fe58-4ee5-b15c-4f540a1c7658",
   "metadata": {},
   "outputs": [],
   "source": []
  },
  {
   "cell_type": "code",
   "execution_count": null,
   "id": "c0816a54-2ad4-4ce7-bb3d-994f333c9c32",
   "metadata": {},
   "outputs": [],
   "source": []
  },
  {
   "cell_type": "markdown",
   "id": "806a462a-c349-448d-801c-dc36c5c5790a",
   "metadata": {},
   "source": [
    "### Loading pickle files of scraped data"
   ]
  },
  {
   "cell_type": "code",
   "execution_count": 4,
   "id": "0d8f7fed-8074-4ebd-9092-e9b083465b76",
   "metadata": {},
   "outputs": [],
   "source": [
    "import pickle\n",
    "with open('stuff.pickle', 'rb') as file:\n",
    "      \n",
    "    # Call load method to deserialze\n",
    "    stuff = pickle.load(file)\n",
    "with open('links.pickle', 'rb') as file:\n",
    "      \n",
    "    # Call load method to deserialze\n",
    "    links = pickle.load(file)"
   ]
  },
  {
   "cell_type": "code",
   "execution_count": 5,
   "id": "af38d999-320d-4bda-8d47-9925acbb98dc",
   "metadata": {},
   "outputs": [],
   "source": [
    "with open('stuff1.pickle', 'rb') as file:\n",
    "      \n",
    "    # Call load method to deserialze\n",
    "    stuff1 = pickle.load(file)\n",
    "with open('links1.pickle', 'rb') as file:\n",
    "      \n",
    "    # Call load method to deserialze\n",
    "    links1 = pickle.load(file)"
   ]
  },
  {
   "cell_type": "code",
   "execution_count": 6,
   "id": "bb14bb7d-96f9-4586-864a-5dc56cdbfbd8",
   "metadata": {},
   "outputs": [],
   "source": [
    "import pickle\n",
    "with open('stuff2.pickle', 'rb') as file:\n",
    "      \n",
    "    # Call load method to deserialze\n",
    "    stuff2 = pickle.load(file)\n",
    "with open('links2.pickle', 'rb') as file:\n",
    "      \n",
    "    # Call load method to deserialze\n",
    "    links2 = pickle.load(file)"
   ]
  },
  {
   "cell_type": "code",
   "execution_count": null,
   "id": "bfbc82ac-72c5-4de7-84d9-4c221092d960",
   "metadata": {},
   "outputs": [],
   "source": [
    "#links+links1+links2 = all the asin #s we have data for. DO an inner merge with the 3links, then merge with \n",
    "#stuff, stuff1, stuff2\n",
    "\n",
    "df.asin.unique()[0:30000]"
   ]
  },
  {
   "cell_type": "markdown",
   "id": "5d19871f-0fa2-4cc5-9a70-3677bbf31b91",
   "metadata": {},
   "source": [
    "### We will use spacy NER for the productNames aka stuff"
   ]
  },
  {
   "cell_type": "code",
   "execution_count": null,
   "id": "1cc0ab91-0fa9-4afc-b892-e9c93188dbd5",
   "metadata": {},
   "outputs": [],
   "source": []
  },
  {
   "cell_type": "markdown",
   "id": "d28f89b0-903f-4d2c-9be7-6a74fd35f1f8",
   "metadata": {},
   "source": [
    "### We will use Bert Embeddings for the df.reviewText"
   ]
  },
  {
   "cell_type": "code",
   "execution_count": null,
   "id": "b9264b73-e914-4ff4-8c48-5f3850ee788f",
   "metadata": {},
   "outputs": [],
   "source": []
  },
  {
   "cell_type": "markdown",
   "id": "85168f56-61a8-46d0-b43d-b8a9bccc7b5a",
   "metadata": {},
   "source": [
    "### Then we combine the two inputs "
   ]
  },
  {
   "cell_type": "code",
   "execution_count": null,
   "id": "8287ad25-d218-4487-bbb9-901053a49dec",
   "metadata": {},
   "outputs": [],
   "source": [
    "model=Models.Sequential()\n",
    "model1 = Sequential()\n",
    "\n",
    "model2 = Model(inputs=[model.input, model1.input], outputs=x)"
   ]
  }
 ],
 "metadata": {
  "kernelspec": {
   "display_name": "Python 3 (ipykernel)",
   "language": "python",
   "name": "python3"
  },
  "language_info": {
   "codemirror_mode": {
    "name": "ipython",
    "version": 3
   },
   "file_extension": ".py",
   "mimetype": "text/x-python",
   "name": "python",
   "nbconvert_exporter": "python",
   "pygments_lexer": "ipython3",
   "version": "3.9.7"
  }
 },
 "nbformat": 4,
 "nbformat_minor": 5
}
