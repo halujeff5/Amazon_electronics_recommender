{
 "cells": [
  {
   "cell_type": "markdown",
   "id": "2dc53171-b635-471d-a044-54129e9dd720",
   "metadata": {},
   "source": [
    "## Work Notebook\n",
    "### Algorithm of Content-Based Rec Engine - find cosine similar products according to NER-BERT embeddings followed by cosine similar by BERT embeddings of reviewText "
   ]
  },
  {
   "cell_type": "code",
   "execution_count": null,
   "id": "e7da05d0-65dd-4620-ae13-eae74033ba7e",
   "metadata": {},
   "outputs": [],
   "source": [
    "import pandas as pd\n",
    "import numpy as np\n",
    "import seaborn as sns\n",
    "import matplotlib.pyplot as plt\n",
    "import pickle"
   ]
  },
  {
   "cell_type": "code",
   "execution_count": null,
   "id": "f194a513-49b8-4b2a-acb6-320ab08637fb",
   "metadata": {},
   "outputs": [],
   "source": []
  },
  {
   "cell_type": "markdown",
   "id": "7aeb82bf-99dd-4bc3-9cce-e8473016be2f",
   "metadata": {},
   "source": [
    "### Loading pickled webscraping files"
   ]
  },
  {
   "cell_type": "code",
   "execution_count": null,
   "id": "ff16703e-9456-414f-92cb-f0dcf0e1605b",
   "metadata": {},
   "outputs": [],
   "source": [
    "\n",
    "with open('stuff.pickle', 'rb') as file:\n",
    "      \n",
    "    # Call load method to deserialze\n",
    "    stuff = pickle.load(file)\n",
    "with open('links.pickle', 'rb') as file:\n",
    "      \n",
    "    # Call load method to deserialze\n",
    "    links = pickle.load(file)"
   ]
  },
  {
   "cell_type": "code",
   "execution_count": null,
   "id": "0bbf7f96-4fc7-47f4-b84b-f2034297e6d8",
   "metadata": {},
   "outputs": [],
   "source": [
    "with open('stuff1.pickle', 'rb') as file:\n",
    "      \n",
    "    # Call load method to deserialze\n",
    "    stuff1 = pickle.load(file)\n",
    "with open('links1.pickle', 'rb') as file:\n",
    "      \n",
    "    # Call load method to deserialze\n",
    "    links1 = pickle.load(file)"
   ]
  },
  {
   "cell_type": "code",
   "execution_count": null,
   "id": "d746e463-09a9-414e-802e-69aea29322ba",
   "metadata": {},
   "outputs": [],
   "source": [
    "import pickle\n",
    "with open('stuff2.pickle', 'rb') as file:\n",
    "      \n",
    "    # Call load method to deserialze\n",
    "    stuff2 = pickle.load(file)\n",
    "with open('links2.pickle', 'rb') as file:\n",
    "      \n",
    "    # Call load method to deserialze\n",
    "    links2 = pickle.load(file)"
   ]
  },
  {
   "cell_type": "code",
   "execution_count": null,
   "id": "d2ebff01-6505-462c-96a5-96384378d85f",
   "metadata": {},
   "outputs": [],
   "source": [
    "#links+links1+links2 = all the asin #s we have data for. DO an inner merge with the 3links, then merge with \n",
    "#stuff, stuff1, stuff2\n",
    "b\n",
    "df.asin.unique()[5:30000]"
   ]
  },
  {
   "cell_type": "markdown",
   "id": "b61191e4-3df9-4778-bc7a-ccb8aa5e5bec",
   "metadata": {},
   "source": [
    "### We will use spacy NER for the productNames aka stuff and give it a BERT Embedding"
   ]
  },
  {
   "cell_type": "code",
   "execution_count": null,
   "id": "4e20a8d5-0fab-49dd-8e25-e86f80cbe0ef",
   "metadata": {},
   "outputs": [],
   "source": []
  },
  {
   "cell_type": "markdown",
   "id": "f6f0f3f4-f1a8-4c6d-ab65-82dc564c55b9",
   "metadata": {},
   "source": [
    "### We will use Bert Embeddings for the df.reviewText"
   ]
  },
  {
   "cell_type": "code",
   "execution_count": null,
   "id": "e8882134-9e80-4b90-99ea-f389d99aada2",
   "metadata": {},
   "outputs": [],
   "source": []
  },
  {
   "cell_type": "markdown",
   "id": "d3dc55eb-9052-426e-aa41-49530bbc7c1f",
   "metadata": {},
   "source": [
    "### Then we combine the two inputs "
   ]
  },
  {
   "cell_type": "code",
   "execution_count": null,
   "id": "3f479c15-eac0-4272-a221-997e882517b6",
   "metadata": {},
   "outputs": [],
   "source": [
    "model=Models.Sequential()\n",
    "model1 = Sequential()\n",
    "\n",
    "model2 = Model(inputs=[model.input, model1.input], outputs=x)"
   ]
  }
 ],
 "metadata": {
  "kernelspec": {
   "display_name": "Python 3 (ipykernel)",
   "language": "python",
   "name": "python3"
  },
  "language_info": {
   "codemirror_mode": {
    "name": "ipython",
    "version": 3
   },
   "file_extension": ".py",
   "mimetype": "text/x-python",
   "name": "python",
   "nbconvert_exporter": "python",
   "pygments_lexer": "ipython3",
   "version": "3.9.7"
  }
 },
 "nbformat": 4,
 "nbformat_minor": 5
}
