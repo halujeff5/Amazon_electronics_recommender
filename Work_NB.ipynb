{
 "cells": [
  {
   "cell_type": "markdown",
   "id": "2dc53171-b635-471d-a044-54129e9dd720",
   "metadata": {},
   "source": [
    "## Work Notebook\n",
    "### Algorithm of Hybrid Rec Engine - find similar products according a tag classifier followed by cosine similarity by Spacy embeddings of reviewText "
   ]
  },
  {
   "cell_type": "code",
   "execution_count": 1,
   "id": "e7da05d0-65dd-4620-ae13-eae74033ba7e",
   "metadata": {},
   "outputs": [],
   "source": [
    "import pandas as pd\n",
    "import numpy as np\n",
    "import seaborn as sns\n",
    "import matplotlib.pyplot as plt\n",
    "import pickle"
   ]
  },
  {
   "cell_type": "code",
   "execution_count": 91,
   "id": "f194a513-49b8-4b2a-acb6-320ab08637fb",
   "metadata": {},
   "outputs": [
    {
     "name": "stderr",
     "output_type": "stream",
     "text": [
      "  0%|                             | 179/63001 [41:00:30<14392:20:12, 824.75s/it]\n"
     ]
    }
   ],
   "source": [
    "#loading downloaded data\n",
    "df=pd.read_json('~/Downloads/reviews_Electronics_5.json', lines=True)"
   ]
  },
  {
   "cell_type": "markdown",
   "id": "7aeb82bf-99dd-4bc3-9cce-e8473016be2f",
   "metadata": {},
   "source": [
    "### Loading pickled webscraping files"
   ]
  },
  {
   "cell_type": "code",
   "execution_count": 3,
   "id": "d2ebff01-6505-462c-96a5-96384378d85f",
   "metadata": {},
   "outputs": [],
   "source": [
    "with open('df.pickle', 'rb') as file:\n",
    "    df = pickle.load(file)"
   ]
  },
  {
   "cell_type": "markdown",
   "id": "34e4228c-9fc2-4257-a25b-9886d827111c",
   "metadata": {},
   "source": [
    "### We will train a model that classifies user input (item) into appropriate tag labels "
   ]
  },
  {
   "cell_type": "code",
   "execution_count": 92,
   "id": "9447638b-ffda-43e1-a491-eb9315eec14c",
   "metadata": {},
   "outputs": [
    {
     "data": {
      "text/html": [
       "<div>\n",
       "<style scoped>\n",
       "    .dataframe tbody tr th:only-of-type {\n",
       "        vertical-align: middle;\n",
       "    }\n",
       "\n",
       "    .dataframe tbody tr th {\n",
       "        vertical-align: top;\n",
       "    }\n",
       "\n",
       "    .dataframe thead th {\n",
       "        text-align: right;\n",
       "    }\n",
       "</style>\n",
       "<table border=\"1\" class=\"dataframe\">\n",
       "  <thead>\n",
       "    <tr style=\"text-align: right;\">\n",
       "      <th></th>\n",
       "      <th>reviewerID</th>\n",
       "      <th>asin</th>\n",
       "      <th>reviewerName</th>\n",
       "      <th>helpful</th>\n",
       "      <th>reviewText</th>\n",
       "      <th>overall</th>\n",
       "      <th>summary</th>\n",
       "      <th>unixReviewTime</th>\n",
       "      <th>reviewTime</th>\n",
       "    </tr>\n",
       "  </thead>\n",
       "  <tbody>\n",
       "    <tr>\n",
       "      <th>0</th>\n",
       "      <td>AO94DHGC771SJ</td>\n",
       "      <td>0528881469</td>\n",
       "      <td>amazdnu</td>\n",
       "      <td>[0, 0]</td>\n",
       "      <td>We got this GPS for my husband who is an (OTR)...</td>\n",
       "      <td>5</td>\n",
       "      <td>Gotta have GPS!</td>\n",
       "      <td>1370131200</td>\n",
       "      <td>06 2, 2013</td>\n",
       "    </tr>\n",
       "    <tr>\n",
       "      <th>1</th>\n",
       "      <td>AMO214LNFCEI4</td>\n",
       "      <td>0528881469</td>\n",
       "      <td>Amazon Customer</td>\n",
       "      <td>[12, 15]</td>\n",
       "      <td>I'm a professional OTR truck driver, and I bou...</td>\n",
       "      <td>1</td>\n",
       "      <td>Very Disappointed</td>\n",
       "      <td>1290643200</td>\n",
       "      <td>11 25, 2010</td>\n",
       "    </tr>\n",
       "    <tr>\n",
       "      <th>2</th>\n",
       "      <td>A3N7T0DY83Y4IG</td>\n",
       "      <td>0528881469</td>\n",
       "      <td>C. A. Freeman</td>\n",
       "      <td>[43, 45]</td>\n",
       "      <td>Well, what can I say.  I've had this unit in m...</td>\n",
       "      <td>3</td>\n",
       "      <td>1st impression</td>\n",
       "      <td>1283990400</td>\n",
       "      <td>09 9, 2010</td>\n",
       "    </tr>\n",
       "    <tr>\n",
       "      <th>3</th>\n",
       "      <td>A1H8PY3QHMQQA0</td>\n",
       "      <td>0528881469</td>\n",
       "      <td>Dave M. Shaw \"mack dave\"</td>\n",
       "      <td>[9, 10]</td>\n",
       "      <td>Not going to write a long review, even thought...</td>\n",
       "      <td>2</td>\n",
       "      <td>Great grafics, POOR GPS</td>\n",
       "      <td>1290556800</td>\n",
       "      <td>11 24, 2010</td>\n",
       "    </tr>\n",
       "    <tr>\n",
       "      <th>4</th>\n",
       "      <td>A24EV6RXELQZ63</td>\n",
       "      <td>0528881469</td>\n",
       "      <td>Wayne Smith</td>\n",
       "      <td>[0, 0]</td>\n",
       "      <td>I've had mine for a year and here's what we go...</td>\n",
       "      <td>1</td>\n",
       "      <td>Major issues, only excuses for support</td>\n",
       "      <td>1317254400</td>\n",
       "      <td>09 29, 2011</td>\n",
       "    </tr>\n",
       "    <tr>\n",
       "      <th>...</th>\n",
       "      <td>...</td>\n",
       "      <td>...</td>\n",
       "      <td>...</td>\n",
       "      <td>...</td>\n",
       "      <td>...</td>\n",
       "      <td>...</td>\n",
       "      <td>...</td>\n",
       "      <td>...</td>\n",
       "      <td>...</td>\n",
       "    </tr>\n",
       "    <tr>\n",
       "      <th>1689183</th>\n",
       "      <td>A34BZM6S9L7QI4</td>\n",
       "      <td>B00LGQ6HL8</td>\n",
       "      <td>Candy Cane \"Is it just me?\"</td>\n",
       "      <td>[1, 1]</td>\n",
       "      <td>Burned these in before listening to them for a...</td>\n",
       "      <td>5</td>\n",
       "      <td>Boom -- Pop -- Pow.  These deliver.</td>\n",
       "      <td>1405555200</td>\n",
       "      <td>07 17, 2014</td>\n",
       "    </tr>\n",
       "    <tr>\n",
       "      <th>1689184</th>\n",
       "      <td>A1G650TTTHEAL5</td>\n",
       "      <td>B00LGQ6HL8</td>\n",
       "      <td>Charles Spanky \"Zumina Reviews\"</td>\n",
       "      <td>[0, 0]</td>\n",
       "      <td>Some people like DJ style headphones or earbud...</td>\n",
       "      <td>5</td>\n",
       "      <td>Thin and light, without compromising on sound ...</td>\n",
       "      <td>1405382400</td>\n",
       "      <td>07 15, 2014</td>\n",
       "    </tr>\n",
       "    <tr>\n",
       "      <th>1689185</th>\n",
       "      <td>A25C2M3QF9G7OQ</td>\n",
       "      <td>B00LGQ6HL8</td>\n",
       "      <td>Comdet</td>\n",
       "      <td>[0, 0]</td>\n",
       "      <td>I&amp;#8217;m a big fan of the Brainwavz S1 (actua...</td>\n",
       "      <td>5</td>\n",
       "      <td>Same form factor and durability as the S1 with...</td>\n",
       "      <td>1405555200</td>\n",
       "      <td>07 17, 2014</td>\n",
       "    </tr>\n",
       "    <tr>\n",
       "      <th>1689186</th>\n",
       "      <td>A1E1LEVQ9VQNK</td>\n",
       "      <td>B00LGQ6HL8</td>\n",
       "      <td>J. Chambers</td>\n",
       "      <td>[0, 0]</td>\n",
       "      <td>I've used theBrainwavz S1 In Ear Headphones, a...</td>\n",
       "      <td>5</td>\n",
       "      <td>Superb audio quality in a very comfortable set...</td>\n",
       "      <td>1405641600</td>\n",
       "      <td>07 18, 2014</td>\n",
       "    </tr>\n",
       "    <tr>\n",
       "      <th>1689187</th>\n",
       "      <td>A2NYK9KWFMJV4Y</td>\n",
       "      <td>B00LGQ6HL8</td>\n",
       "      <td>Mike Tarrani \"Jazz Drummer\"</td>\n",
       "      <td>[0, 0]</td>\n",
       "      <td>Normally when I receive a review sample I can ...</td>\n",
       "      <td>5</td>\n",
       "      <td>Exceptional sound</td>\n",
       "      <td>1405209600</td>\n",
       "      <td>07 13, 2014</td>\n",
       "    </tr>\n",
       "  </tbody>\n",
       "</table>\n",
       "<p>1689188 rows × 9 columns</p>\n",
       "</div>"
      ],
      "text/plain": [
       "             reviewerID        asin                     reviewerName  \\\n",
       "0         AO94DHGC771SJ  0528881469                          amazdnu   \n",
       "1         AMO214LNFCEI4  0528881469                  Amazon Customer   \n",
       "2        A3N7T0DY83Y4IG  0528881469                    C. A. Freeman   \n",
       "3        A1H8PY3QHMQQA0  0528881469         Dave M. Shaw \"mack dave\"   \n",
       "4        A24EV6RXELQZ63  0528881469                      Wayne Smith   \n",
       "...                 ...         ...                              ...   \n",
       "1689183  A34BZM6S9L7QI4  B00LGQ6HL8      Candy Cane \"Is it just me?\"   \n",
       "1689184  A1G650TTTHEAL5  B00LGQ6HL8  Charles Spanky \"Zumina Reviews\"   \n",
       "1689185  A25C2M3QF9G7OQ  B00LGQ6HL8                           Comdet   \n",
       "1689186   A1E1LEVQ9VQNK  B00LGQ6HL8                      J. Chambers   \n",
       "1689187  A2NYK9KWFMJV4Y  B00LGQ6HL8      Mike Tarrani \"Jazz Drummer\"   \n",
       "\n",
       "          helpful                                         reviewText  overall  \\\n",
       "0          [0, 0]  We got this GPS for my husband who is an (OTR)...        5   \n",
       "1        [12, 15]  I'm a professional OTR truck driver, and I bou...        1   \n",
       "2        [43, 45]  Well, what can I say.  I've had this unit in m...        3   \n",
       "3         [9, 10]  Not going to write a long review, even thought...        2   \n",
       "4          [0, 0]  I've had mine for a year and here's what we go...        1   \n",
       "...           ...                                                ...      ...   \n",
       "1689183    [1, 1]  Burned these in before listening to them for a...        5   \n",
       "1689184    [0, 0]  Some people like DJ style headphones or earbud...        5   \n",
       "1689185    [0, 0]  I&#8217;m a big fan of the Brainwavz S1 (actua...        5   \n",
       "1689186    [0, 0]  I've used theBrainwavz S1 In Ear Headphones, a...        5   \n",
       "1689187    [0, 0]  Normally when I receive a review sample I can ...        5   \n",
       "\n",
       "                                                   summary  unixReviewTime  \\\n",
       "0                                          Gotta have GPS!      1370131200   \n",
       "1                                        Very Disappointed      1290643200   \n",
       "2                                           1st impression      1283990400   \n",
       "3                                  Great grafics, POOR GPS      1290556800   \n",
       "4                   Major issues, only excuses for support      1317254400   \n",
       "...                                                    ...             ...   \n",
       "1689183                Boom -- Pop -- Pow.  These deliver.      1405555200   \n",
       "1689184  Thin and light, without compromising on sound ...      1405382400   \n",
       "1689185  Same form factor and durability as the S1 with...      1405555200   \n",
       "1689186  Superb audio quality in a very comfortable set...      1405641600   \n",
       "1689187                                  Exceptional sound      1405209600   \n",
       "\n",
       "          reviewTime  \n",
       "0         06 2, 2013  \n",
       "1        11 25, 2010  \n",
       "2         09 9, 2010  \n",
       "3        11 24, 2010  \n",
       "4        09 29, 2011  \n",
       "...              ...  \n",
       "1689183  07 17, 2014  \n",
       "1689184  07 15, 2014  \n",
       "1689185  07 17, 2014  \n",
       "1689186  07 18, 2014  \n",
       "1689187  07 13, 2014  \n",
       "\n",
       "[1689188 rows x 9 columns]"
      ]
     },
     "execution_count": 92,
     "metadata": {},
     "output_type": "execute_result"
    }
   ],
   "source": [
    "df"
   ]
  },
  {
   "cell_type": "code",
   "execution_count": null,
   "id": "fa6479f3-1620-4696-9a43-b810733a74e3",
   "metadata": {},
   "outputs": [],
   "source": []
  },
  {
   "cell_type": "code",
   "execution_count": null,
   "id": "9b52d66e-7799-494c-b1e0-d3b4596730e5",
   "metadata": {},
   "outputs": [],
   "source": []
  },
  {
   "cell_type": "code",
   "execution_count": null,
   "id": "74c6af09-4495-4a6c-b708-e0b46e13184f",
   "metadata": {},
   "outputs": [],
   "source": []
  },
  {
   "cell_type": "code",
   "execution_count": null,
   "id": "c96118cb-6841-4caf-a913-f6645ec621ab",
   "metadata": {},
   "outputs": [],
   "source": []
  },
  {
   "cell_type": "code",
   "execution_count": null,
   "id": "e0108cfd-933b-46ec-88ae-2eddd60e47f3",
   "metadata": {},
   "outputs": [],
   "source": []
  },
  {
   "cell_type": "markdown",
   "id": "f6f0f3f4-f1a8-4c6d-ab65-82dc564c55b9",
   "metadata": {},
   "source": [
    "### We will find the sentiment score fro each review "
   ]
  },
  {
   "cell_type": "code",
   "execution_count": 37,
   "id": "8e52558b-b6ef-41dd-8930-204a62a6c6ed",
   "metadata": {},
   "outputs": [
    {
     "data": {
      "text/plain": [
       "(63001, 9)"
      ]
     },
     "execution_count": 37,
     "metadata": {},
     "output_type": "execute_result"
    }
   ],
   "source": [
    "df.shape"
   ]
  },
  {
   "cell_type": "code",
   "execution_count": 53,
   "id": "ff768c0a-4baf-47ae-9e8e-3a5c74ab8015",
   "metadata": {},
   "outputs": [
    {
     "data": {
      "text/plain": [
       "0          0    We got this GPS for my husband who is an ...\n",
       "5          5    I am using this with a Nook HD+. It works...\n",
       "10         10    This item is just as was described in th...\n",
       "18         18     This is a great buy, compared to a $60 ...\n",
       "237        237    The Nook Tablet, in both the 16gb versi...\n",
       "                                 ...                        \n",
       "1689106    1689106    The Sabrent CR-CCU3 Card reader is ...\n",
       "1689125    1689125    Great hub for carrying around if yo...\n",
       "1689142    1689142    This is an interesting device in th...\n",
       "1689162    1689162    ...all part of the package that com...\n",
       "1689183    1689183    Burned these in before listening to...\n",
       "Name: reviewText, Length: 63001, dtype: object"
      ]
     },
     "execution_count": 53,
     "metadata": {},
     "output_type": "execute_result"
    }
   ],
   "source": [
    "df.reviewText"
   ]
  },
  {
   "cell_type": "code",
   "execution_count": 71,
   "id": "4ebce3fa-5c94-4eee-8344-c5b567813153",
   "metadata": {},
   "outputs": [],
   "source": [
    "import nltk\n",
    "from vaderSentiment.vaderSentiment import SentimentIntensityAnalyzer\n",
    "sid = SentimentIntensityAnalyzer()"
   ]
  },
  {
   "cell_type": "code",
   "execution_count": 82,
   "id": "d3b64a2b-8fbb-4d2a-8ea6-ebe3b4372cb7",
   "metadata": {},
   "outputs": [],
   "source": []
  },
  {
   "cell_type": "code",
   "execution_count": 95,
   "id": "797096e5-602b-4b05-9d4a-ea58645a7734",
   "metadata": {},
   "outputs": [
    {
     "name": "stderr",
     "output_type": "stream",
     "text": [
      "100%|████████████████████████████████| 1689188/1689188 [31:06<00:00, 904.93it/s]\n"
     ]
    }
   ],
   "source": [
    "sent=[sid.polarity_scores(x) for x in tqdm(df.reviewText)]"
   ]
  },
  {
   "cell_type": "code",
   "execution_count": null,
   "id": "dde3e25c-83ca-43b2-8132-492017b14b4a",
   "metadata": {},
   "outputs": [],
   "source": []
  },
  {
   "cell_type": "code",
   "execution_count": 110,
   "id": "da8f854d-d965-484a-8e66-756f66d1c8e7",
   "metadata": {},
   "outputs": [],
   "source": [
    "df['vader_score']=[sent[x].get('compound') for x in range(len(sent))]"
   ]
  },
  {
   "cell_type": "code",
   "execution_count": 113,
   "id": "006031a7-ec11-41a5-afd5-cc862244635b",
   "metadata": {},
   "outputs": [],
   "source": [
    "# Mapped Vader scores to integer counts for easier manipulation \n",
    "col         = 'vader_score'\n",
    "conditions  = [ df[col] >= .15, (df[col] < .1) & (df[col]> -.1), df[col] <= -.1 ]\n",
    "choices     = [ 1, 0, -1 ]\n",
    "df[\"vader_score\"] = np.select(conditions, choices, default=np.nan)  "
   ]
  },
  {
   "cell_type": "code",
   "execution_count": 115,
   "id": "f4f63d0c-6d73-43b0-850f-c86b1d4511e0",
   "metadata": {},
   "outputs": [],
   "source": [
    "#final mapping process\n",
    "df['vader_score']= df['vader_score'].map({-1:'negative', 0: 'neutral', 1:'positive'})"
   ]
  },
  {
   "cell_type": "code",
   "execution_count": 117,
   "id": "71280e02-4e71-42a7-8ee5-bf83a62955eb",
   "metadata": {},
   "outputs": [
    {
     "data": {
      "text/plain": [
       "positive    1399723\n",
       "negative     194525\n",
       "neutral       80603\n",
       "Name: vader_score, dtype: int64"
      ]
     },
     "execution_count": 117,
     "metadata": {},
     "output_type": "execute_result"
    }
   ],
   "source": [
    "df.vader_score.value_counts()"
   ]
  },
  {
   "cell_type": "code",
   "execution_count": null,
   "id": "08493153-7c78-4a7a-831f-4e4a7b064c5c",
   "metadata": {},
   "outputs": [],
   "source": []
  },
  {
   "cell_type": "code",
   "execution_count": null,
   "id": "72635dbc-ebf0-47e7-9024-e88d18895d59",
   "metadata": {},
   "outputs": [],
   "source": []
  },
  {
   "cell_type": "markdown",
   "id": "d3dc55eb-9052-426e-aa41-49530bbc7c1f",
   "metadata": {},
   "source": [
    "### Then we combine the two inputs "
   ]
  },
  {
   "cell_type": "code",
   "execution_count": null,
   "id": "3f479c15-eac0-4272-a221-997e882517b6",
   "metadata": {},
   "outputs": [],
   "source": [
    "model=Models.Sequential()\n",
    "model1 = Sequential()\n",
    "\n",
    "model2 = Model(inputs=[model.input, model1.input], outputs=x)"
   ]
  }
 ],
 "metadata": {
  "kernelspec": {
   "display_name": "Python 3 (ipykernel)",
   "language": "python",
   "name": "python3"
  },
  "language_info": {
   "codemirror_mode": {
    "name": "ipython",
    "version": 3
   },
   "file_extension": ".py",
   "mimetype": "text/x-python",
   "name": "python",
   "nbconvert_exporter": "python",
   "pygments_lexer": "ipython3",
   "version": "3.9.7"
  }
 },
 "nbformat": 4,
 "nbformat_minor": 5
}
