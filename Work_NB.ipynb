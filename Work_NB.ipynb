{
 "cells": [
  {
   "cell_type": "markdown",
   "id": "2dc53171-b635-471d-a044-54129e9dd720",
   "metadata": {},
   "source": [
    "## Work Notebook\n",
    "### Algorithm of Hybrid Rec Engine - find similar products according a tag classifier followed by cosine similarity by Spacy embeddings of reviewText "
   ]
  },
  {
   "cell_type": "code",
   "execution_count": 1,
   "id": "e7da05d0-65dd-4620-ae13-eae74033ba7e",
   "metadata": {},
   "outputs": [],
   "source": [
    "import pandas as pd\n",
    "import numpy as np\n",
    "import seaborn as sns\n",
    "import matplotlib.pyplot as plt\n",
    "import pickle\n",
    "from tqdm import tqdm\n",
    "from sklearn.metrics import accuracy_score\n",
    "from sklearn.metrics import f1_score\n",
    "from sklearn import metrics\n",
    "from sklearn.ensemble import RandomForestClassifier"
   ]
  },
  {
   "cell_type": "code",
   "execution_count": 167,
   "id": "f194a513-49b8-4b2a-acb6-320ab08637fb",
   "metadata": {},
   "outputs": [
    {
     "name": "stderr",
     "output_type": "stream",
     "text": [
      "  0%|                          | 200/1689188 [12:23:59<104716:03:48, 223.20s/it]\n"
     ]
    }
   ],
   "source": [
    "#loading downloaded data\n",
    "df=pd.read_json('~/Downloads/reviews_Electronics_5.json', lines=True)"
   ]
  },
  {
   "cell_type": "markdown",
   "id": "7aeb82bf-99dd-4bc3-9cce-e8473016be2f",
   "metadata": {},
   "source": [
    "### Loading pickled webscraping files"
   ]
  },
  {
   "cell_type": "code",
   "execution_count": 2,
   "id": "d2ebff01-6505-462c-96a5-96384378d85f",
   "metadata": {},
   "outputs": [],
   "source": [
    "with open('load_df.pickle', 'rb') as file:\n",
    "    load_df = pickle.load(file)"
   ]
  },
  {
   "cell_type": "markdown",
   "id": "34e4228c-9fc2-4257-a25b-9886d827111c",
   "metadata": {},
   "source": [
    "### We will train a model that classifies user input (item) into appropriate tag labels "
   ]
  },
  {
   "cell_type": "code",
   "execution_count": 3,
   "id": "9447638b-ffda-43e1-a491-eb9315eec14c",
   "metadata": {},
   "outputs": [
    {
     "data": {
      "text/html": [
       "<div>\n",
       "<style scoped>\n",
       "    .dataframe tbody tr th:only-of-type {\n",
       "        vertical-align: middle;\n",
       "    }\n",
       "\n",
       "    .dataframe tbody tr th {\n",
       "        vertical-align: top;\n",
       "    }\n",
       "\n",
       "    .dataframe thead th {\n",
       "        text-align: right;\n",
       "    }\n",
       "</style>\n",
       "<table border=\"1\" class=\"dataframe\">\n",
       "  <thead>\n",
       "    <tr style=\"text-align: right;\">\n",
       "      <th></th>\n",
       "      <th>reviewerID</th>\n",
       "      <th>asin</th>\n",
       "      <th>reviewerName</th>\n",
       "      <th>helpful</th>\n",
       "      <th>reviewText</th>\n",
       "      <th>overall</th>\n",
       "      <th>summary</th>\n",
       "      <th>unixReviewTime</th>\n",
       "      <th>reviewTime</th>\n",
       "      <th>item</th>\n",
       "      <th>tag</th>\n",
       "      <th>price</th>\n",
       "    </tr>\n",
       "  </thead>\n",
       "  <tbody>\n",
       "    <tr>\n",
       "      <th>0</th>\n",
       "      <td>AO94DHGC771SJ</td>\n",
       "      <td>0528881469</td>\n",
       "      <td>amazdnu</td>\n",
       "      <td>[0, 0]</td>\n",
       "      <td>We got this GPS for my husband who is an (OTR)...</td>\n",
       "      <td>5</td>\n",
       "      <td>Gotta have GPS!</td>\n",
       "      <td>1370131200</td>\n",
       "      <td>06 2, 2013</td>\n",
       "      <td>[Rand McNally 528881469 7-inch Intelliroute TN...</td>\n",
       "      <td>Trucking GPS</td>\n",
       "      <td>$399.99</td>\n",
       "    </tr>\n",
       "    <tr>\n",
       "      <th>1</th>\n",
       "      <td>AMO214LNFCEI4</td>\n",
       "      <td>0528881469</td>\n",
       "      <td>Amazon Customer</td>\n",
       "      <td>[12, 15]</td>\n",
       "      <td>I'm a professional OTR truck driver, and I bou...</td>\n",
       "      <td>1</td>\n",
       "      <td>Very Disappointed</td>\n",
       "      <td>1290643200</td>\n",
       "      <td>11 25, 2010</td>\n",
       "      <td>[Rand McNally 528881469 7-inch Intelliroute TN...</td>\n",
       "      <td>Trucking GPS</td>\n",
       "      <td>$399.99</td>\n",
       "    </tr>\n",
       "    <tr>\n",
       "      <th>2</th>\n",
       "      <td>A3N7T0DY83Y4IG</td>\n",
       "      <td>0528881469</td>\n",
       "      <td>C. A. Freeman</td>\n",
       "      <td>[43, 45]</td>\n",
       "      <td>Well, what can I say.  I've had this unit in m...</td>\n",
       "      <td>3</td>\n",
       "      <td>1st impression</td>\n",
       "      <td>1283990400</td>\n",
       "      <td>09 9, 2010</td>\n",
       "      <td>[Rand McNally 528881469 7-inch Intelliroute TN...</td>\n",
       "      <td>Trucking GPS</td>\n",
       "      <td>$399.99</td>\n",
       "    </tr>\n",
       "    <tr>\n",
       "      <th>3</th>\n",
       "      <td>A1H8PY3QHMQQA0</td>\n",
       "      <td>0528881469</td>\n",
       "      <td>Dave M. Shaw \"mack dave\"</td>\n",
       "      <td>[9, 10]</td>\n",
       "      <td>Not going to write a long review, even thought...</td>\n",
       "      <td>2</td>\n",
       "      <td>Great grafics, POOR GPS</td>\n",
       "      <td>1290556800</td>\n",
       "      <td>11 24, 2010</td>\n",
       "      <td>[Rand McNally 528881469 7-inch Intelliroute TN...</td>\n",
       "      <td>Trucking GPS</td>\n",
       "      <td>$399.99</td>\n",
       "    </tr>\n",
       "    <tr>\n",
       "      <th>4</th>\n",
       "      <td>A24EV6RXELQZ63</td>\n",
       "      <td>0528881469</td>\n",
       "      <td>Wayne Smith</td>\n",
       "      <td>[0, 0]</td>\n",
       "      <td>I've had mine for a year and here's what we go...</td>\n",
       "      <td>1</td>\n",
       "      <td>Major issues, only excuses for support</td>\n",
       "      <td>1317254400</td>\n",
       "      <td>09 29, 2011</td>\n",
       "      <td>[Rand McNally 528881469 7-inch Intelliroute TN...</td>\n",
       "      <td>Trucking GPS</td>\n",
       "      <td>$399.99</td>\n",
       "    </tr>\n",
       "  </tbody>\n",
       "</table>\n",
       "</div>"
      ],
      "text/plain": [
       "       reviewerID        asin              reviewerName   helpful  \\\n",
       "0   AO94DHGC771SJ  0528881469                   amazdnu    [0, 0]   \n",
       "1   AMO214LNFCEI4  0528881469           Amazon Customer  [12, 15]   \n",
       "2  A3N7T0DY83Y4IG  0528881469             C. A. Freeman  [43, 45]   \n",
       "3  A1H8PY3QHMQQA0  0528881469  Dave M. Shaw \"mack dave\"   [9, 10]   \n",
       "4  A24EV6RXELQZ63  0528881469               Wayne Smith    [0, 0]   \n",
       "\n",
       "                                          reviewText  overall  \\\n",
       "0  We got this GPS for my husband who is an (OTR)...        5   \n",
       "1  I'm a professional OTR truck driver, and I bou...        1   \n",
       "2  Well, what can I say.  I've had this unit in m...        3   \n",
       "3  Not going to write a long review, even thought...        2   \n",
       "4  I've had mine for a year and here's what we go...        1   \n",
       "\n",
       "                                  summary  unixReviewTime   reviewTime  \\\n",
       "0                         Gotta have GPS!      1370131200   06 2, 2013   \n",
       "1                       Very Disappointed      1290643200  11 25, 2010   \n",
       "2                          1st impression      1283990400   09 9, 2010   \n",
       "3                 Great grafics, POOR GPS      1290556800  11 24, 2010   \n",
       "4  Major issues, only excuses for support      1317254400  09 29, 2011   \n",
       "\n",
       "                                                item           tag    price  \n",
       "0  [Rand McNally 528881469 7-inch Intelliroute TN...  Trucking GPS  $399.99  \n",
       "1  [Rand McNally 528881469 7-inch Intelliroute TN...  Trucking GPS  $399.99  \n",
       "2  [Rand McNally 528881469 7-inch Intelliroute TN...  Trucking GPS  $399.99  \n",
       "3  [Rand McNally 528881469 7-inch Intelliroute TN...  Trucking GPS  $399.99  \n",
       "4  [Rand McNally 528881469 7-inch Intelliroute TN...  Trucking GPS  $399.99  "
      ]
     },
     "execution_count": 3,
     "metadata": {},
     "output_type": "execute_result"
    }
   ],
   "source": [
    "load_df.head()"
   ]
  },
  {
   "cell_type": "code",
   "execution_count": null,
   "id": "fa6479f3-1620-4696-9a43-b810733a74e3",
   "metadata": {},
   "outputs": [],
   "source": [
    "\n"
   ]
  },
  {
   "cell_type": "code",
   "execution_count": 4,
   "id": "f6906984-dfa3-45be-960e-6671a20322f3",
   "metadata": {},
   "outputs": [],
   "source": [
    "item_list=[]\n",
    "\n",
    "for i in range(702972):\n",
    "    try:\n",
    "        if len(load_df.item[i]) >= 1:\n",
    "            item_list.append(load_df.item[i][0])\n",
    "    except:\n",
    "        item_list.append(np.nan)\n",
    "        continue\n",
    "        \n"
   ]
  },
  {
   "cell_type": "code",
   "execution_count": null,
   "id": "101c56b7-cb36-4de5-9854-81718ad76025",
   "metadata": {},
   "outputs": [],
   "source": []
  },
  {
   "cell_type": "code",
   "execution_count": 5,
   "id": "33ba9e51-89d2-4003-a899-d3759ecf8e27",
   "metadata": {},
   "outputs": [],
   "source": [
    "load_df['item']=pd.Series(item_list)"
   ]
  },
  {
   "cell_type": "code",
   "execution_count": 6,
   "id": "c44e91e8-f57b-4b7e-9f7e-9193652b4b65",
   "metadata": {},
   "outputs": [
    {
     "data": {
      "text/html": [
       "<div>\n",
       "<style scoped>\n",
       "    .dataframe tbody tr th:only-of-type {\n",
       "        vertical-align: middle;\n",
       "    }\n",
       "\n",
       "    .dataframe tbody tr th {\n",
       "        vertical-align: top;\n",
       "    }\n",
       "\n",
       "    .dataframe thead th {\n",
       "        text-align: right;\n",
       "    }\n",
       "</style>\n",
       "<table border=\"1\" class=\"dataframe\">\n",
       "  <thead>\n",
       "    <tr style=\"text-align: right;\">\n",
       "      <th></th>\n",
       "      <th>reviewerID</th>\n",
       "      <th>asin</th>\n",
       "      <th>reviewerName</th>\n",
       "      <th>helpful</th>\n",
       "      <th>reviewText</th>\n",
       "      <th>overall</th>\n",
       "      <th>summary</th>\n",
       "      <th>unixReviewTime</th>\n",
       "      <th>reviewTime</th>\n",
       "      <th>item</th>\n",
       "      <th>tag</th>\n",
       "      <th>price</th>\n",
       "    </tr>\n",
       "  </thead>\n",
       "  <tbody>\n",
       "    <tr>\n",
       "      <th>0</th>\n",
       "      <td>AO94DHGC771SJ</td>\n",
       "      <td>0528881469</td>\n",
       "      <td>amazdnu</td>\n",
       "      <td>[0, 0]</td>\n",
       "      <td>We got this GPS for my husband who is an (OTR)...</td>\n",
       "      <td>5</td>\n",
       "      <td>Gotta have GPS!</td>\n",
       "      <td>1370131200</td>\n",
       "      <td>06 2, 2013</td>\n",
       "      <td>Rand McNally 528881469 7-inch Intelliroute TND...</td>\n",
       "      <td>Trucking GPS</td>\n",
       "      <td>$399.99</td>\n",
       "    </tr>\n",
       "    <tr>\n",
       "      <th>1</th>\n",
       "      <td>AMO214LNFCEI4</td>\n",
       "      <td>0528881469</td>\n",
       "      <td>Amazon Customer</td>\n",
       "      <td>[12, 15]</td>\n",
       "      <td>I'm a professional OTR truck driver, and I bou...</td>\n",
       "      <td>1</td>\n",
       "      <td>Very Disappointed</td>\n",
       "      <td>1290643200</td>\n",
       "      <td>11 25, 2010</td>\n",
       "      <td>Rand McNally 528881469 7-inch Intelliroute TND...</td>\n",
       "      <td>Trucking GPS</td>\n",
       "      <td>$399.99</td>\n",
       "    </tr>\n",
       "    <tr>\n",
       "      <th>2</th>\n",
       "      <td>A3N7T0DY83Y4IG</td>\n",
       "      <td>0528881469</td>\n",
       "      <td>C. A. Freeman</td>\n",
       "      <td>[43, 45]</td>\n",
       "      <td>Well, what can I say.  I've had this unit in m...</td>\n",
       "      <td>3</td>\n",
       "      <td>1st impression</td>\n",
       "      <td>1283990400</td>\n",
       "      <td>09 9, 2010</td>\n",
       "      <td>Rand McNally 528881469 7-inch Intelliroute TND...</td>\n",
       "      <td>Trucking GPS</td>\n",
       "      <td>$399.99</td>\n",
       "    </tr>\n",
       "    <tr>\n",
       "      <th>3</th>\n",
       "      <td>A1H8PY3QHMQQA0</td>\n",
       "      <td>0528881469</td>\n",
       "      <td>Dave M. Shaw \"mack dave\"</td>\n",
       "      <td>[9, 10]</td>\n",
       "      <td>Not going to write a long review, even thought...</td>\n",
       "      <td>2</td>\n",
       "      <td>Great grafics, POOR GPS</td>\n",
       "      <td>1290556800</td>\n",
       "      <td>11 24, 2010</td>\n",
       "      <td>Rand McNally 528881469 7-inch Intelliroute TND...</td>\n",
       "      <td>Trucking GPS</td>\n",
       "      <td>$399.99</td>\n",
       "    </tr>\n",
       "    <tr>\n",
       "      <th>4</th>\n",
       "      <td>A24EV6RXELQZ63</td>\n",
       "      <td>0528881469</td>\n",
       "      <td>Wayne Smith</td>\n",
       "      <td>[0, 0]</td>\n",
       "      <td>I've had mine for a year and here's what we go...</td>\n",
       "      <td>1</td>\n",
       "      <td>Major issues, only excuses for support</td>\n",
       "      <td>1317254400</td>\n",
       "      <td>09 29, 2011</td>\n",
       "      <td>Rand McNally 528881469 7-inch Intelliroute TND...</td>\n",
       "      <td>Trucking GPS</td>\n",
       "      <td>$399.99</td>\n",
       "    </tr>\n",
       "  </tbody>\n",
       "</table>\n",
       "</div>"
      ],
      "text/plain": [
       "       reviewerID        asin              reviewerName   helpful  \\\n",
       "0   AO94DHGC771SJ  0528881469                   amazdnu    [0, 0]   \n",
       "1   AMO214LNFCEI4  0528881469           Amazon Customer  [12, 15]   \n",
       "2  A3N7T0DY83Y4IG  0528881469             C. A. Freeman  [43, 45]   \n",
       "3  A1H8PY3QHMQQA0  0528881469  Dave M. Shaw \"mack dave\"   [9, 10]   \n",
       "4  A24EV6RXELQZ63  0528881469               Wayne Smith    [0, 0]   \n",
       "\n",
       "                                          reviewText  overall  \\\n",
       "0  We got this GPS for my husband who is an (OTR)...        5   \n",
       "1  I'm a professional OTR truck driver, and I bou...        1   \n",
       "2  Well, what can I say.  I've had this unit in m...        3   \n",
       "3  Not going to write a long review, even thought...        2   \n",
       "4  I've had mine for a year and here's what we go...        1   \n",
       "\n",
       "                                  summary  unixReviewTime   reviewTime  \\\n",
       "0                         Gotta have GPS!      1370131200   06 2, 2013   \n",
       "1                       Very Disappointed      1290643200  11 25, 2010   \n",
       "2                          1st impression      1283990400   09 9, 2010   \n",
       "3                 Great grafics, POOR GPS      1290556800  11 24, 2010   \n",
       "4  Major issues, only excuses for support      1317254400  09 29, 2011   \n",
       "\n",
       "                                                item           tag    price  \n",
       "0  Rand McNally 528881469 7-inch Intelliroute TND...  Trucking GPS  $399.99  \n",
       "1  Rand McNally 528881469 7-inch Intelliroute TND...  Trucking GPS  $399.99  \n",
       "2  Rand McNally 528881469 7-inch Intelliroute TND...  Trucking GPS  $399.99  \n",
       "3  Rand McNally 528881469 7-inch Intelliroute TND...  Trucking GPS  $399.99  \n",
       "4  Rand McNally 528881469 7-inch Intelliroute TND...  Trucking GPS  $399.99  "
      ]
     },
     "execution_count": 6,
     "metadata": {},
     "output_type": "execute_result"
    }
   ],
   "source": [
    "load_df.head()"
   ]
  },
  {
   "cell_type": "code",
   "execution_count": 7,
   "id": "256b82b0-e355-4b21-bc17-f4593d69083e",
   "metadata": {},
   "outputs": [],
   "source": [
    "df_mod=load_df[['item','tag']]"
   ]
  },
  {
   "cell_type": "code",
   "execution_count": 8,
   "id": "fcf86073-fb0e-4d31-a7f6-c1098f548040",
   "metadata": {},
   "outputs": [
    {
     "name": "stderr",
     "output_type": "stream",
     "text": [
      "/Users/jeffreyng/miniforge3/lib/python3.9/site-packages/pandas/util/_decorators.py:311: SettingWithCopyWarning: \n",
      "A value is trying to be set on a copy of a slice from a DataFrame\n",
      "\n",
      "See the caveats in the documentation: https://pandas.pydata.org/pandas-docs/stable/user_guide/indexing.html#returning-a-view-versus-a-copy\n",
      "  return func(*args, **kwargs)\n"
     ]
    }
   ],
   "source": [
    "df_mod.dropna(inplace=True)"
   ]
  },
  {
   "cell_type": "code",
   "execution_count": 9,
   "id": "3a1257d1-95c0-4e21-9339-f0eb1b444d3d",
   "metadata": {},
   "outputs": [
    {
     "data": {
      "text/plain": [
       "(690574, 2)"
      ]
     },
     "execution_count": 9,
     "metadata": {},
     "output_type": "execute_result"
    }
   ],
   "source": [
    "df_mod.drop_duplicates(subset='item')\n",
    "df_mod.shape"
   ]
  },
  {
   "cell_type": "code",
   "execution_count": 10,
   "id": "72a0d4ae-d189-4f89-adb9-fc5228f510be",
   "metadata": {},
   "outputs": [],
   "source": [
    "y=df_mod.tag"
   ]
  },
  {
   "cell_type": "code",
   "execution_count": 11,
   "id": "79c20bf7-8144-40b0-8813-ddd78854489c",
   "metadata": {},
   "outputs": [],
   "source": [
    "X=df_mod.item"
   ]
  },
  {
   "cell_type": "code",
   "execution_count": 12,
   "id": "d63984a4-3efa-4176-a2e5-daa025288309",
   "metadata": {},
   "outputs": [],
   "source": [
    "import re\n",
    "X = [re.sub(r\"\\d+\", '', x) for x in X]"
   ]
  },
  {
   "cell_type": "code",
   "execution_count": 13,
   "id": "9b52d66e-7799-494c-b1e0-d3b4596730e5",
   "metadata": {},
   "outputs": [],
   "source": [
    "from sklearn.model_selection import train_test_split\n",
    "from nltk.corpus import stopwords\n",
    "import string\n",
    "from sklearn.feature_extraction.text import TfidfVectorizer\n",
    "from sklearn.feature_extraction.text import TfidfTransformer\n",
    "import re\n",
    "from nltk.stem import WordNetLemmatizer \n",
    "from nltk.corpus import stopwords"
   ]
  },
  {
   "cell_type": "code",
   "execution_count": null,
   "id": "509f9cd6-36b1-43b0-b53f-44755a07592c",
   "metadata": {},
   "outputs": [],
   "source": []
  },
  {
   "cell_type": "code",
   "execution_count": 14,
   "id": "74c6af09-4495-4a6c-b708-e0b46e13184f",
   "metadata": {},
   "outputs": [],
   "source": [
    "X_train, X_test, y_train, y_test = train_test_split(X, y, test_size = 0.10, random_state=0)"
   ]
  },
  {
   "cell_type": "code",
   "execution_count": 15,
   "id": "75b46372-e55c-423d-a3e0-28b4df7b0608",
   "metadata": {},
   "outputs": [],
   "source": [
    "#using tf_idf vectorizer\n",
    "stop_words = set(stopwords.words(\"english\"))\n",
    "tfidf = TfidfVectorizer(stop_words=stop_words, ngram_range=(1,2), lowercase=True)\n",
    "tfidf_data_train_lem = tfidf.fit_transform(X_train)\n",
    "tfidf_data_test_lem = tfidf.transform(X_test)\n"
   ]
  },
  {
   "cell_type": "markdown",
   "id": "16003fae-1471-45b6-a2df-d848216fe276",
   "metadata": {},
   "source": [
    "### Multinomial Naive Bayes"
   ]
  },
  {
   "cell_type": "code",
   "execution_count": 26,
   "id": "c96118cb-6841-4caf-a913-f6645ec621ab",
   "metadata": {},
   "outputs": [
    {
     "name": "stderr",
     "output_type": "stream",
     "text": [
      "/Users/jeffreyng/miniforge3/lib/python3.9/site-packages/sklearn/naive_bayes.py:555: UserWarning: alpha too small will result in numeric errors, setting alpha = 1.0e-10\n",
      "  warnings.warn(\n"
     ]
    },
    {
     "data": {
      "text/plain": [
       "MultinomialNB(alpha=0)"
      ]
     },
     "execution_count": 26,
     "metadata": {},
     "output_type": "execute_result"
    }
   ],
   "source": [
    "from sklearn.naive_bayes import MultinomialNB  \n",
    "classifier = MultinomialNB(alpha=0)  \n",
    "classifier.fit(tfidf_data_train_lem, y_train)  "
   ]
  },
  {
   "cell_type": "code",
   "execution_count": 27,
   "id": "e0108cfd-933b-46ec-88ae-2eddd60e47f3",
   "metadata": {},
   "outputs": [],
   "source": [
    "# y_preds=classifier.predict(tfidf_data_test_lem)\n",
    "y_pred=classifier.predict(tfidf_data_test_lem)"
   ]
  },
  {
   "cell_type": "code",
   "execution_count": 28,
   "id": "7508b2c3-0b4f-4e59-8e01-26178f9330ec",
   "metadata": {},
   "outputs": [
    {
     "data": {
      "text/plain": [
       "array(['Mice', 'External Solid State Drives', 'Network Adapters', ...,\n",
       "       'CD & DVD Drives', 'SD Cards', 'Radio Scanners'], dtype='<U46')"
      ]
     },
     "execution_count": 28,
     "metadata": {},
     "output_type": "execute_result"
    }
   ],
   "source": [
    "y_pred"
   ]
  },
  {
   "cell_type": "code",
   "execution_count": 29,
   "id": "e6b58755-d88e-49cc-a7ad-fd3d55315a2b",
   "metadata": {},
   "outputs": [],
   "source": [
    "from sklearn.metrics import accuracy_score\n",
    "from sklearn.metrics import f1_score\n",
    "from sklearn import metrics"
   ]
  },
  {
   "cell_type": "code",
   "execution_count": 30,
   "id": "e4b4384c-df2b-40a5-b1b1-c1f0ed7f5c52",
   "metadata": {},
   "outputs": [
    {
     "name": "stdout",
     "output_type": "stream",
     "text": [
      "0.7046540589070057\n",
      "0.7355476787265816\n"
     ]
    }
   ],
   "source": [
    "print(metrics.accuracy_score(y_test, y_pred))\n",
    "print(metrics.f1_score(y_test, y_pred, average='weighted'))\n"
   ]
  },
  {
   "cell_type": "code",
   "execution_count": 21,
   "id": "60dc71e8-0aec-4c36-ac0d-733dd0a1f893",
   "metadata": {},
   "outputs": [
    {
     "data": {
      "text/plain": [
       "MultinomialNB(alpha=0)"
      ]
     },
     "execution_count": 21,
     "metadata": {},
     "output_type": "execute_result"
    }
   ],
   "source": [
    "classifier"
   ]
  },
  {
   "cell_type": "markdown",
   "id": "5942935b-e3a2-4dd0-a2ff-b77d1cdd3d13",
   "metadata": {},
   "source": [
    "### Multinomial NB with Gridsearch"
   ]
  },
  {
   "cell_type": "code",
   "execution_count": 31,
   "id": "f7f1be1a-2724-4322-99de-9e893af54ce2",
   "metadata": {},
   "outputs": [
    {
     "name": "stderr",
     "output_type": "stream",
     "text": [
      "/Users/jeffreyng/miniforge3/lib/python3.9/site-packages/sklearn/model_selection/_split.py:676: UserWarning: The least populated class in y has only 2 members, which is less than n_splits=3.\n",
      "  warnings.warn(\n",
      "/Users/jeffreyng/miniforge3/lib/python3.9/site-packages/sklearn/naive_bayes.py:555: UserWarning: alpha too small will result in numeric errors, setting alpha = 1.0e-10\n",
      "  warnings.warn(\n",
      "/Users/jeffreyng/miniforge3/lib/python3.9/site-packages/sklearn/naive_bayes.py:555: UserWarning: alpha too small will result in numeric errors, setting alpha = 1.0e-10\n",
      "  warnings.warn(\n",
      "/Users/jeffreyng/miniforge3/lib/python3.9/site-packages/sklearn/naive_bayes.py:555: UserWarning: alpha too small will result in numeric errors, setting alpha = 1.0e-10\n",
      "  warnings.warn(\n"
     ]
    },
    {
     "data": {
      "text/plain": [
       "GridSearchCV(cv=3, estimator=MultinomialNB(alpha=0),\n",
       "             param_grid=[{'alpha': [0.0001, 0.001, 0.01, 0, 1, 10, 15]}],\n",
       "             scoring='accuracy')"
      ]
     },
     "execution_count": 31,
     "metadata": {},
     "output_type": "execute_result"
    }
   ],
   "source": [
    "from sklearn.model_selection import GridSearchCV\n",
    "NB_params = [{'alpha': [.0001, .001, .01, 0, 1, 10, 15, 5]}]\n",
    "\n",
    "NB_clf = GridSearchCV(classifier, NB_params, cv = 3, scoring='accuracy')\n",
    "\n",
    "NB_clf.fit(tfidf_data_train_lem, y_train)"
   ]
  },
  {
   "cell_type": "code",
   "execution_count": 32,
   "id": "1d7e0bbb-838f-480f-ac53-d121c377490d",
   "metadata": {},
   "outputs": [],
   "source": [
    "nb_preds=NB_clf.predict(tfidf_data_test_lem)"
   ]
  },
  {
   "cell_type": "code",
   "execution_count": 33,
   "id": "e4ed380f-be05-4a50-826a-8322946d9aab",
   "metadata": {},
   "outputs": [
    {
     "name": "stdout",
     "output_type": "stream",
     "text": [
      "0.7145298155173911\n",
      "0.7207195947389221\n"
     ]
    }
   ],
   "source": [
    "#Evaluation metrics\n",
    "print(metrics.accuracy_score(y_test, nb_preds))\n",
    "print(metrics.f1_score(y_test, nb_preds, average='weighted'))"
   ]
  },
  {
   "cell_type": "code",
   "execution_count": null,
   "id": "c43531a9-a52a-421e-ab31-0ab97a25ed5a",
   "metadata": {},
   "outputs": [],
   "source": []
  },
  {
   "cell_type": "code",
   "execution_count": null,
   "id": "e6dee487-9cca-4614-8abb-8254af4dc4d7",
   "metadata": {},
   "outputs": [],
   "source": []
  },
  {
   "cell_type": "code",
   "execution_count": null,
   "id": "a95a3c45-f773-4213-8e7a-62a0ee4968c8",
   "metadata": {},
   "outputs": [],
   "source": []
  },
  {
   "cell_type": "markdown",
   "id": "b546f100-007c-4737-be72-87c89e87fa66",
   "metadata": {},
   "source": [
    "### SVM"
   ]
  },
  {
   "cell_type": "code",
   "execution_count": 36,
   "id": "63f39240-aad1-4e2b-b234-68a536ec4a0f",
   "metadata": {},
   "outputs": [],
   "source": [
    "#starting SVM model\n",
    "from sklearn import svm"
   ]
  },
  {
   "cell_type": "code",
   "execution_count": 37,
   "id": "e7047c0f-9f9a-412f-ab46-8bf3562e50b9",
   "metadata": {},
   "outputs": [],
   "source": [
    "#setting hyperparameters for the SVM model\n",
    "svm_clf = svm.SVC(kernel='rbf', class_weight='balanced')"
   ]
  },
  {
   "cell_type": "code",
   "execution_count": null,
   "id": "6913d601-e34c-4906-9ee2-0b9841798dd8",
   "metadata": {},
   "outputs": [],
   "source": [
    "#fitting the SVM model\n",
    "svm_clf.fit(tfidf_data_train_lem, y_train)"
   ]
  },
  {
   "cell_type": "code",
   "execution_count": null,
   "id": "34472c06-807e-48b7-adbe-bd3a89e75220",
   "metadata": {},
   "outputs": [],
   "source": [
    "#predicting the classification with SVM\n",
    "svm_preds=svm_clf.predict(tfidf_data_test_lem)"
   ]
  },
  {
   "cell_type": "code",
   "execution_count": null,
   "id": "06984c20-f6a7-4f60-8d9b-26c5e8d25e99",
   "metadata": {},
   "outputs": [],
   "source": [
    "#Evaluation metrics\n",
    "print(metrics.accuracy_score(y_test, svm_preds))\n",
    "print(metrics.f1_score(y_test, svm_preds, average='weighted'))"
   ]
  },
  {
   "cell_type": "markdown",
   "id": "b487fcf3-1d82-429c-9478-0daa3b4abd56",
   "metadata": {},
   "source": [
    "### Random Forest"
   ]
  },
  {
   "cell_type": "code",
   "execution_count": 19,
   "id": "3f13930b-cdc9-4523-8aab-f043b70aa641",
   "metadata": {},
   "outputs": [],
   "source": []
  },
  {
   "cell_type": "code",
   "execution_count": null,
   "id": "7f1762fa-820e-4196-a799-91e0e2492202",
   "metadata": {},
   "outputs": [],
   "source": []
  },
  {
   "cell_type": "code",
   "execution_count": 17,
   "id": "d03cf0c3-500a-4812-a3c5-03b291d2cbcc",
   "metadata": {},
   "outputs": [
    {
     "data": {
      "text/plain": [
       "<656045x100173 sparse matrix of type '<class 'numpy.float64'>'\n",
       "\twith 12022642 stored elements in Compressed Sparse Row format>"
      ]
     },
     "execution_count": 17,
     "metadata": {},
     "output_type": "execute_result"
    }
   ],
   "source": [
    "tfidf_data_train_lem"
   ]
  },
  {
   "cell_type": "code",
   "execution_count": 16,
   "id": "4fe7d9a8-b7ca-45ab-9ed0-fcbc9b5ba76d",
   "metadata": {},
   "outputs": [],
   "source": [
    "from sklearn.ensemble import RandomForestClassifier\n",
    "#initializing RandomFoarest \n",
    "rfc = RandomForestClassifier(n_estimators=200, criterion='entropy',random_state=0, n_jobs=-1, verbose=2)"
   ]
  },
  {
   "cell_type": "code",
   "execution_count": 20,
   "id": "70f8d5ec-f3ad-4b8d-976f-5da231969945",
   "metadata": {},
   "outputs": [
    {
     "name": "stderr",
     "output_type": "stream",
     "text": [
      "[Parallel(n_jobs=-1)]: Using backend ThreadingBackend with 10 concurrent workers.\n"
     ]
    },
    {
     "name": "stdout",
     "output_type": "stream",
     "text": [
      "building tree 1 of 300building tree 2 of 300\n",
      "\n",
      "building tree 3 of 300building tree 4 of 300building tree 5 of 300\n",
      "building tree 6 of 300\n",
      "\n",
      "\n",
      "building tree 7 of 300building tree 8 of 300building tree 9 of 300\n",
      "\n",
      "building tree 10 of 300\n",
      "\n",
      "building tree 11 of 300\n",
      "building tree 12 of 300\n",
      "building tree 13 of 300\n",
      "building tree 14 of 300\n",
      "building tree 15 of 300\n",
      "building tree 16 of 300\n",
      "building tree 17 of 300\n",
      "building tree 18 of 300\n",
      "building tree 19 of 300\n",
      "building tree 20 of 300\n",
      "building tree 21 of 300\n",
      "building tree 22 of 300\n",
      "building tree 23 of 300\n",
      "building tree 24 of 300\n",
      "building tree 25 of 300\n",
      "building tree 26 of 300\n",
      "building tree 27 of 300\n",
      "building tree 28 of 300\n",
      "building tree 29 of 300\n",
      "building tree 30 of 300\n",
      "building tree 31 of 300\n"
     ]
    },
    {
     "name": "stderr",
     "output_type": "stream",
     "text": [
      "[Parallel(n_jobs=-1)]: Done  21 tasks      | elapsed: 13.9min\n"
     ]
    },
    {
     "name": "stdout",
     "output_type": "stream",
     "text": [
      "building tree 32 of 300\n",
      "building tree 33 of 300\n",
      "building tree 34 of 300\n",
      "building tree 35 of 300\n",
      "building tree 36 of 300\n",
      "building tree 37 of 300\n",
      "building tree 38 of 300\n",
      "building tree 39 of 300\n",
      "building tree 40 of 300\n",
      "building tree 41 of 300\n",
      "building tree 42 of 300\n",
      "building tree 43 of 300\n",
      "building tree 44 of 300\n",
      "building tree 45 of 300\n",
      "building tree 46 of 300\n",
      "building tree 47 of 300\n",
      "building tree 48 of 300\n",
      "building tree 49 of 300\n",
      "building tree 50 of 300\n",
      "building tree 51 of 300\n",
      "building tree 52 of 300\n",
      "building tree 53 of 300\n",
      "building tree 54 of 300\n",
      "building tree 55 of 300\n",
      "building tree 56 of 300\n",
      "building tree 57 of 300\n",
      "building tree 58 of 300\n",
      "building tree 59 of 300\n",
      "building tree 60 of 300\n",
      "building tree 61 of 300\n",
      "building tree 62 of 300\n",
      "building tree 63 of 300\n",
      "building tree 64 of 300\n",
      "building tree 65 of 300\n",
      "building tree 66 of 300\n",
      "building tree 67 of 300\n",
      "building tree 68 of 300\n",
      "building tree 69 of 300\n",
      "building tree 70 of 300\n",
      "building tree 71 of 300\n",
      "building tree 72 of 300\n",
      "building tree 73 of 300\n",
      "building tree 74 of 300\n",
      "building tree 75 of 300\n",
      "building tree 76 of 300\n",
      "building tree 77 of 300\n",
      "building tree 78 of 300\n",
      "building tree 79 of 300\n",
      "building tree 80 of 300\n",
      "building tree 81 of 300\n",
      "building tree 82 of 300\n",
      "building tree 83 of 300\n",
      "building tree 84 of 300\n",
      "building tree 85 of 300\n",
      "building tree 86 of 300\n",
      "building tree 87 of 300\n",
      "building tree 88 of 300\n",
      "building tree 89 of 300\n",
      "building tree 90 of 300\n",
      "building tree 91 of 300\n",
      "building tree 92 of 300\n",
      "building tree 93 of 300\n",
      "building tree 94 of 300\n",
      "building tree 95 of 300\n",
      "building tree 96 of 300\n",
      "building tree 97 of 300\n",
      "building tree 98 of 300\n",
      "building tree 99 of 300\n",
      "building tree 100 of 300\n",
      "building tree 101 of 300\n",
      "building tree 102 of 300\n",
      "building tree 103 of 300\n",
      "building tree 104 of 300\n",
      "building tree 105 of 300\n",
      "building tree 106 of 300\n",
      "building tree 107 of 300\n",
      "building tree 108 of 300\n",
      "building tree 109 of 300\n",
      "building tree 110 of 300\n",
      "building tree 111 of 300\n",
      "building tree 112 of 300\n",
      "building tree 113 of 300\n",
      "building tree 114 of 300\n",
      "building tree 115 of 300\n",
      "building tree 116 of 300\n",
      "building tree 117 of 300\n",
      "building tree 118 of 300\n",
      "building tree 119 of 300\n",
      "building tree 120 of 300\n",
      "building tree 121 of 300\n",
      "building tree 122 of 300\n",
      "building tree 123 of 300\n",
      "building tree 124 of 300\n",
      "building tree 125 of 300\n",
      "building tree 126 of 300\n",
      "building tree 127 of 300\n",
      "building tree 128 of 300\n",
      "building tree 129 of 300\n",
      "building tree 130 of 300\n",
      "building tree 131 of 300\n",
      "building tree 132 of 300\n",
      "building tree 133 of 300\n",
      "building tree 134 of 300\n",
      "building tree 135 of 300\n",
      "building tree 136 of 300\n",
      "building tree 137 of 300\n",
      "building tree 138 of 300\n",
      "building tree 139 of 300\n",
      "building tree 140 of 300\n",
      "building tree 141 of 300\n",
      "building tree 142 of 300\n",
      "building tree 143 of 300\n",
      "building tree 144 of 300\n",
      "building tree 145 of 300\n",
      "building tree 146 of 300\n",
      "building tree 147 of 300\n",
      "building tree 148 of 300\n",
      "building tree 149 of 300\n",
      "building tree 150 of 300\n",
      "building tree 151 of 300\n",
      "building tree 152 of 300\n"
     ]
    },
    {
     "name": "stderr",
     "output_type": "stream",
     "text": [
      "[Parallel(n_jobs=-1)]: Done 142 tasks      | elapsed: 70.2min\n"
     ]
    },
    {
     "name": "stdout",
     "output_type": "stream",
     "text": [
      "building tree 153 of 300\n",
      "building tree 154 of 300\n",
      "building tree 155 of 300\n",
      "building tree 156 of 300\n",
      "building tree 157 of 300\n",
      "building tree 158 of 300\n",
      "building tree 159 of 300\n",
      "building tree 160 of 300\n",
      "building tree 161 of 300\n",
      "building tree 162 of 300\n",
      "building tree 163 of 300\n",
      "building tree 164 of 300\n",
      "building tree 165 of 300\n",
      "building tree 166 of 300\n",
      "building tree 167 of 300\n",
      "building tree 168 of 300\n",
      "building tree 169 of 300\n",
      "building tree 170 of 300\n",
      "building tree 171 of 300\n",
      "building tree 172 of 300\n",
      "building tree 173 of 300\n",
      "building tree 174 of 300\n",
      "building tree 175 of 300\n",
      "building tree 176 of 300\n",
      "building tree 177 of 300\n",
      "building tree 178 of 300\n",
      "building tree 179 of 300\n",
      "building tree 180 of 300\n",
      "building tree 181 of 300\n",
      "building tree 182 of 300\n",
      "building tree 183 of 300\n",
      "building tree 184 of 300\n",
      "building tree 185 of 300\n",
      "building tree 186 of 300\n",
      "building tree 187 of 300\n",
      "building tree 188 of 300\n",
      "building tree 189 of 300\n",
      "building tree 190 of 300\n",
      "building tree 191 of 300\n",
      "building tree 192 of 300\n",
      "building tree 193 of 300\n",
      "building tree 194 of 300\n",
      "building tree 195 of 300\n",
      "building tree 196 of 300\n",
      "building tree 197 of 300\n",
      "building tree 198 of 300\n",
      "building tree 199 of 300\n",
      "building tree 200 of 300\n",
      "building tree 201 of 300\n",
      "building tree 202 of 300\n",
      "building tree 203 of 300\n",
      "building tree 204 of 300\n",
      "building tree 205 of 300\n",
      "building tree 206 of 300\n",
      "building tree 207 of 300\n",
      "building tree 208 of 300\n",
      "building tree 209 of 300\n",
      "building tree 210 of 300\n",
      "building tree 211 of 300\n",
      "building tree 212 of 300\n",
      "building tree 213 of 300\n",
      "building tree 214 of 300\n",
      "building tree 215 of 300\n",
      "building tree 216 of 300\n",
      "building tree 217 of 300\n",
      "building tree 218 of 300\n",
      "building tree 219 of 300\n",
      "building tree 220 of 300\n",
      "building tree 221 of 300\n",
      "building tree 222 of 300\n",
      "building tree 223 of 300\n",
      "building tree 224 of 300\n",
      "building tree 225 of 300\n",
      "building tree 226 of 300\n",
      "building tree 227 of 300\n",
      "building tree 228 of 300\n",
      "building tree 229 of 300\n",
      "building tree 230 of 300\n",
      "building tree 231 of 300\n",
      "building tree 232 of 300\n",
      "building tree 233 of 300\n",
      "building tree 234 of 300\n",
      "building tree 235 of 300\n",
      "building tree 236 of 300\n",
      "building tree 237 of 300\n",
      "building tree 238 of 300\n",
      "building tree 239 of 300\n",
      "building tree 240 of 300\n",
      "building tree 241 of 300\n",
      "building tree 242 of 300\n",
      "building tree 243 of 300\n",
      "building tree 244 of 300\n",
      "building tree 245 of 300\n",
      "building tree 246 of 300\n",
      "building tree 247 of 300\n",
      "building tree 248 of 300\n",
      "building tree 249 of 300\n",
      "building tree 250 of 300\n",
      "building tree 251 of 300\n",
      "building tree 252 of 300\n",
      "building tree 253 of 300\n",
      "building tree 254 of 300\n",
      "building tree 255 of 300\n",
      "building tree 256 of 300\n",
      "building tree 257 of 300\n",
      "building tree 258 of 300\n",
      "building tree 259 of 300\n",
      "building tree 260 of 300\n",
      "building tree 261 of 300\n",
      "building tree 262 of 300\n",
      "building tree 263 of 300\n",
      "building tree 264 of 300\n",
      "building tree 265 of 300\n",
      "building tree 266 of 300\n",
      "building tree 267 of 300\n",
      "building tree 268 of 300\n",
      "building tree 269 of 300\n",
      "building tree 270 of 300\n",
      "building tree 271 of 300\n",
      "building tree 272 of 300\n",
      "building tree 273 of 300\n",
      "building tree 274 of 300\n",
      "building tree 275 of 300\n",
      "building tree 276 of 300\n",
      "building tree 277 of 300\n",
      "building tree 278 of 300\n",
      "building tree 279 of 300\n",
      "building tree 280 of 300\n",
      "building tree 281 of 300\n",
      "building tree 282 of 300\n",
      "building tree 283 of 300\n",
      "building tree 284 of 300\n",
      "building tree 285 of 300\n",
      "building tree 286 of 300\n",
      "building tree 287 of 300\n",
      "building tree 288 of 300\n",
      "building tree 289 of 300\n",
      "building tree 290 of 300\n",
      "building tree 291 of 300\n",
      "building tree 292 of 300\n",
      "building tree 293 of 300\n",
      "building tree 294 of 300\n",
      "building tree 295 of 300\n",
      "building tree 296 of 300\n",
      "building tree 297 of 300\n",
      "building tree 298 of 300\n",
      "building tree 299 of 300\n",
      "building tree 300 of 300\n"
     ]
    },
    {
     "name": "stderr",
     "output_type": "stream",
     "text": [
      "[Parallel(n_jobs=-1)]: Done 300 out of 300 | elapsed: 141.8min finished\n"
     ]
    },
    {
     "data": {
      "text/plain": [
       "RandomForestClassifier(criterion='entropy', n_estimators=300, n_jobs=-1,\n",
       "                       random_state=0, verbose=2)"
      ]
     },
     "execution_count": 20,
     "metadata": {},
     "output_type": "execute_result"
    }
   ],
   "source": [
    "#fitting model\n",
    "rfc.fit(tfidf_data_train_lem, y_train)"
   ]
  },
  {
   "cell_type": "code",
   "execution_count": 23,
   "id": "0a2f2b1d-9ad8-4da7-8dc9-f8912a774874",
   "metadata": {},
   "outputs": [
    {
     "name": "stderr",
     "output_type": "stream",
     "text": [
      "[Parallel(n_jobs=10)]: Using backend ThreadingBackend with 10 concurrent workers.\n",
      "[Parallel(n_jobs=10)]: Done  21 tasks      | elapsed:    2.0s\n",
      "[Parallel(n_jobs=10)]: Done 142 tasks      | elapsed:    9.5s\n",
      "[Parallel(n_jobs=10)]: Done 300 out of 300 | elapsed:   19.6s finished\n"
     ]
    }
   ],
   "source": [
    "rfc_preds=rfc.predict(tfidf_data_test_lem)"
   ]
  },
  {
   "cell_type": "code",
   "execution_count": 26,
   "id": "e0c40319-c323-48f0-88df-ac1921ae4862",
   "metadata": {},
   "outputs": [
    {
     "name": "stdout",
     "output_type": "stream",
     "text": [
      "0.7796055489588462\n",
      "0.7771464903277842\n"
     ]
    }
   ],
   "source": [
    "#Evaluation metrics\n",
    "print(metrics.accuracy_score(y_test, rfc_preds))\n",
    "print(metrics.f1_score(y_test, rfc_preds, average='weighted'))"
   ]
  },
  {
   "cell_type": "markdown",
   "id": "535c93b3-baea-42b0-815e-f0c5e14a3a52",
   "metadata": {},
   "source": [
    "### Random Forest w/ Gridsearch CV"
   ]
  },
  {
   "cell_type": "code",
   "execution_count": 16,
   "id": "8a2e8bdd-ee7d-4445-a81f-fadadc29c9fa",
   "metadata": {},
   "outputs": [],
   "source": [
    "rfc_gs= RandomForestClassifier(min_samples_split=2, random_state=0, n_jobs=-1, verbose=1)"
   ]
  },
  {
   "cell_type": "code",
   "execution_count": null,
   "id": "0a6c62cb-05e3-4930-84a0-faa47d64c90b",
   "metadata": {},
   "outputs": [
    {
     "name": "stderr",
     "output_type": "stream",
     "text": [
      "/Users/jeffreyng/miniforge3/lib/python3.9/site-packages/sklearn/model_selection/_split.py:676: UserWarning: The least populated class in y has only 2 members, which is less than n_splits=3.\n",
      "  warnings.warn(\n",
      "[Parallel(n_jobs=-1)]: Using backend LokyBackend with 10 concurrent workers.\n",
      "[Parallel(n_jobs=-1)]: Done  30 tasks      | elapsed:  9.2min\n",
      "[Parallel(n_jobs=-1)]: Done 180 tasks      | elapsed: 46.9min\n",
      "[Parallel(n_jobs=-1)]: Done 300 out of 300 | elapsed: 77.1min finished\n",
      "[Parallel(n_jobs=10)]: Using backend ThreadingBackend with 10 concurrent workers.\n",
      "[Parallel(n_jobs=10)]: Done  30 tasks      | elapsed:   36.2s\n",
      "[Parallel(n_jobs=10)]: Done 180 tasks      | elapsed:  2.8min\n",
      "[Parallel(n_jobs=10)]: Done 300 out of 300 | elapsed:  4.5min finished\n",
      "[Parallel(n_jobs=-1)]: Using backend LokyBackend with 10 concurrent workers.\n"
     ]
    }
   ],
   "source": [
    "from sklearn.model_selection import GridSearchCV\n",
    "forest_params = [{'warm_start': [True, False], 'n_estimators': [300, 350, 400, 500], 'criterion': ['gini', 'entropy'] }]\n",
    "\n",
    "clf = GridSearchCV(rfc_gs, forest_params, cv = 3, scoring='accuracy')\n",
    "\n",
    "clf.fit(tfidf_data_train_lem, y_train)"
   ]
  },
  {
   "cell_type": "code",
   "execution_count": 34,
   "id": "a965ab84-e230-47bb-b89b-aaecedf3f6b2",
   "metadata": {},
   "outputs": [
    {
     "name": "stderr",
     "output_type": "stream",
     "text": [
      "[Parallel(n_jobs=10)]: Using backend ThreadingBackend with 10 concurrent workers.\n",
      "[Parallel(n_jobs=10)]: Done  30 tasks      | elapsed:    4.1s\n",
      "[Parallel(n_jobs=10)]: Done  50 out of  50 | elapsed:    5.0s finished\n"
     ]
    }
   ],
   "source": [
    "gs_preds=clf.predict(tfidf_data_test_lem)"
   ]
  },
  {
   "cell_type": "code",
   "execution_count": 35,
   "id": "c3baa3a6-fa6b-4827-b8ae-83911adc18bb",
   "metadata": {},
   "outputs": [
    {
     "name": "stdout",
     "output_type": "stream",
     "text": [
      "0.14292333980132643\n",
      "0.13081426532121887\n"
     ]
    }
   ],
   "source": [
    "#Evaluation metrics\n",
    "print(metrics.accuracy_score(y_test, gs_preds))\n",
    "print(metrics.f1_score(y_test, gs_preds, average='weighted'))"
   ]
  },
  {
   "cell_type": "code",
   "execution_count": null,
   "id": "ae372023-aadb-4bd7-81b7-e7144644b3ec",
   "metadata": {},
   "outputs": [],
   "source": []
  },
  {
   "cell_type": "markdown",
   "id": "f6f0f3f4-f1a8-4c6d-ab65-82dc564c55b9",
   "metadata": {},
   "source": [
    "### We will find the sentiment score for each review "
   ]
  },
  {
   "cell_type": "code",
   "execution_count": 37,
   "id": "8e52558b-b6ef-41dd-8930-204a62a6c6ed",
   "metadata": {},
   "outputs": [
    {
     "data": {
      "text/plain": [
       "(63001, 9)"
      ]
     },
     "execution_count": 37,
     "metadata": {},
     "output_type": "execute_result"
    }
   ],
   "source": [
    "df.shape"
   ]
  },
  {
   "cell_type": "code",
   "execution_count": 53,
   "id": "ff768c0a-4baf-47ae-9e8e-3a5c74ab8015",
   "metadata": {},
   "outputs": [
    {
     "data": {
      "text/plain": [
       "0          0    We got this GPS for my husband who is an ...\n",
       "5          5    I am using this with a Nook HD+. It works...\n",
       "10         10    This item is just as was described in th...\n",
       "18         18     This is a great buy, compared to a $60 ...\n",
       "237        237    The Nook Tablet, in both the 16gb versi...\n",
       "                                 ...                        \n",
       "1689106    1689106    The Sabrent CR-CCU3 Card reader is ...\n",
       "1689125    1689125    Great hub for carrying around if yo...\n",
       "1689142    1689142    This is an interesting device in th...\n",
       "1689162    1689162    ...all part of the package that com...\n",
       "1689183    1689183    Burned these in before listening to...\n",
       "Name: reviewText, Length: 63001, dtype: object"
      ]
     },
     "execution_count": 53,
     "metadata": {},
     "output_type": "execute_result"
    }
   ],
   "source": [
    "df.reviewText"
   ]
  },
  {
   "cell_type": "code",
   "execution_count": 71,
   "id": "4ebce3fa-5c94-4eee-8344-c5b567813153",
   "metadata": {},
   "outputs": [],
   "source": [
    "import nltk\n",
    "from vaderSentiment.vaderSentiment import SentimentIntensityAnalyzer\n",
    "sid = SentimentIntensityAnalyzer()"
   ]
  },
  {
   "cell_type": "code",
   "execution_count": 82,
   "id": "d3b64a2b-8fbb-4d2a-8ea6-ebe3b4372cb7",
   "metadata": {},
   "outputs": [],
   "source": []
  },
  {
   "cell_type": "code",
   "execution_count": 95,
   "id": "797096e5-602b-4b05-9d4a-ea58645a7734",
   "metadata": {},
   "outputs": [
    {
     "name": "stderr",
     "output_type": "stream",
     "text": [
      "100%|████████████████████████████████| 1689188/1689188 [31:06<00:00, 904.93it/s]\n"
     ]
    }
   ],
   "source": [
    "sent=[sid.polarity_scores(x) for x in tqdm(df.reviewText)]"
   ]
  },
  {
   "cell_type": "code",
   "execution_count": null,
   "id": "dde3e25c-83ca-43b2-8132-492017b14b4a",
   "metadata": {},
   "outputs": [],
   "source": []
  },
  {
   "cell_type": "code",
   "execution_count": 110,
   "id": "da8f854d-d965-484a-8e66-756f66d1c8e7",
   "metadata": {},
   "outputs": [],
   "source": [
    "df['vader_score']=[sent[x].get('compound') for x in range(len(sent))]"
   ]
  },
  {
   "cell_type": "code",
   "execution_count": 113,
   "id": "006031a7-ec11-41a5-afd5-cc862244635b",
   "metadata": {},
   "outputs": [],
   "source": [
    "# Mapped Vader scores to integer counts for easier manipulation \n",
    "col         = 'vader_score'\n",
    "conditions  = [ df[col] >= .15, (df[col] < .1) & (df[col]> -.1), df[col] <= -.1 ]\n",
    "choices     = [ 1, 0, -1 ]\n",
    "df[\"vader_score\"] = np.select(conditions, choices, default=np.nan)  "
   ]
  },
  {
   "cell_type": "code",
   "execution_count": 115,
   "id": "f4f63d0c-6d73-43b0-850f-c86b1d4511e0",
   "metadata": {},
   "outputs": [],
   "source": [
    "#final mapping process\n",
    "df['vader_score']= df['vader_score'].map({-1:'negative', 0: 'neutral', 1:'positive'})"
   ]
  },
  {
   "cell_type": "code",
   "execution_count": 117,
   "id": "71280e02-4e71-42a7-8ee5-bf83a62955eb",
   "metadata": {},
   "outputs": [
    {
     "data": {
      "text/plain": [
       "positive    1399723\n",
       "negative     194525\n",
       "neutral       80603\n",
       "Name: vader_score, dtype: int64"
      ]
     },
     "execution_count": 117,
     "metadata": {},
     "output_type": "execute_result"
    }
   ],
   "source": [
    "df.vader_score.value_counts()"
   ]
  },
  {
   "cell_type": "code",
   "execution_count": null,
   "id": "08493153-7c78-4a7a-831f-4e4a7b064c5c",
   "metadata": {},
   "outputs": [],
   "source": []
  },
  {
   "cell_type": "code",
   "execution_count": null,
   "id": "72635dbc-ebf0-47e7-9024-e88d18895d59",
   "metadata": {},
   "outputs": [],
   "source": []
  },
  {
   "cell_type": "markdown",
   "id": "d3dc55eb-9052-426e-aa41-49530bbc7c1f",
   "metadata": {},
   "source": [
    "### We will use Spacy Embeddings for the df.reviewText"
   ]
  },
  {
   "cell_type": "code",
   "execution_count": 118,
   "id": "b1db4cf2-aceb-42cf-877b-5e7dfaebd53e",
   "metadata": {},
   "outputs": [],
   "source": [
    "#importing spacy \n",
    "import spacy\n",
    "nlp = spacy.load(\"en_core_web_lg\")"
   ]
  },
  {
   "cell_type": "code",
   "execution_count": 119,
   "id": "b0d6fa1e-05fa-4792-9daf-bcf7b25b6564",
   "metadata": {},
   "outputs": [],
   "source": [
    "#tokenizer\n",
    "spacy_tokenizer = nlp.tokenizer"
   ]
  },
  {
   "cell_type": "code",
   "execution_count": 120,
   "id": "a5447c12-4b73-488e-aa72-c6d8e62c33fb",
   "metadata": {},
   "outputs": [],
   "source": [
    "#function to take reviewText column an return word embedding\n",
    "def prep(x):\n",
    "    z=spacy_tokenizer(x) \n",
    "    z=nlp(z).vector.reshape(300,)\n",
    "    return z\n"
   ]
  },
  {
   "cell_type": "code",
   "execution_count": null,
   "id": "fab78887-3f99-41bd-9997-6531a35890ed",
   "metadata": {},
   "outputs": [],
   "source": []
  },
  {
   "cell_type": "markdown",
   "id": "caeb94ff-a1cf-413b-a06a-63a7d53b112f",
   "metadata": {},
   "source": [
    "### I also tried gensim for word embeddings"
   ]
  },
  {
   "cell_type": "code",
   "execution_count": 125,
   "id": "b17aa97f-f070-40ec-9b53-1850178b06ab",
   "metadata": {},
   "outputs": [],
   "source": [
    "import gensim\n",
    "# set the correct path to the file on your machine\n",
    "model = gensim.models.KeyedVectors.load_word2vec_format('~/Downloads/crawl-300d-2M.vec', binary=False)"
   ]
  },
  {
   "cell_type": "code",
   "execution_count": 145,
   "id": "a2ffc31d-1def-4296-af33-ec92244964a0",
   "metadata": {},
   "outputs": [],
   "source": [
    "def get_mean_vector(word2vec_model, words):\n",
    "    # remove out-of-vocabulary words\n",
    "    words = [word for word in words if word in word2vec_model.key_to_index]\n",
    "    if len(words) >= 1:\n",
    "        return np.mean(word2vec_model[words], axis=0)\n",
    "    else:\n",
    "        return []"
   ]
  },
  {
   "cell_type": "code",
   "execution_count": 156,
   "id": "2bd23045-277d-4af6-ba63-a5e97dcc15b0",
   "metadata": {},
   "outputs": [],
   "source": [
    "vec = [get_mean_vector(model, df.reviewText[i]) for i in tqdm(range(len(df.reviewText)))]\n",
    "vec"
   ]
  },
  {
   "cell_type": "code",
   "execution_count": null,
   "id": "72176917-fd3f-413a-9f2a-60fc1f3ed9ae",
   "metadata": {},
   "outputs": [],
   "source": [
    "len(vec)"
   ]
  },
  {
   "cell_type": "code",
   "execution_count": 158,
   "id": "da78da12-2345-45de-b7c6-b48b5e9c8f6e",
   "metadata": {},
   "outputs": [
    {
     "data": {
      "text/plain": [
       "300"
      ]
     },
     "execution_count": 158,
     "metadata": {},
     "output_type": "execute_result"
    }
   ],
   "source": [
    "len(vec[0])"
   ]
  },
  {
   "cell_type": "markdown",
   "id": "221adfb2-5857-4e2c-996e-bc4c345120b3",
   "metadata": {},
   "source": [
    "### The recommendation algo "
   ]
  },
  {
   "cell_type": "code",
   "execution_count": 472,
   "id": "1b79711a-3fe1-418a-8f2f-532ff2c47c51",
   "metadata": {},
   "outputs": [],
   "source": [
    "ser=pd.Series(['gps'])\n",
    "dat=pd.DataFrame(ser)\n",
    "dat.rename(columns={0:'inventory'}, inplace=True)"
   ]
  },
  {
   "cell_type": "code",
   "execution_count": 475,
   "id": "ca6feb9e-b22b-497a-92cd-2ea7d8118bc6",
   "metadata": {},
   "outputs": [
    {
     "data": {
      "text/plain": [
       "'Handheld GPS Units'"
      ]
     },
     "execution_count": 475,
     "metadata": {},
     "output_type": "execute_result"
    }
   ],
   "source": [
    "str(y_pred[0])"
   ]
  },
  {
   "cell_type": "code",
   "execution_count": null,
   "id": "78f20f10-1ee9-44be-9c2b-0f75151eb6cf",
   "metadata": {},
   "outputs": [],
   "source": [
    "#We enter our keyword search and create a df to be predicted upon\n",
    "tfidf_data_lem = tfidf.transform(dat.inventory)\n",
    "#predict our df\n",
    "y_pred=rfc.predict(tfidf_data_lem)\n",
    "#finds similar product content based \n",
    "new_df=load_df[load_df.tag==str(y_pred[0])]\n",
    "#asks user to find the price range \n",
    "selected=new_df[new_df['price']<'$200.00'].reviewText\n",
    "#asks user to select from a given set of items \n",
    "\n",
    "\n",
    "#word embeddings calculated for cosine similarity\n",
    "rev_vec=[prep(x) for x in selected]\n"
   ]
  },
  {
   "cell_type": "code",
   "execution_count": 504,
   "id": "cb8eb5d8-9bd0-4ac9-a9c6-7e9f1c06c228",
   "metadata": {},
   "outputs": [
    {
     "data": {
      "text/plain": [
       "1269        [Magellan GPS 315 Waterproof Hiking GPS]\n",
       "1270        [Magellan GPS 315 Waterproof Hiking GPS]\n",
       "1271        [Magellan GPS 315 Waterproof Hiking GPS]\n",
       "1272        [Magellan GPS 315 Waterproof Hiking GPS]\n",
       "1273        [Magellan GPS 315 Waterproof Hiking GPS]\n",
       "                             ...                    \n",
       "700258    [Garmin GPSMAP 62S Handheld GPS Navigator]\n",
       "700259    [Garmin GPSMAP 62S Handheld GPS Navigator]\n",
       "700260    [Garmin GPSMAP 62S Handheld GPS Navigator]\n",
       "700261    [Garmin GPSMAP 62S Handheld GPS Navigator]\n",
       "700262    [Garmin GPSMAP 62S Handheld GPS Navigator]\n",
       "Name: item, Length: 6058, dtype: object"
      ]
     },
     "execution_count": 504,
     "metadata": {},
     "output_type": "execute_result"
    }
   ],
   "source": [
    "new_df.item"
   ]
  },
  {
   "cell_type": "code",
   "execution_count": 509,
   "id": "4e6b26bb-2e99-40bb-8863-2226ad23149e",
   "metadata": {},
   "outputs": [
    {
     "data": {
      "text/html": [
       "<div>\n",
       "<style scoped>\n",
       "    .dataframe tbody tr th:only-of-type {\n",
       "        vertical-align: middle;\n",
       "    }\n",
       "\n",
       "    .dataframe tbody tr th {\n",
       "        vertical-align: top;\n",
       "    }\n",
       "\n",
       "    .dataframe thead th {\n",
       "        text-align: right;\n",
       "    }\n",
       "</style>\n",
       "<table border=\"1\" class=\"dataframe\">\n",
       "  <thead>\n",
       "    <tr style=\"text-align: right;\">\n",
       "      <th></th>\n",
       "      <th>reviewerID</th>\n",
       "      <th>asin</th>\n",
       "      <th>reviewerName</th>\n",
       "      <th>helpful</th>\n",
       "      <th>reviewText</th>\n",
       "      <th>overall</th>\n",
       "      <th>summary</th>\n",
       "      <th>unixReviewTime</th>\n",
       "      <th>reviewTime</th>\n",
       "      <th>item</th>\n",
       "      <th>tag</th>\n",
       "      <th>price</th>\n",
       "    </tr>\n",
       "  </thead>\n",
       "  <tbody>\n",
       "  </tbody>\n",
       "</table>\n",
       "</div>"
      ],
      "text/plain": [
       "Empty DataFrame\n",
       "Columns: [reviewerID, asin, reviewerName, helpful, reviewText, overall, summary, unixReviewTime, reviewTime, item, tag, price]\n",
       "Index: []"
      ]
     },
     "execution_count": 509,
     "metadata": {},
     "output_type": "execute_result"
    }
   ],
   "source": [
    "new_df[new_df['item']=='Magellan GPS 315 Waterproof Hiking GPS']\n"
   ]
  },
  {
   "cell_type": "code",
   "execution_count": 505,
   "id": "3f479c15-eac0-4272-a221-997e882517b6",
   "metadata": {},
   "outputs": [
    {
     "ename": "KeyError",
     "evalue": "0",
     "output_type": "error",
     "traceback": [
      "\u001b[0;31m---------------------------------------------------------------------------\u001b[0m",
      "\u001b[0;31mKeyError\u001b[0m                                  Traceback (most recent call last)",
      "\u001b[0;32m~/miniforge3/lib/python3.9/site-packages/pandas/core/indexes/base.py\u001b[0m in \u001b[0;36mget_loc\u001b[0;34m(self, key, method, tolerance)\u001b[0m\n\u001b[1;32m   3360\u001b[0m             \u001b[0;32mtry\u001b[0m\u001b[0;34m:\u001b[0m\u001b[0;34m\u001b[0m\u001b[0;34m\u001b[0m\u001b[0m\n\u001b[0;32m-> 3361\u001b[0;31m                 \u001b[0;32mreturn\u001b[0m \u001b[0mself\u001b[0m\u001b[0;34m.\u001b[0m\u001b[0m_engine\u001b[0m\u001b[0;34m.\u001b[0m\u001b[0mget_loc\u001b[0m\u001b[0;34m(\u001b[0m\u001b[0mcasted_key\u001b[0m\u001b[0;34m)\u001b[0m\u001b[0;34m\u001b[0m\u001b[0;34m\u001b[0m\u001b[0m\n\u001b[0m\u001b[1;32m   3362\u001b[0m             \u001b[0;32mexcept\u001b[0m \u001b[0mKeyError\u001b[0m \u001b[0;32mas\u001b[0m \u001b[0merr\u001b[0m\u001b[0;34m:\u001b[0m\u001b[0;34m\u001b[0m\u001b[0;34m\u001b[0m\u001b[0m\n",
      "\u001b[0;32m~/miniforge3/lib/python3.9/site-packages/pandas/_libs/index.pyx\u001b[0m in \u001b[0;36mpandas._libs.index.IndexEngine.get_loc\u001b[0;34m()\u001b[0m\n",
      "\u001b[0;32m~/miniforge3/lib/python3.9/site-packages/pandas/_libs/index.pyx\u001b[0m in \u001b[0;36mpandas._libs.index.IndexEngine.get_loc\u001b[0;34m()\u001b[0m\n",
      "\u001b[0;32mpandas/_libs/hashtable_class_helper.pxi\u001b[0m in \u001b[0;36mpandas._libs.hashtable.Int64HashTable.get_item\u001b[0;34m()\u001b[0m\n",
      "\u001b[0;32mpandas/_libs/hashtable_class_helper.pxi\u001b[0m in \u001b[0;36mpandas._libs.hashtable.Int64HashTable.get_item\u001b[0;34m()\u001b[0m\n",
      "\u001b[0;31mKeyError\u001b[0m: 0",
      "\nThe above exception was the direct cause of the following exception:\n",
      "\u001b[0;31mKeyError\u001b[0m                                  Traceback (most recent call last)",
      "\u001b[0;32m/var/folders/48/3rfqt3q17zj4zsvn_9rh50br0000gn/T/ipykernel_10716/3634298577.py\u001b[0m in \u001b[0;36m<module>\u001b[0;34m\u001b[0m\n\u001b[1;32m      1\u001b[0m \u001b[0mq\u001b[0m\u001b[0;34m=\u001b[0m \u001b[0mnew_df\u001b[0m\u001b[0;34m[\u001b[0m\u001b[0mnew_df\u001b[0m\u001b[0;34m[\u001b[0m\u001b[0;34m'item'\u001b[0m\u001b[0;34m]\u001b[0m\u001b[0;34m==\u001b[0m\u001b[0;34m'Magellan GPS 315 Waterproof Hiking GPS'\u001b[0m\u001b[0;34m]\u001b[0m\u001b[0;34m.\u001b[0m\u001b[0mreviewText\u001b[0m\u001b[0;34m\u001b[0m\u001b[0;34m\u001b[0m\u001b[0m\n\u001b[1;32m      2\u001b[0m \u001b[0;34m\u001b[0m\u001b[0m\n\u001b[0;32m----> 3\u001b[0;31m \u001b[0mref_vec\u001b[0m\u001b[0;34m=\u001b[0m\u001b[0mprep\u001b[0m\u001b[0;34m(\u001b[0m\u001b[0mq\u001b[0m\u001b[0;34m[\u001b[0m\u001b[0;36m0\u001b[0m\u001b[0;34m]\u001b[0m\u001b[0;34m)\u001b[0m\u001b[0;34m\u001b[0m\u001b[0;34m\u001b[0m\u001b[0m\n\u001b[0m\u001b[1;32m      4\u001b[0m \u001b[0;34m\u001b[0m\u001b[0m\n\u001b[1;32m      5\u001b[0m \u001b[0mlistA\u001b[0m\u001b[0;34m=\u001b[0m\u001b[0;34m[\u001b[0m\u001b[0;34m]\u001b[0m\u001b[0;34m\u001b[0m\u001b[0;34m\u001b[0m\u001b[0m\n",
      "\u001b[0;32m~/miniforge3/lib/python3.9/site-packages/pandas/core/series.py\u001b[0m in \u001b[0;36m__getitem__\u001b[0;34m(self, key)\u001b[0m\n\u001b[1;32m    940\u001b[0m \u001b[0;34m\u001b[0m\u001b[0m\n\u001b[1;32m    941\u001b[0m         \u001b[0;32melif\u001b[0m \u001b[0mkey_is_scalar\u001b[0m\u001b[0;34m:\u001b[0m\u001b[0;34m\u001b[0m\u001b[0;34m\u001b[0m\u001b[0m\n\u001b[0;32m--> 942\u001b[0;31m             \u001b[0;32mreturn\u001b[0m \u001b[0mself\u001b[0m\u001b[0;34m.\u001b[0m\u001b[0m_get_value\u001b[0m\u001b[0;34m(\u001b[0m\u001b[0mkey\u001b[0m\u001b[0;34m)\u001b[0m\u001b[0;34m\u001b[0m\u001b[0;34m\u001b[0m\u001b[0m\n\u001b[0m\u001b[1;32m    943\u001b[0m \u001b[0;34m\u001b[0m\u001b[0m\n\u001b[1;32m    944\u001b[0m         \u001b[0;32mif\u001b[0m \u001b[0mis_hashable\u001b[0m\u001b[0;34m(\u001b[0m\u001b[0mkey\u001b[0m\u001b[0;34m)\u001b[0m\u001b[0;34m:\u001b[0m\u001b[0;34m\u001b[0m\u001b[0;34m\u001b[0m\u001b[0m\n",
      "\u001b[0;32m~/miniforge3/lib/python3.9/site-packages/pandas/core/series.py\u001b[0m in \u001b[0;36m_get_value\u001b[0;34m(self, label, takeable)\u001b[0m\n\u001b[1;32m   1049\u001b[0m \u001b[0;34m\u001b[0m\u001b[0m\n\u001b[1;32m   1050\u001b[0m         \u001b[0;31m# Similar to Index.get_value, but we do not fall back to positional\u001b[0m\u001b[0;34m\u001b[0m\u001b[0;34m\u001b[0m\u001b[0m\n\u001b[0;32m-> 1051\u001b[0;31m         \u001b[0mloc\u001b[0m \u001b[0;34m=\u001b[0m \u001b[0mself\u001b[0m\u001b[0;34m.\u001b[0m\u001b[0mindex\u001b[0m\u001b[0;34m.\u001b[0m\u001b[0mget_loc\u001b[0m\u001b[0;34m(\u001b[0m\u001b[0mlabel\u001b[0m\u001b[0;34m)\u001b[0m\u001b[0;34m\u001b[0m\u001b[0;34m\u001b[0m\u001b[0m\n\u001b[0m\u001b[1;32m   1052\u001b[0m         \u001b[0;32mreturn\u001b[0m \u001b[0mself\u001b[0m\u001b[0;34m.\u001b[0m\u001b[0mindex\u001b[0m\u001b[0;34m.\u001b[0m\u001b[0m_get_values_for_loc\u001b[0m\u001b[0;34m(\u001b[0m\u001b[0mself\u001b[0m\u001b[0;34m,\u001b[0m \u001b[0mloc\u001b[0m\u001b[0;34m,\u001b[0m \u001b[0mlabel\u001b[0m\u001b[0;34m)\u001b[0m\u001b[0;34m\u001b[0m\u001b[0;34m\u001b[0m\u001b[0m\n\u001b[1;32m   1053\u001b[0m \u001b[0;34m\u001b[0m\u001b[0m\n",
      "\u001b[0;32m~/miniforge3/lib/python3.9/site-packages/pandas/core/indexes/base.py\u001b[0m in \u001b[0;36mget_loc\u001b[0;34m(self, key, method, tolerance)\u001b[0m\n\u001b[1;32m   3361\u001b[0m                 \u001b[0;32mreturn\u001b[0m \u001b[0mself\u001b[0m\u001b[0;34m.\u001b[0m\u001b[0m_engine\u001b[0m\u001b[0;34m.\u001b[0m\u001b[0mget_loc\u001b[0m\u001b[0;34m(\u001b[0m\u001b[0mcasted_key\u001b[0m\u001b[0;34m)\u001b[0m\u001b[0;34m\u001b[0m\u001b[0;34m\u001b[0m\u001b[0m\n\u001b[1;32m   3362\u001b[0m             \u001b[0;32mexcept\u001b[0m \u001b[0mKeyError\u001b[0m \u001b[0;32mas\u001b[0m \u001b[0merr\u001b[0m\u001b[0;34m:\u001b[0m\u001b[0;34m\u001b[0m\u001b[0;34m\u001b[0m\u001b[0m\n\u001b[0;32m-> 3363\u001b[0;31m                 \u001b[0;32mraise\u001b[0m \u001b[0mKeyError\u001b[0m\u001b[0;34m(\u001b[0m\u001b[0mkey\u001b[0m\u001b[0;34m)\u001b[0m \u001b[0;32mfrom\u001b[0m \u001b[0merr\u001b[0m\u001b[0;34m\u001b[0m\u001b[0;34m\u001b[0m\u001b[0m\n\u001b[0m\u001b[1;32m   3364\u001b[0m \u001b[0;34m\u001b[0m\u001b[0m\n\u001b[1;32m   3365\u001b[0m         \u001b[0;32mif\u001b[0m \u001b[0mis_scalar\u001b[0m\u001b[0;34m(\u001b[0m\u001b[0mkey\u001b[0m\u001b[0;34m)\u001b[0m \u001b[0;32mand\u001b[0m \u001b[0misna\u001b[0m\u001b[0;34m(\u001b[0m\u001b[0mkey\u001b[0m\u001b[0;34m)\u001b[0m \u001b[0;32mand\u001b[0m \u001b[0;32mnot\u001b[0m \u001b[0mself\u001b[0m\u001b[0;34m.\u001b[0m\u001b[0mhasnans\u001b[0m\u001b[0;34m:\u001b[0m\u001b[0;34m\u001b[0m\u001b[0;34m\u001b[0m\u001b[0m\n",
      "\u001b[0;31mKeyError\u001b[0m: 0"
     ]
    }
   ],
   "source": [
    "q= new_df[new_df['item']=='Magellan GPS 315 Waterproof Hiking GPS'].reviewText\n",
    "\n",
    "ref_vec=prep(q[0])\n",
    "\n",
    "listA=[]\n",
    "for i in range(len(rev_vec)):\n",
    "    listA.append(np.dot(rev_vec[i], ref_vec )/(np.linalg.norm(rev_vec[i])*np.linalg.norm(ref_vec)))\n",
    "    ser= listA\n",
    "    new_df['cosine_sim']=ser"
   ]
  },
  {
   "cell_type": "code",
   "execution_count": null,
   "id": "afb787f4-c011-4308-9465-aa7f82a28022",
   "metadata": {},
   "outputs": [],
   "source": []
  }
 ],
 "metadata": {
  "kernelspec": {
   "display_name": "Python 3 (ipykernel)",
   "language": "python",
   "name": "python3"
  },
  "language_info": {
   "codemirror_mode": {
    "name": "ipython",
    "version": 3
   },
   "file_extension": ".py",
   "mimetype": "text/x-python",
   "name": "python",
   "nbconvert_exporter": "python",
   "pygments_lexer": "ipython3",
   "version": "3.9.7"
  }
 },
 "nbformat": 4,
 "nbformat_minor": 5
}
