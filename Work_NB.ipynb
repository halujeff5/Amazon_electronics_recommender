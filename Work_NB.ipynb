{
 "cells": [
  {
   "cell_type": "markdown",
   "id": "2dc53171-b635-471d-a044-54129e9dd720",
   "metadata": {},
   "source": [
    "## Work Notebook\n",
    "### Algorithm of Content-Based Rec Engine - find similar products according a tag classifier followed by cosine similarity by Spacy embeddings of reviewText "
   ]
  },
  {
   "cell_type": "code",
   "execution_count": 1,
   "id": "e7da05d0-65dd-4620-ae13-eae74033ba7e",
   "metadata": {},
   "outputs": [],
   "source": [
    "import pandas as pd\n",
    "import numpy as np\n",
    "import seaborn as sns\n",
    "import matplotlib.pyplot as plt\n",
    "import pickle"
   ]
  },
  {
   "cell_type": "code",
   "execution_count": 2,
   "id": "f194a513-49b8-4b2a-acb6-320ab08637fb",
   "metadata": {},
   "outputs": [],
   "source": [
    "#loading downloaded data\n",
    "df=pd.read_json('~/Downloads/reviews_Electronics_5.json', lines=True)"
   ]
  },
  {
   "cell_type": "markdown",
   "id": "7aeb82bf-99dd-4bc3-9cce-e8473016be2f",
   "metadata": {},
   "source": [
    "### Loading pickled webscraping files"
   ]
  },
  {
   "cell_type": "code",
   "execution_count": 3,
   "id": "d2ebff01-6505-462c-96a5-96384378d85f",
   "metadata": {},
   "outputs": [],
   "source": [
    "\n",
    "with open('df.pickle', 'rb') as file:\n",
    "      \n",
    "    # Call load method to deserialze\n",
    "    df = pickle.load(file)\n"
   ]
  },
  {
   "cell_type": "markdown",
   "id": "34e4228c-9fc2-4257-a25b-9886d827111c",
   "metadata": {},
   "source": [
    "### We will train a model that classifies user input (item) into appropriate tag labels "
   ]
  },
  {
   "cell_type": "code",
   "execution_count": null,
   "id": "3963f255-9bd3-4e1d-bce2-716979781986",
   "metadata": {},
   "outputs": [],
   "source": [
    "with open('tagzz.pickle', 'rb') as file:\n",
    "    tagzz = pickle.load(file)"
   ]
  },
  {
   "cell_type": "code",
   "execution_count": null,
   "id": "9447638b-ffda-43e1-a491-eb9315eec14c",
   "metadata": {},
   "outputs": [],
   "source": [
    "df"
   ]
  },
  {
   "cell_type": "code",
   "execution_count": null,
   "id": "fa6479f3-1620-4696-9a43-b810733a74e3",
   "metadata": {},
   "outputs": [],
   "source": []
  },
  {
   "cell_type": "code",
   "execution_count": null,
   "id": "9b52d66e-7799-494c-b1e0-d3b4596730e5",
   "metadata": {},
   "outputs": [],
   "source": []
  },
  {
   "cell_type": "code",
   "execution_count": null,
   "id": "74c6af09-4495-4a6c-b708-e0b46e13184f",
   "metadata": {},
   "outputs": [],
   "source": []
  },
  {
   "cell_type": "code",
   "execution_count": null,
   "id": "c96118cb-6841-4caf-a913-f6645ec621ab",
   "metadata": {},
   "outputs": [],
   "source": []
  },
  {
   "cell_type": "code",
   "execution_count": null,
   "id": "e0108cfd-933b-46ec-88ae-2eddd60e47f3",
   "metadata": {},
   "outputs": [],
   "source": []
  },
  {
   "cell_type": "markdown",
   "id": "f6f0f3f4-f1a8-4c6d-ab65-82dc564c55b9",
   "metadata": {},
   "source": [
    "### We will use Spacy Embeddings for the df.reviewText and do cosine similarity to find similar products"
   ]
  },
  {
   "cell_type": "code",
   "execution_count": null,
   "id": "e8882134-9e80-4b90-99ea-f389d99aada2",
   "metadata": {},
   "outputs": [],
   "source": []
  },
  {
   "cell_type": "code",
   "execution_count": 32,
   "id": "fb528c8e-d08c-41f9-8b67-50433940f10b",
   "metadata": {},
   "outputs": [
    {
     "name": "stderr",
     "output_type": "stream",
     "text": [
      "100%|███████████████████████████████████| 63001/63001 [1:22:24<00:00, 12.74it/s]\n"
     ]
    }
   ],
   "source": [
    "from tqdm import tqdm\n",
    "revs=[]\n",
    "for x in tqdm(df.asin.unique()[0:]):    \n",
    "    revs.append(df[df.asin==str(x)].reviewText)"
   ]
  },
  {
   "cell_type": "code",
   "execution_count": 34,
   "id": "c6918778-c595-4933-812b-b7513fbb86d8",
   "metadata": {},
   "outputs": [
    {
     "data": {
      "text/plain": [
       "63001"
      ]
     },
     "execution_count": 34,
     "metadata": {},
     "output_type": "execute_result"
    }
   ],
   "source": [
    "len(revs)"
   ]
  },
  {
   "cell_type": "code",
   "execution_count": 36,
   "id": "b903ddcf-36c1-4106-a6ed-3d75c538c0f1",
   "metadata": {},
   "outputs": [],
   "source": [
    "#cleaning up df\n",
    "df.drop_duplicates(subset='asin', inplace=True)"
   ]
  },
  {
   "cell_type": "code",
   "execution_count": 37,
   "id": "8e52558b-b6ef-41dd-8930-204a62a6c6ed",
   "metadata": {},
   "outputs": [
    {
     "data": {
      "text/plain": [
       "(63001, 9)"
      ]
     },
     "execution_count": 37,
     "metadata": {},
     "output_type": "execute_result"
    }
   ],
   "source": [
    "df.shape"
   ]
  },
  {
   "cell_type": "code",
   "execution_count": 52,
   "id": "47f431a3-ee5a-42ca-8463-af5ddab276b5",
   "metadata": {},
   "outputs": [],
   "source": [
    "df.reviewText=revs"
   ]
  },
  {
   "cell_type": "code",
   "execution_count": 53,
   "id": "ff768c0a-4baf-47ae-9e8e-3a5c74ab8015",
   "metadata": {},
   "outputs": [
    {
     "data": {
      "text/plain": [
       "0          0    We got this GPS for my husband who is an ...\n",
       "5          5    I am using this with a Nook HD+. It works...\n",
       "10         10    This item is just as was described in th...\n",
       "18         18     This is a great buy, compared to a $60 ...\n",
       "237        237    The Nook Tablet, in both the 16gb versi...\n",
       "                                 ...                        \n",
       "1689106    1689106    The Sabrent CR-CCU3 Card reader is ...\n",
       "1689125    1689125    Great hub for carrying around if yo...\n",
       "1689142    1689142    This is an interesting device in th...\n",
       "1689162    1689162    ...all part of the package that com...\n",
       "1689183    1689183    Burned these in before listening to...\n",
       "Name: reviewText, Length: 63001, dtype: object"
      ]
     },
     "execution_count": 53,
     "metadata": {},
     "output_type": "execute_result"
    }
   ],
   "source": [
    "df.reviewText"
   ]
  },
  {
   "cell_type": "code",
   "execution_count": 71,
   "id": "4ebce3fa-5c94-4eee-8344-c5b567813153",
   "metadata": {},
   "outputs": [],
   "source": [
    "import nltk\n",
    "from vaderSentiment.vaderSentiment import SentimentIntensityAnalyzer\n",
    "sid = SentimentIntensityAnalyzer()"
   ]
  },
  {
   "cell_type": "code",
   "execution_count": null,
   "id": "d3b64a2b-8fbb-4d2a-8ea6-ebe3b4372cb7",
   "metadata": {},
   "outputs": [],
   "source": [
    "def polar(x):\n",
    "    data=sid.polarity_scores(x)\n",
    "    data"
   ]
  },
  {
   "cell_type": "code",
   "execution_count": null,
   "id": "797096e5-602b-4b05-9d4a-ea58645a7734",
   "metadata": {},
   "outputs": [
    {
     "name": "stderr",
     "output_type": "stream",
     "text": [
      " 93%|███████████████████████████████▍  | 58311/63001 [37:21:50<06:47, 11.51it/s]"
     ]
    }
   ],
   "source": [
    "sent=[polar(x) for x in tqdm(revs)]"
   ]
  },
  {
   "cell_type": "code",
   "execution_count": null,
   "id": "da8f854d-d965-484a-8e66-756f66d1c8e7",
   "metadata": {},
   "outputs": [],
   "source": [
    "sent[0]"
   ]
  },
  {
   "cell_type": "code",
   "execution_count": null,
   "id": "006031a7-ec11-41a5-afd5-cc862244635b",
   "metadata": {},
   "outputs": [],
   "source": []
  },
  {
   "cell_type": "code",
   "execution_count": null,
   "id": "f4f63d0c-6d73-43b0-850f-c86b1d4511e0",
   "metadata": {},
   "outputs": [],
   "source": []
  },
  {
   "cell_type": "code",
   "execution_count": null,
   "id": "71280e02-4e71-42a7-8ee5-bf83a62955eb",
   "metadata": {},
   "outputs": [],
   "source": []
  },
  {
   "cell_type": "code",
   "execution_count": null,
   "id": "08493153-7c78-4a7a-831f-4e4a7b064c5c",
   "metadata": {},
   "outputs": [],
   "source": []
  },
  {
   "cell_type": "code",
   "execution_count": null,
   "id": "72635dbc-ebf0-47e7-9024-e88d18895d59",
   "metadata": {},
   "outputs": [],
   "source": []
  },
  {
   "cell_type": "markdown",
   "id": "d3dc55eb-9052-426e-aa41-49530bbc7c1f",
   "metadata": {},
   "source": [
    "### Then we combine the two inputs "
   ]
  },
  {
   "cell_type": "code",
   "execution_count": null,
   "id": "3f479c15-eac0-4272-a221-997e882517b6",
   "metadata": {},
   "outputs": [],
   "source": [
    "model=Models.Sequential()\n",
    "model1 = Sequential()\n",
    "\n",
    "model2 = Model(inputs=[model.input, model1.input], outputs=x)"
   ]
  }
 ],
 "metadata": {
  "kernelspec": {
   "display_name": "Python 3 (ipykernel)",
   "language": "python",
   "name": "python3"
  },
  "language_info": {
   "codemirror_mode": {
    "name": "ipython",
    "version": 3
   },
   "file_extension": ".py",
   "mimetype": "text/x-python",
   "name": "python",
   "nbconvert_exporter": "python",
   "pygments_lexer": "ipython3",
   "version": "3.9.7"
  }
 },
 "nbformat": 4,
 "nbformat_minor": 5
}
